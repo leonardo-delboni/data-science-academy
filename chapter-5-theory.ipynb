{
 "cells": [
  {
   "cell_type": "markdown",
   "id": "b96a8cd4",
   "metadata": {},
   "source": [
    "## Data Science Academy (DSA) - wwww.datascienceacademy.com.br\n",
    "### Course:  Python Fundamentos para Análise de Dados (PT-BR)\n",
    "###                Python Fundamentals to Data Analysis (ENG-US)\n",
    "### Student: Leonardo Travagini Delboni\n",
    "#### Chapter 5 - Object-Oriented Programming\n",
    "####                    Theory and Summary of the chapter\n",
    "#### Created by Data Science Academy\n",
    "#### __Developed by Leonardo Travagini Delboni__"
   ]
  },
  {
   "cell_type": "markdown",
   "id": "bf414c8c",
   "metadata": {},
   "source": [
    "# Objected-Oriented Programming (OOP)\n",
    "#### Examples: Java, C++, C#, Ruby, Lisp, Python, ...\n",
    "####  Class, class atributes, class methods, objects instaciation, inheritance, special methods, ...\n",
    "#### Def: OOP is a model of analysis, project and programming of software systems based on the composition and interation among the several software units called \"objects\".\n",
    "#### OOP tries to get closer the real world to the virtual one, through the conversation among objects"
   ]
  },
  {
   "cell_type": "markdown",
   "id": "1fd325b8",
   "metadata": {},
   "source": [
    "# Structured Programming (SP)\n",
    "#### Sequence, Choice, Iteration (Repetition)\n",
    "\n",
    "# x\n",
    "\n",
    "# Objected-Oriented Programming (OOP)\n",
    "#### Objects have atributes (characteristics/properties) and methods (actions)\n",
    "#### Ex: Dog (object) has a size and a weight (atributes) and methods (sleep, run, bark, etc)\n",
    "#### Concepts:\n",
    "    Class\n",
    "    Object\n",
    "    Atributes\n",
    "    Methods\n",
    "    Message\n",
    "    Inheritance\n",
    "    Polimorfism\n",
    "    Encapsulation"
   ]
  },
  {
   "cell_type": "markdown",
   "id": "406d725e",
   "metadata": {},
   "source": [
    "# Class\n",
    "#### Class is a model, a template, in whice you build instances (the objects).\n",
    "#### Using the reserved word \"Class\", you creat the wished class\n",
    "# Object\n",
    "#### Objects are instances inside a class. Each object has its own methods."
   ]
  },
  {
   "cell_type": "markdown",
   "id": "1e4f6625",
   "metadata": {},
   "source": [
    "# First example:"
   ]
  },
  {
   "cell_type": "code",
   "execution_count": 2,
   "id": "95711c03",
   "metadata": {},
   "outputs": [],
   "source": [
    "# Creating the class Book:\n",
    "class Book():\n",
    "    \n",
    "    # __init__() is a method that starts each object from this class\n",
    "    # (self) is a reference for each attribute of an object from this class:\n",
    "    def __init__(self):\n",
    "        \n",
    "        # List of attributes for each object of this class\n",
    "        # .self indicates that these are object attributes:\n",
    "        self.title = 'O Monge e o Executivo'\n",
    "        self.isbn = 9988888\n",
    "        print('Builder called to creat an object of this class!')\n",
    "    \n",
    "    # Methods are functions that receive the attributes as parameters:\n",
    "    def imprime(self):\n",
    "        print(\"It was created the book %s with the ISBN %d\" %(self.title, self.isbn))"
   ]
  },
  {
   "cell_type": "code",
   "execution_count": 3,
   "id": "7775f18a",
   "metadata": {},
   "outputs": [
    {
     "name": "stdout",
     "output_type": "stream",
     "text": [
      "Builder called to creat an object of this class!\n"
     ]
    }
   ],
   "source": [
    "Livro = Book()"
   ]
  },
  {
   "cell_type": "code",
   "execution_count": 4,
   "id": "ed1f67c5",
   "metadata": {},
   "outputs": [
    {
     "data": {
      "text/plain": [
       "__main__.Book"
      ]
     },
     "execution_count": 4,
     "metadata": {},
     "output_type": "execute_result"
    }
   ],
   "source": [
    "type(Livro)"
   ]
  },
  {
   "cell_type": "markdown",
   "id": "2f33edec",
   "metadata": {},
   "source": [
    "### To recall the attribute:"
   ]
  },
  {
   "cell_type": "code",
   "execution_count": 8,
   "id": "f97daf1a",
   "metadata": {},
   "outputs": [
    {
     "data": {
      "text/plain": [
       "'O Monge e o Executivo'"
      ]
     },
     "execution_count": 8,
     "metadata": {},
     "output_type": "execute_result"
    }
   ],
   "source": [
    "# Using the attribute related to the object:\n",
    "Livro.title"
   ]
  },
  {
   "cell_type": "markdown",
   "id": "0a81504c",
   "metadata": {},
   "source": [
    "### To recall the method - using the () is needed:"
   ]
  },
  {
   "cell_type": "code",
   "execution_count": 9,
   "id": "9fcf2920",
   "metadata": {},
   "outputs": [
    {
     "name": "stdout",
     "output_type": "stream",
     "text": [
      "It was created the book O Monge e o Executivo with the ISBN 9988888\n"
     ]
    }
   ],
   "source": [
    "# Using the method() related to the object:\n",
    "Livro.imprime()"
   ]
  },
  {
   "cell_type": "markdown",
   "id": "eb851075",
   "metadata": {},
   "source": [
    "# Second Example - Builder Method:"
   ]
  },
  {
   "cell_type": "code",
   "execution_count": 12,
   "id": "0a1f65cb",
   "metadata": {},
   "outputs": [],
   "source": [
    "class Livro():\n",
    "    def __init__(self,titulo,isbn):\n",
    "        self.titulo = titulo\n",
    "        self.isbn = isbn\n",
    "        print('Builder called to creat a new object for the class Livro()')\n",
    "        \n",
    "    def imprime(self, titulo, isbn):\n",
    "        print('This book has the title %s and the ISBN %d' %(titulo, isbn))"
   ]
  },
  {
   "cell_type": "code",
   "execution_count": 13,
   "id": "792b3452",
   "metadata": {},
   "outputs": [
    {
     "name": "stdout",
     "output_type": "stream",
     "text": [
      "Builder called to creat a new object for the class Livro()\n"
     ]
    }
   ],
   "source": [
    "# Creating a new book:\n",
    "livro2 = Livro('A Menina que Roubava Livros', 77886611)"
   ]
  },
  {
   "cell_type": "code",
   "execution_count": 19,
   "id": "8ac327d0",
   "metadata": {},
   "outputs": [
    {
     "data": {
      "text/plain": [
       "'A Menina que Roubava Livros'"
      ]
     },
     "execution_count": 19,
     "metadata": {},
     "output_type": "execute_result"
    }
   ],
   "source": [
    "# Calling the attributes of the new book - attribute 1 (title):\n",
    "livro2.titulo"
   ]
  },
  {
   "cell_type": "code",
   "execution_count": 20,
   "id": "a9ba2ecd",
   "metadata": {},
   "outputs": [
    {
     "data": {
      "text/plain": [
       "77886611"
      ]
     },
     "execution_count": 20,
     "metadata": {},
     "output_type": "execute_result"
    }
   ],
   "source": [
    "# Calling the attributes of the new book - attribute 2 (isbn):\n",
    "livro2.isbn"
   ]
  },
  {
   "cell_type": "code",
   "execution_count": 21,
   "id": "4635c09c",
   "metadata": {},
   "outputs": [
    {
     "name": "stdout",
     "output_type": "stream",
     "text": [
      "This book has the title A Menina que Roubava Livros and the ISBN 77886611\n"
     ]
    }
   ],
   "source": [
    "# Calling the method - needed the () and the parameters:\n",
    "livro2.imprime(livro2.titulo, livro2.isbn)"
   ]
  },
  {
   "cell_type": "markdown",
   "id": "d885dd19",
   "metadata": {},
   "source": [
    "# Example 3:"
   ]
  },
  {
   "cell_type": "code",
   "execution_count": 40,
   "id": "983bdb0b",
   "metadata": {},
   "outputs": [],
   "source": [
    "# Creating the class:\n",
    "class Cachorro():\n",
    "    # Creating the attributes:\n",
    "    def __init__(self, nome, raca, porte, idade,sexo):\n",
    "        self.nome = nome\n",
    "        self.raca = raca\n",
    "        self.porte = porte\n",
    "        self.idade = idade\n",
    "        self.sexo = sexo\n",
    "        print('Builder called to add a new object!\\n')\n",
    "    # Creating the methods:\n",
    "    def descricao(nome,raca,porte,idade):\n",
    "        print('Dog Profile:')\n",
    "        print('Name: %s' %(nome))\n",
    "        print('Breed: %s' %(raca))\n",
    "        print('Size: %s' %(porte))\n",
    "        print('Age: %d' %(idade))\n",
    "        print('Gender: %s' %(sexo))\n",
    "        print('Thank you!\\n')    "
   ]
  },
  {
   "cell_type": "code",
   "execution_count": 41,
   "id": "15146df2",
   "metadata": {},
   "outputs": [
    {
     "name": "stdout",
     "output_type": "stream",
     "text": [
      "Builder called to add a new object!\n",
      "\n",
      "Builder called to add a new object!\n",
      "\n"
     ]
    }
   ],
   "source": [
    "# Adding two new objects to the class:\n",
    "Rex = Cachorro(nome = 'Rex', raca = 'poodle', porte = 'pequeno', idade = 2,sexo = 'macho')\n",
    "Golias = Cachorro(nome = 'Golias', raca = 'Labrador', porte = 'grande', idade = 6,sexo = 'macho')"
   ]
  },
  {
   "cell_type": "code",
   "execution_count": 44,
   "id": "db560ded",
   "metadata": {},
   "outputs": [
    {
     "data": {
      "text/plain": [
       "2"
      ]
     },
     "execution_count": 44,
     "metadata": {},
     "output_type": "execute_result"
    }
   ],
   "source": [
    "# Calling the attributes - ex1:\n",
    "Rex.idade"
   ]
  },
  {
   "cell_type": "code",
   "execution_count": 45,
   "id": "6ac3a6e6",
   "metadata": {},
   "outputs": [
    {
     "data": {
      "text/plain": [
       "'grande'"
      ]
     },
     "execution_count": 45,
     "metadata": {},
     "output_type": "execute_result"
    }
   ],
   "source": [
    "# Calling the attributes - ex2:\n",
    "Golias.porte"
   ]
  },
  {
   "cell_type": "markdown",
   "id": "424af559",
   "metadata": {},
   "source": [
    "### Everything in Python is an object. For example, a given list is an object of the class List() with several methods() like pop(), count(), etc"
   ]
  },
  {
   "cell_type": "markdown",
   "id": "45b0ea41",
   "metadata": {},
   "source": [
    "# Example 4\n",
    "\n",
    "#####  You can create an empty class in the beggining of a big project, than you go developing with the time"
   ]
  },
  {
   "cell_type": "code",
   "execution_count": 47,
   "id": "f2164ac3",
   "metadata": {},
   "outputs": [
    {
     "name": "stdout",
     "output_type": "stream",
     "text": [
      "<class '__main__.Carro'>\n"
     ]
    }
   ],
   "source": [
    "# Creating a class:\n",
    "class Carro():\n",
    "    def __init__(object):\n",
    "        pass\n",
    "# Instatianting Carro():\n",
    "palio = Carro()\n",
    "# Checking it:\n",
    "print(type(palio))"
   ]
  },
  {
   "cell_type": "markdown",
   "id": "f1a7a82a",
   "metadata": {},
   "source": [
    "# Example 5"
   ]
  },
  {
   "cell_type": "code",
   "execution_count": 60,
   "id": "81063885",
   "metadata": {},
   "outputs": [],
   "source": [
    "# Creating the class:\n",
    "class Estudantes():\n",
    "    def __init__(self, nome, idade, nota):\n",
    "        self.nome = nome\n",
    "        self.idade = idade\n",
    "        self.nota = nota"
   ]
  },
  {
   "cell_type": "code",
   "execution_count": 61,
   "id": "2bec8e89",
   "metadata": {},
   "outputs": [],
   "source": [
    "# Creating an object:\n",
    "Estudante1 = Estudantes('Pele', 12, 9.5)"
   ]
  },
  {
   "cell_type": "code",
   "execution_count": 64,
   "id": "890a3cfa",
   "metadata": {},
   "outputs": [
    {
     "data": {
      "text/plain": [
       "'Pele'"
      ]
     },
     "execution_count": 64,
     "metadata": {},
     "output_type": "execute_result"
    }
   ],
   "source": [
    "# Calling the 1st attribute:\n",
    "Estudante1.nome"
   ]
  },
  {
   "cell_type": "code",
   "execution_count": 65,
   "id": "622b9455",
   "metadata": {},
   "outputs": [
    {
     "data": {
      "text/plain": [
       "12"
      ]
     },
     "execution_count": 65,
     "metadata": {},
     "output_type": "execute_result"
    }
   ],
   "source": [
    "# Calling the 2nd attribute:\n",
    "Estudante1.idade"
   ]
  },
  {
   "cell_type": "code",
   "execution_count": 66,
   "id": "b8690e46",
   "metadata": {},
   "outputs": [
    {
     "data": {
      "text/plain": [
       "9.5"
      ]
     },
     "execution_count": 66,
     "metadata": {},
     "output_type": "execute_result"
    }
   ],
   "source": [
    "# Calling the 3rd attribute:\n",
    "Estudante1.nota"
   ]
  },
  {
   "cell_type": "markdown",
   "id": "38bf7dec",
   "metadata": {},
   "source": [
    "# Example 6"
   ]
  },
  {
   "cell_type": "code",
   "execution_count": 73,
   "id": "129a9a6b",
   "metadata": {},
   "outputs": [],
   "source": [
    "# Creating the class:\n",
    "class Funcionario():\n",
    "    def __init__(self, nome, salario):\n",
    "        self.nome = nome\n",
    "        self.salario = salario\n",
    "    def listFunc(self):\n",
    "        print('The employee ' + self.nome + ' has a average wage of R$ ' + str(self.salario) + ' monthly.')"
   ]
  },
  {
   "cell_type": "code",
   "execution_count": 74,
   "id": "2e7baab1",
   "metadata": {},
   "outputs": [],
   "source": [
    "# Creating an object:\n",
    "func1 = Funcionario('Obama', 2000)"
   ]
  },
  {
   "cell_type": "code",
   "execution_count": 76,
   "id": "ad81aca1",
   "metadata": {},
   "outputs": [
    {
     "name": "stdout",
     "output_type": "stream",
     "text": [
      "The employee Obama has a average wage of R$ 2000 monthly.\n"
     ]
    }
   ],
   "source": [
    "# Using the method listFunc() of this class:\n",
    "func1.listFunc()"
   ]
  },
  {
   "cell_type": "markdown",
   "id": "c5c3f37a",
   "metadata": {},
   "source": [
    "# Special Functions:\n",
    "# Manipulating the Attributes of an Object\n",
    "#### Always finishing the name with \"attr\""
   ]
  },
  {
   "cell_type": "code",
   "execution_count": 103,
   "id": "d7457f45",
   "metadata": {},
   "outputs": [
    {
     "data": {
      "text/plain": [
       "False"
      ]
     },
     "execution_count": 103,
     "metadata": {},
     "output_type": "execute_result"
    }
   ],
   "source": [
    "# hasattr(object,attribute) - checking if the object has this attribute\n",
    "hasattr(func1, 'salario')"
   ]
  },
  {
   "cell_type": "code",
   "execution_count": 104,
   "id": "c93f9c0f",
   "metadata": {},
   "outputs": [],
   "source": [
    "# setattr(object, attribute, value) - attributing a value for a specific attribute of the object\n",
    "setattr(func1, 'salario', 4500)"
   ]
  },
  {
   "cell_type": "code",
   "execution_count": 105,
   "id": "89e9cfd9",
   "metadata": {},
   "outputs": [
    {
     "data": {
      "text/plain": [
       "4500"
      ]
     },
     "execution_count": 105,
     "metadata": {},
     "output_type": "execute_result"
    }
   ],
   "source": [
    "# getattr(object,attribute) - getting the value of an attribute of an object\n",
    "getattr(func1, 'salario')"
   ]
  },
  {
   "cell_type": "code",
   "execution_count": 106,
   "id": "3b9094f6",
   "metadata": {},
   "outputs": [],
   "source": [
    "# delattr(object, attribute) - deleting a specific attribute of an objecy\n",
    "delattr(func1, 'salario')"
   ]
  },
  {
   "cell_type": "code",
   "execution_count": 107,
   "id": "0ffeb9be",
   "metadata": {},
   "outputs": [
    {
     "data": {
      "text/plain": [
       "False"
      ]
     },
     "execution_count": 107,
     "metadata": {},
     "output_type": "execute_result"
    }
   ],
   "source": [
    "# hasattr(object,attribute) - checking if the object has this attribute\n",
    "hasattr(func1, 'salario')\n",
    "# MUST BE FALSE, BECAUSE WE JUST EXCLUDED THIS ATTRIBUTE FOR THIS OBJECT"
   ]
  },
  {
   "cell_type": "code",
   "execution_count": 108,
   "id": "245bcd07",
   "metadata": {},
   "outputs": [],
   "source": [
    "setattr(func1, 'salario', 4500)"
   ]
  },
  {
   "cell_type": "code",
   "execution_count": 109,
   "id": "dfaade72",
   "metadata": {},
   "outputs": [
    {
     "data": {
      "text/plain": [
       "True"
      ]
     },
     "execution_count": 109,
     "metadata": {},
     "output_type": "execute_result"
    }
   ],
   "source": [
    "hasattr(func1, 'salario')"
   ]
  },
  {
   "cell_type": "code",
   "execution_count": 110,
   "id": "67f032b2",
   "metadata": {},
   "outputs": [
    {
     "data": {
      "text/plain": [
       "4500"
      ]
     },
     "execution_count": 110,
     "metadata": {},
     "output_type": "execute_result"
    }
   ],
   "source": [
    "getattr(func1, 'salario')"
   ]
  },
  {
   "cell_type": "markdown",
   "id": "aac621c6",
   "metadata": {},
   "source": [
    "# Methods in OOP\n",
    "#### Methods are defined functions inside a class.\n",
    "#### They are useful in making operations with the attributes of the objects.\n",
    "#### They are useful in the Encapsulation\n",
    "#### They are created using \"def\""
   ]
  },
  {
   "cell_type": "markdown",
   "id": "1833f2b1",
   "metadata": {},
   "source": [
    "# Example 7:"
   ]
  },
  {
   "cell_type": "markdown",
   "id": "f65ada94",
   "metadata": {},
   "source": [
    "#### OBS: When you attribute some value to some attribute, inside the attributes section, this value will be the standard one.\n",
    "#### So, every time, if an object has no value attributed, this default one will be the used.\n",
    "#### Ex: def __init__(self, attribute1 = value_default):"
   ]
  },
  {
   "cell_type": "code",
   "execution_count": 134,
   "id": "f74d87ed",
   "metadata": {},
   "outputs": [],
   "source": [
    "# Class:\n",
    "class Circulo():\n",
    "    \n",
    "    # Constant:\n",
    "    pi = 3.14\n",
    "    \n",
    "    # Attributes with a defaul value:\n",
    "    def __init__(self, raio = 5):\n",
    "        self.raio = raio\n",
    "        \n",
    "    # METHODS::\n",
    "    \n",
    "    # Method 1 - Calculating the area of the circle:\n",
    "    def area(self):\n",
    "        return(self.raio**2)*Circulo.pi\n",
    "    \n",
    "    # Method 2 - Creating a new circle radius:\n",
    "    def setRaio(self, novo_raio):\n",
    "        self.raio = novo_raio\n",
    "    \n",
    "    # Method 3 - Obtaining the circle radius:\n",
    "    def getRaio(self):\n",
    "        return self.raio\n",
    "    "
   ]
  },
  {
   "cell_type": "code",
   "execution_count": 135,
   "id": "27d0ea0b",
   "metadata": {},
   "outputs": [],
   "source": [
    "# Creating a new object:\n",
    "circ = Circulo()"
   ]
  },
  {
   "cell_type": "code",
   "execution_count": 136,
   "id": "ee2da35e",
   "metadata": {},
   "outputs": [
    {
     "data": {
      "text/plain": [
       "5"
      ]
     },
     "execution_count": 136,
     "metadata": {},
     "output_type": "execute_result"
    }
   ],
   "source": [
    "# Getting the default circle radius:\n",
    "circ.getRaio()"
   ]
  },
  {
   "cell_type": "code",
   "execution_count": 137,
   "id": "3c58437c",
   "metadata": {},
   "outputs": [],
   "source": [
    "# Attributing a new value to circle radius:\n",
    "circ = Circulo(7)"
   ]
  },
  {
   "cell_type": "code",
   "execution_count": 138,
   "id": "f79c7caf",
   "metadata": {},
   "outputs": [
    {
     "data": {
      "text/plain": [
       "7"
      ]
     },
     "execution_count": 138,
     "metadata": {},
     "output_type": "execute_result"
    }
   ],
   "source": [
    "# Getting the new circle radius:\n",
    "circ.getRaio()"
   ]
  },
  {
   "cell_type": "code",
   "execution_count": 139,
   "id": "93660a8f",
   "metadata": {},
   "outputs": [
    {
     "name": "stdout",
     "output_type": "stream",
     "text": [
      "The radio is:  7\n"
     ]
    }
   ],
   "source": [
    "# Printing the circle radius:\n",
    "print('The circle radius is: ', circ.getRaio())"
   ]
  },
  {
   "cell_type": "code",
   "execution_count": 140,
   "id": "5f8bf69a",
   "metadata": {},
   "outputs": [
    {
     "name": "stdout",
     "output_type": "stream",
     "text": [
      "The area is:  153.86\n"
     ]
    }
   ],
   "source": [
    "# Printing the area:\n",
    "print('The area is: ', circ.area())"
   ]
  },
  {
   "cell_type": "code",
   "execution_count": 141,
   "id": "9e2d5923",
   "metadata": {},
   "outputs": [],
   "source": [
    "# Changing the value of the radio:\n",
    "circ.setRaio(3)"
   ]
  },
  {
   "cell_type": "code",
   "execution_count": 142,
   "id": "f3c84bb3",
   "metadata": {},
   "outputs": [
    {
     "name": "stdout",
     "output_type": "stream",
     "text": [
      "The new circle radius is:  3\n"
     ]
    }
   ],
   "source": [
    "# Printing the new circle radius:\n",
    "print('The new circle radius is: ', circ.getRaio())"
   ]
  },
  {
   "cell_type": "markdown",
   "id": "189de793",
   "metadata": {},
   "source": [
    "# INHERITANCE"
   ]
  },
  {
   "cell_type": "markdown",
   "id": "55da2982",
   "metadata": {},
   "source": [
    "#### Inheritance consists in new classes are created from previous already existing classes.\n",
    "#### The new class is called \"sub-class\" or \"derivative class\".\n",
    "#### The original class or \"mother-class\" is called \"super-class\" or \"base class\".\n",
    "#### Inheritance allows the developer to reuse the code and diminish the program complexity."
   ]
  },
  {
   "cell_type": "markdown",
   "id": "9dbc5e80",
   "metadata": {},
   "source": [
    "# Example 8 \n",
    "### Super-class: Animal():\n",
    "### Sub-class:    Cachorro():"
   ]
  },
  {
   "cell_type": "code",
   "execution_count": 147,
   "id": "bee82587",
   "metadata": {},
   "outputs": [],
   "source": [
    "# Super-class:\n",
    "class Animal():\n",
    "    \n",
    "    # Attributes:\n",
    "    def __init__(self):\n",
    "        print('Animal created!')\n",
    "    \n",
    "    # Methods:\n",
    "    def Identif(self):\n",
    "        print('Animal')\n",
    "    def comer(self):\n",
    "        print('Comendo')       "
   ]
  },
  {
   "cell_type": "code",
   "execution_count": 148,
   "id": "7cfcbeee",
   "metadata": {},
   "outputs": [],
   "source": [
    "# Sub-class:\n",
    "class Cachorro(Animal):\n",
    "    \n",
    "    # Attributes:\n",
    "    def __init__(self):\n",
    "        Animal.__init__(self)\n",
    "        print('Object DOG being created!')\n",
    "    \n",
    "    # Methods:\n",
    "    def Identif(self):\n",
    "        print('Dog')\n",
    "    def latir(self):\n",
    "        print('Au Au!')"
   ]
  },
  {
   "cell_type": "code",
   "execution_count": 149,
   "id": "1f1ec9f5",
   "metadata": {},
   "outputs": [
    {
     "name": "stdout",
     "output_type": "stream",
     "text": [
      "Animal created!\n",
      "Object DOG being created!\n"
     ]
    }
   ],
   "source": [
    "# Instatiating an object:\n",
    "rex = Cachorro()"
   ]
  },
  {
   "cell_type": "code",
   "execution_count": 155,
   "id": "1e41f0cb",
   "metadata": {},
   "outputs": [
    {
     "name": "stdout",
     "output_type": "stream",
     "text": [
      "Dog\n"
     ]
    }
   ],
   "source": [
    "# Applying Methods:\n",
    "rex.Identif() # When the method has the same name for both, it chooses the more specific one."
   ]
  },
  {
   "cell_type": "code",
   "execution_count": 156,
   "id": "9836799b",
   "metadata": {},
   "outputs": [
    {
     "name": "stdout",
     "output_type": "stream",
     "text": [
      "Au Au!\n"
     ]
    }
   ],
   "source": [
    "# Applying Methods of the Sub-class:\n",
    "rex.latir()"
   ]
  },
  {
   "cell_type": "code",
   "execution_count": 157,
   "id": "364ff6f9",
   "metadata": {},
   "outputs": [
    {
     "name": "stdout",
     "output_type": "stream",
     "text": [
      "Comendo\n"
     ]
    }
   ],
   "source": [
    "# Applying Methods of the Super-class directly:\n",
    "rex.comer()"
   ]
  },
  {
   "cell_type": "markdown",
   "id": "336be0e3",
   "metadata": {},
   "source": [
    "# Special Methods:"
   ]
  },
  {
   "cell_type": "markdown",
   "id": "f3ef721d",
   "metadata": {},
   "source": [
    "### Using the special methods in a class, it can present a behavior similar to a dictionary, function or number.\n",
    "### Examples of Special methods:\n",
    "    __abs__\n",
    "    __add__\n",
    "    __and__\n",
    "    __call__\n",
    "    __class__\n",
    "    __cmp__\n",
    "    __coerce__\n",
    "    __complex__\n",
    "    __contains__\n",
    "    __del__\n",
    "    __itruediv__\n",
    "    __ixor__\n",
    "    __len__\n",
    "    ...\n",
    "    __init__\n",
    "    ...\n",
    "    etc ..."
   ]
  },
  {
   "cell_type": "markdown",
   "id": "43f52e52",
   "metadata": {},
   "source": [
    "# Example 9 - Special Methods:"
   ]
  },
  {
   "cell_type": "code",
   "execution_count": 162,
   "id": "54c3cf26",
   "metadata": {},
   "outputs": [],
   "source": [
    "# Class:\n",
    "class Book():\n",
    "    \n",
    "    # Attributes:\n",
    "    def __init__(self, title, writer, pages):\n",
    "        print('The book has just been created!')\n",
    "        self.title = title\n",
    "        self.writer = writer\n",
    "        self.pages = pages\n",
    "    \n",
    "    # METHODS:\n",
    "    \n",
    "    # Special Method ---  __str__ --- RETURNS A STRING ALWAYS WHEN THERE IS A 'PRINT' COMMAND:\n",
    "    def __str__(self):\n",
    "        return 'Title: %s, Writer: %s, Number of pages: %d' \\\n",
    "    % (self.title, self.writer, self.pages)\n",
    "    \n",
    "    # Special Method --- __len__:\n",
    "    def __len__(self):\n",
    "        return self.pages\n",
    "    \n",
    "    # Commom Method printing and using len():\n",
    "    def len(self):\n",
    "        return print('Number of the book pages using the commom logic: ', self.pages)"
   ]
  },
  {
   "cell_type": "code",
   "execution_count": 163,
   "id": "09392c2e",
   "metadata": {},
   "outputs": [
    {
     "name": "stdout",
     "output_type": "stream",
     "text": [
      "The book has just been created!\n"
     ]
    }
   ],
   "source": [
    "# Creating an object:\n",
    "book1 = Book('Os Lusíadas', 'Luis Vaz de Camões', 8816)"
   ]
  },
  {
   "cell_type": "code",
   "execution_count": 165,
   "id": "d19c51a4",
   "metadata": {},
   "outputs": [
    {
     "name": "stdout",
     "output_type": "stream",
     "text": [
      "Title: Os Lusíadas, Writer: Luis Vaz de Camões, Number of pages: 8816\n"
     ]
    }
   ],
   "source": [
    "# Testing the validity of the __str__() special method:\n",
    "print(book1)"
   ]
  },
  {
   "cell_type": "code",
   "execution_count": 166,
   "id": "ca543a35",
   "metadata": {},
   "outputs": [
    {
     "data": {
      "text/plain": [
       "8816"
      ]
     },
     "execution_count": 166,
     "metadata": {},
     "output_type": "execute_result"
    }
   ],
   "source": [
    "len(book1)"
   ]
  },
  {
   "cell_type": "code",
   "execution_count": 167,
   "id": "2433e0d3",
   "metadata": {},
   "outputs": [
    {
     "data": {
      "text/plain": [
       "'Title: Os Lusíadas, Writer: Luis Vaz de Camões, Number of pages: 8816'"
      ]
     },
     "execution_count": 167,
     "metadata": {},
     "output_type": "execute_result"
    }
   ],
   "source": [
    "str(book1)"
   ]
  },
  {
   "cell_type": "code",
   "execution_count": 170,
   "id": "d2786bff",
   "metadata": {},
   "outputs": [
    {
     "name": "stdout",
     "output_type": "stream",
     "text": [
      "Number of the book pages using the commom logic:  8816\n"
     ]
    }
   ],
   "source": [
    "# Testing the validity of the commom method created:\n",
    "book1.len()"
   ]
  },
  {
   "cell_type": "code",
   "execution_count": 171,
   "id": "2b265924",
   "metadata": {},
   "outputs": [],
   "source": [
    "# Deleting an attribute:\n",
    "del book1.pages"
   ]
  },
  {
   "cell_type": "code",
   "execution_count": 177,
   "id": "17bea2e4",
   "metadata": {},
   "outputs": [
    {
     "data": {
      "text/plain": [
       "False"
      ]
     },
     "execution_count": 177,
     "metadata": {},
     "output_type": "execute_result"
    }
   ],
   "source": [
    "# Checking is it was deleted:\n",
    "hasattr(book1, 'pages')"
   ]
  },
  {
   "cell_type": "markdown",
   "id": "4607a6cf",
   "metadata": {},
   "source": [
    "# Thank you!"
   ]
  }
 ],
 "metadata": {
  "kernelspec": {
   "display_name": "Python 3 (ipykernel)",
   "language": "python",
   "name": "python3"
  },
  "language_info": {
   "codemirror_mode": {
    "name": "ipython",
    "version": 3
   },
   "file_extension": ".py",
   "mimetype": "text/x-python",
   "name": "python",
   "nbconvert_exporter": "python",
   "pygments_lexer": "ipython3",
   "version": "3.9.12"
  }
 },
 "nbformat": 4,
 "nbformat_minor": 5
}
