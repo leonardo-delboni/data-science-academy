{
 "cells": [
  {
   "cell_type": "code",
   "execution_count": 1,
   "id": "928f3181",
   "metadata": {},
   "outputs": [],
   "source": [
    "# Data Science Academy (DSA) - wwww.datascienceacademy.com.br\n",
    "# Course:  Python Fundamentos para Análise de Dados (PT-BR)\n",
    "#          Python Fundamentals to Data Analysis (ENG-US)\n",
    "# Student: Leonardo Travagini Delboni\n",
    "# Chapter 3 - Lopps, Conditionals, Methods and Functions\n",
    "# Part 1 - Loops and Conditionals"
   ]
  },
  {
   "cell_type": "code",
   "execution_count": 2,
   "id": "231253f7",
   "metadata": {},
   "outputs": [
    {
     "name": "stdout",
     "output_type": "stream",
     "text": [
      "Credits: \n",
      "  Created by Data Science Academy (DSA) \n",
      "  Developed by Leonardo Travagini Delboni\n"
     ]
    }
   ],
   "source": [
    "print('Credits: \\n  Created by Data Science Academy (DSA) \\n  Developed by Leonardo Travagini Delboni')"
   ]
  },
  {
   "cell_type": "code",
   "execution_count": 3,
   "id": "51e9dec4",
   "metadata": {},
   "outputs": [
    {
     "name": "stdout",
     "output_type": "stream",
     "text": [
      "Hello, dear user!\n",
      "Which day of the week is today? \n",
      "saturday\n",
      "Today is a rest day!\n",
      "Thank you!\n",
      "\n"
     ]
    }
   ],
   "source": [
    "# Exercise 1 - Create one structure that asks the user which day of the week. If the day is Sunday or \n",
    "# Saturday, it must print on the screen \"Today is a rest day\", if not, then print \"You need to work\"\n",
    "\n",
    "print('Hello, dear user!')\n",
    "day = input('Which day of the week is today? \\n')\n",
    "if day == 'Saturday' or day == 'saturday' or day == 'Sunday' or day == 'sunday':\n",
    "    print('Today is a rest day!')\n",
    "else:\n",
    "    print('You need to work!')\n",
    "print('Thank you!\\n')"
   ]
  },
  {
   "cell_type": "code",
   "execution_count": 8,
   "id": "fa5f8ea2",
   "metadata": {},
   "outputs": [
    {
     "name": "stdout",
     "output_type": "stream",
     "text": [
      "Please, insert 5 fruits to the list:\n",
      "Insert the fruit 1: \n",
      "Watermelon\n",
      "Insert the fruit 2: \n",
      "Grapes\n",
      "Insert the fruit 3: \n",
      "Banana\n",
      "Insert the fruit 4: \n",
      "strawberry\n",
      "Insert the fruit 5: \n",
      "orange\n",
      "Strawberry is an element of the list! \n",
      "\n"
     ]
    }
   ],
   "source": [
    "# Exercise 2 - Create a list with 5 fruits and check if \"Strawberry\" is an element of the list:\n",
    "\n",
    "print('Please, insert 5 fruits to the list:')\n",
    "fruit = []\n",
    "aux = 0\n",
    "for i in range (1,6):\n",
    "    # Receiving 5 strings and capitalizing them:\n",
    "    fruit.append(input('Insert the fruit ' + str(i) + ': \\n').capitalize())\n",
    "    if fruit[int(i-1)] == 'Strawberry':\n",
    "        aux += 1\n",
    "if aux != 0:\n",
    "    print('Strawberry is an element of the list! \\n')\n",
    "else:\n",
    "    print('Strawberry is not an element of the list! \\n')"
   ]
  },
  {
   "cell_type": "code",
   "execution_count": 16,
   "id": "ed9ab41d",
   "metadata": {},
   "outputs": [
    {
     "name": "stdout",
     "output_type": "stream",
     "text": [
      "Please, insert 4 numbers below when requested:\n",
      "Insert the element 1 :\n",
      "1\n",
      "Insert the element 2 :\n",
      "2\n",
      "Insert the element 3 :\n",
      "3\n",
      "Insert the element 4 :\n",
      "4\n",
      "The tuple inserted by the user is:\n",
      "('1', '2', '3', '4')\n",
      "The new list with the doubles is:\n",
      "[2, 4, 6, 8]\n"
     ]
    }
   ],
   "source": [
    "# Exercise 3 - Create a tuple of 4 elements, multiply each element by 2 and keep them in a list.\n",
    "\n",
    "list_elem = []\n",
    "print('Please, insert 4 numbers below when requested:')\n",
    "for i in range(1,5):\n",
    "    list_elem.append(input('Insert the element ' + str(i) + ' :\\n'))\n",
    "# Creating the tuple:\n",
    "tuple_elem = tuple(list_elem)\n",
    "print('The tuple inserted by the user is:')\n",
    "print(tuple_elem)\n",
    "# Multiplying each element per 2:\n",
    "double_list_elem = [2*int(element) for element in list_elem]\n",
    "print('The new list with the doubles is:')\n",
    "print(double_list_elem)\n",
    "    "
   ]
  },
  {
   "cell_type": "code",
   "execution_count": 20,
   "id": "3112568a",
   "metadata": {},
   "outputs": [
    {
     "name": "stdout",
     "output_type": "stream",
     "text": [
      "Now, we are going to print all the even numbers between two integers inserted by the user.\n",
      "What is your first number, the smaller one: \n",
      "100\n",
      "What is your second number, the bigger one: \n",
      "160\n",
      "[100, 102, 104, 106, 108, 110, 112, 114, 116, 118, 120, 122, 124, 126, 128, 130, 132, 134, 136, 138, 140, 142, 144, 146, 148, 150, 152, 154, 156, 158, 160]\n"
     ]
    }
   ],
   "source": [
    "# Exercise 4 - Create a sequence of the even numbers between 100 and 150 and print them on the screen.\n",
    "\n",
    "# Inputs\n",
    "print('Now, we are going to print all the even numbers between two integers inserted by the user.')\n",
    "input1 = int(input('What is your first number, the smaller one: \\n'))\n",
    "input2 = int(input('What is your second number, the bigger one: \\n'))\n",
    "vector = []\n",
    "\n",
    "# Creating and displaying the desired list:\n",
    "for i in range(input1,input2 + 1):\n",
    "    if int(i)%2 == 0:\n",
    "        vector.append(i)\n",
    "print(vector)"
   ]
  },
  {
   "cell_type": "code",
   "execution_count": 21,
   "id": "bf13f6ab",
   "metadata": {},
   "outputs": [
    {
     "name": "stdout",
     "output_type": "stream",
     "text": [
      "40\n",
      "39\n",
      "38\n",
      "37\n",
      "36\n"
     ]
    }
   ],
   "source": [
    "# Exercise 5 - Create the variable \"temperature\" equals to 40. While the temperature is bigger than 35,\n",
    "# print the temperatures on the screen.\n",
    "\n",
    "temperature = 40\n",
    "while temperature > 35:\n",
    "    print(temperature)\n",
    "    temperature -= 1"
   ]
  },
  {
   "cell_type": "code",
   "execution_count": 23,
   "id": "d3239de3",
   "metadata": {},
   "outputs": [
    {
     "name": "stdout",
     "output_type": "stream",
     "text": [
      "0\n",
      "1\n",
      "2\n",
      "3\n",
      "4\n",
      "5\n",
      "6\n",
      "7\n",
      "8\n",
      "9\n",
      "10\n",
      "11\n",
      "12\n",
      "13\n",
      "14\n",
      "15\n",
      "16\n",
      "17\n",
      "18\n",
      "19\n",
      "20\n",
      "21\n",
      "22\n",
      "23\n"
     ]
    }
   ],
   "source": [
    "# Exercise 6 - Create the variable \"counter\" equals to 0. While counter is smaller than 100, print them\n",
    "# on the screen, but when it is equal to 23, stop the program execution.\n",
    "\n",
    "counter = 0\n",
    "while counter < 100:\n",
    "    print(counter)\n",
    "    if counter == 23:\n",
    "        break\n",
    "    counter += 1"
   ]
  },
  {
   "cell_type": "code",
   "execution_count": 24,
   "id": "95bdee48",
   "metadata": {},
   "outputs": [
    {
     "name": "stdout",
     "output_type": "stream",
     "text": [
      "[4, 6, 8, 10, 12, 14, 16, 18, 20]\n"
     ]
    }
   ],
   "source": [
    "# Exercise 7 - Create an empty list and a variable equals to 4. While the variable is smaller or equals to\n",
    "# 20, add it to the list, only the even values, and finally print the list on the screen.\n",
    "\n",
    "# Inputs:\n",
    "list_elem =[]\n",
    "var = 4\n",
    "\n",
    "# Conditionals:\n",
    "while var <= 20:\n",
    "    if var % 2 == 0:\n",
    "        list_elem.append(var)\n",
    "    var += 1\n",
    "\n",
    "# Displaying the final list:\n",
    "print(list_elem)"
   ]
  },
  {
   "cell_type": "code",
   "execution_count": 27,
   "id": "854dc00a",
   "metadata": {},
   "outputs": [
    {
     "name": "stdout",
     "output_type": "stream",
     "text": [
      "[5, 7, 9, 11, 13, 15, 17, 19, 21, 23, 25, 27, 29, 31, 33, 35, 37, 39, 41, 43]\n"
     ]
    }
   ],
   "source": [
    "# Exercise 8 - Convert the result of this range function into a list: range(5, 45, 2)\n",
    "nums = range(5, 45, 2)\n",
    "\n",
    "list_elem = list(nums)\n",
    "print(list_elem)"
   ]
  },
  {
   "cell_type": "code",
   "execution_count": 30,
   "id": "c71c072b",
   "metadata": {},
   "outputs": [
    {
     "name": "stdout",
     "output_type": "stream",
     "text": [
      "What is the temperature? 29\n",
      "Go and bring our coats.\n"
     ]
    }
   ],
   "source": [
    "# Exercise 9 - The following program has 3 erros. Find and fix them. Then, execute the program.\n",
    "\n",
    "# temperature = float(input('What is the temperature? '))\n",
    "# if temperature > 30:                                           \n",
    "#     print('Use soft clothes.')                               \n",
    "# else:                                                          \n",
    "#     print('Go and bring our coats.')\n",
    "\n",
    "# Fixing the errors:\n",
    "temperature = float(input('What is the temperature? '))\n",
    "if temperature > 30:                                           # The user forgot to add ':' at the end\n",
    "    print('Use soft clothes.')                               # The user forgot to use a TAB or 4 spaces\n",
    "else:                                                          # The user forgot to add ':' at the end\n",
    "    print('Go and bring our coats.')"
   ]
  },
  {
   "cell_type": "code",
   "execution_count": 31,
   "id": "289000a1",
   "metadata": {},
   "outputs": [
    {
     "name": "stdout",
     "output_type": "stream",
     "text": [
      "Insert the desired string: \n",
      "É melhor, muito melhor, contentar-se com a realidade; se ela não é tão brilhante como os sonhos, tem pelo menos a vantagem de existir.\n",
      "Insert the character you want to count: \n",
      "r\n",
      "The character r appeared 6 time in the string inserted.\n"
     ]
    }
   ],
   "source": [
    "# Exercise 10 - Create a program that counts how many times does some specific letter appers in a string.\n",
    "# Also, use a place holder in the impression instruction.\n",
    "\n",
    "string = input('Insert the desired string: \\n')\n",
    "letter = input('Insert the character you want to count: \\n')\n",
    "counter = 0\n",
    "size = len(string)\n",
    "for i in range(0,size):\n",
    "    if string[i] == letter:\n",
    "        counter += 1\n",
    "print(\"The character %s appeared %r time in the string inserted.\" %(letter, counter))"
   ]
  }
 ],
 "metadata": {
  "kernelspec": {
   "display_name": "Python 3 (ipykernel)",
   "language": "python",
   "name": "python3"
  },
  "language_info": {
   "codemirror_mode": {
    "name": "ipython",
    "version": 3
   },
   "file_extension": ".py",
   "mimetype": "text/x-python",
   "name": "python",
   "nbconvert_exporter": "python",
   "pygments_lexer": "ipython3",
   "version": "3.9.12"
  }
 },
 "nbformat": 4,
 "nbformat_minor": 5
}
