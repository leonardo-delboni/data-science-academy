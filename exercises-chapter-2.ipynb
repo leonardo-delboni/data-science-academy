{
 "cells": [
  {
   "cell_type": "code",
   "execution_count": null,
   "id": "aa6cf6cd",
   "metadata": {},
   "outputs": [],
   "source": [
    "# Data Science Academy (DSA) - wwww.datascienceacademy.com.br\n",
    "# Course:  Python Fundamentos para Análise de Dados (PT-BR)\n",
    "#          Python Fundamentals to Data Analysis (ENG-US)\n",
    "# Student: Leonardo Travagini Delboni\n",
    "# Chapter 2 - Variables, Types and Data Structures"
   ]
  },
  {
   "cell_type": "code",
   "execution_count": 10,
   "id": "cdafe56e",
   "metadata": {},
   "outputs": [
    {
     "name": "stdout",
     "output_type": "stream",
     "text": [
      "Credits: \n",
      "  Created by Data Science Academy (DSA) \n",
      "  Developed by Leonardo Travagini Delboni\n"
     ]
    }
   ],
   "source": [
    "print('Credits: \\n  Created by Data Science Academy (DSA) \\n  Developed by Leonardo Travagini Delboni')"
   ]
  },
  {
   "cell_type": "code",
   "execution_count": 8,
   "id": "9b01f80d",
   "metadata": {},
   "outputs": [
    {
     "name": "stdout",
     "output_type": "stream",
     "text": [
      "[1, 2, 3, 4, 5, 6, 7, 8, 9, 10]\n"
     ]
    }
   ],
   "source": [
    "# Exercise 1: Print all numbers from 1 to 10. Use a list to save the numbers.\n",
    "aux1 = 1\n",
    "aux2 = []\n",
    "while aux1 < 11:\n",
    "    aux2.append(aux1)\n",
    "    aux1 = aux1 + 1\n",
    "print(aux2)"
   ]
  },
  {
   "cell_type": "code",
   "execution_count": 11,
   "id": "a5560a39",
   "metadata": {},
   "outputs": [
    {
     "name": "stdout",
     "output_type": "stream",
     "text": [
      "Please, insert an object to the list: \n",
      "1\n",
      "Please, insert an object to the list: \n",
      "2\n",
      "Please, insert an object to the list: \n",
      "3\n",
      "Please, insert an object to the list: \n",
      "4\n",
      "Please, insert an object to the list: \n",
      "5\n",
      "Thank you very much. Here is your list:\n",
      "['1', '2', '3', '4', '5']\n"
     ]
    }
   ],
   "source": [
    "# Exercise 2: Create a 5-objects list and print it.\n",
    "\n",
    "aux1 = 1\n",
    "aux2 = []\n",
    "while aux1 < 6:\n",
    "    # Receiving the 5 objects from the terminal input:\n",
    "    aux2.append(input('Please, insert an object to the list: \\n'))\n",
    "    aux1 = aux1 + 1\n",
    "print('Thank you very much. Here is your list:')\n",
    "print(aux2)"
   ]
  },
  {
   "cell_type": "code",
   "execution_count": 15,
   "id": "148b4345",
   "metadata": {},
   "outputs": [
    {
     "name": "stdout",
     "output_type": "stream",
     "text": [
      "Please, insert the first string: \n",
      "My Lord is\n",
      "Please, insert the second string: \n",
      "Jesus Christ\n",
      "My Lord is Jesus Christ\n"
     ]
    }
   ],
   "source": [
    "# Exercise 3 - Create 2 strings and concatenate them as third string:\n",
    "\n",
    "# Receiving the first string from the terminal:\n",
    "str1 = input('Please, insert the first string: \\n')\n",
    "# Receiving the second string from the terminal:\n",
    "str2 = input('Please, insert the second string: \\n')\n",
    "# Concatenating both as a third one:\n",
    "str3 = str1 + ' ' + str2\n",
    "print(str3)"
   ]
  },
  {
   "cell_type": "code",
   "execution_count": 17,
   "id": "b605865e",
   "metadata": {},
   "outputs": [
    {
     "name": "stdout",
     "output_type": "stream",
     "text": [
      "3\n"
     ]
    }
   ],
   "source": [
    "# Exercise 4 - Create a tuple with the following elements: 1, 2, 2, 3, 4, 4, 4, 5 and then use the tuple\n",
    "# object function to check how many times the number 4 appears.\n",
    "\n",
    "# Creating the tuple:\n",
    "tuple1 = (1, 2, 2, 3, 4, 4, 4, 5)\n",
    "# Counting the element '4':\n",
    "quantity = tuple1.count(4)\n",
    "print(quantity)"
   ]
  },
  {
   "cell_type": "code",
   "execution_count": 18,
   "id": "d45a44fa",
   "metadata": {},
   "outputs": [
    {
     "name": "stdout",
     "output_type": "stream",
     "text": [
      "{}\n"
     ]
    }
   ],
   "source": [
    "# Exercise 5 - Create an empty dictionary and print it.\n",
    "\n",
    "# Creating an empty dictionary:\n",
    "dict1 = {}\n",
    "print(dict1)"
   ]
  },
  {
   "cell_type": "code",
   "execution_count": 22,
   "id": "3cf76e95",
   "metadata": {},
   "outputs": [
    {
     "name": "stdout",
     "output_type": "stream",
     "text": [
      "{'key1': 'value1', 'key2': 'value2', 'key3': 'value3'}\n"
     ]
    }
   ],
   "source": [
    "# Exercise 6 - Create a 3-keys and 3-values dictionaty and print it.\n",
    "\n",
    "# Creating 3-keys and 3-values dictionaty:\n",
    "dict1 = {'key1':'value1', 'key2':'value2', 'key3':'value3'}\n",
    "print(dict1)"
   ]
  },
  {
   "cell_type": "code",
   "execution_count": 23,
   "id": "67c270b7",
   "metadata": {},
   "outputs": [
    {
     "name": "stdout",
     "output_type": "stream",
     "text": [
      "{'key1': 'value1', 'key2': 'value2', 'key3': 'value3', 'key4': 'value4'}\n"
     ]
    }
   ],
   "source": [
    "# Exercise 7 - Add one more element to the previous created dictionay and print it.\n",
    "\n",
    "dict1['key4'] = 'value4'\n",
    "print(dict1)"
   ]
  },
  {
   "cell_type": "code",
   "execution_count": 24,
   "id": "0d28eed2",
   "metadata": {},
   "outputs": [
    {
     "name": "stdout",
     "output_type": "stream",
     "text": [
      "{'key1': 'value1', 'key2': 'value2', 'key3': ['item1', 'item2']}\n"
     ]
    }
   ],
   "source": [
    "# Exercise 8 - Create a 3-keys and 3-values dictionaty. One of the values must be a 2-items list. Print it.\n",
    "\n",
    "list1 = ['item1', 'item2']\n",
    "dict1 = {'key1':'value1', 'key2':'value2', 'key3':list1}\n",
    "print(dict1)"
   ]
  },
  {
   "cell_type": "code",
   "execution_count": 25,
   "id": "8d51938f",
   "metadata": {},
   "outputs": [
    {
     "name": "stdout",
     "output_type": "stream",
     "text": [
      "['string', (1, 0), {'key1': 'value1', 'key2': 'value2'}, 3.40834]\n"
     ]
    }
   ],
   "source": [
    "# Exercise 9 - Create a list of 4 elements. The first element must be a string, the second must be a 2\n",
    "# elements tuple, the third must be a dictionary of 2 keys and 2 values, and the forth element must a float.\n",
    "# Then, print it.\n",
    "\n",
    "# Creating the elements:\n",
    "elem1 = 'string'                                 # String\n",
    "elem2 = (1 ,0)                                   # Tuple of 2 elements\n",
    "elem3 = {'key1':'value1', 'key2':'value2'}       # Dictionary of 2 keys and 2 values\n",
    "elem4 = float(3.40834)                           # Float number\n",
    "\n",
    "# Creating and printing the final list:\n",
    "list1 = [elem1, elem2, elem3, elem4]\n",
    "print(list1)\n",
    "\n"
   ]
  },
  {
   "cell_type": "code",
   "execution_count": 26,
   "id": "dfcc1e39",
   "metadata": {},
   "outputs": [
    {
     "name": "stdout",
     "output_type": "stream",
     "text": [
      "ientista de Dados\n"
     ]
    }
   ],
   "source": [
    "# Exercise 10 - Considering the following string:\n",
    "frase = 'Cientista de Dados é o profissional mais sexy do século XXI'\n",
    "# Print on the screen only the characters located from the position 1 to 18.\n",
    "\n",
    "# Applying the slicing method:\n",
    "str1 = frase[1:18]\n",
    "print(str1)"
   ]
  },
  {
   "cell_type": "code",
   "execution_count": 27,
   "id": "4956369b",
   "metadata": {},
   "outputs": [
    {
     "name": "stdout",
     "output_type": "stream",
     "text": [
      "Thank you very much!\n"
     ]
    }
   ],
   "source": [
    "print('Thank you very much!')"
   ]
  }
 ],
 "metadata": {
  "kernelspec": {
   "display_name": "Python 3 (ipykernel)",
   "language": "python",
   "name": "python3"
  },
  "language_info": {
   "codemirror_mode": {
    "name": "ipython",
    "version": 3
   },
   "file_extension": ".py",
   "mimetype": "text/x-python",
   "name": "python",
   "nbconvert_exporter": "python",
   "pygments_lexer": "ipython3",
   "version": "3.9.12"
  }
 },
 "nbformat": 4,
 "nbformat_minor": 5
}
