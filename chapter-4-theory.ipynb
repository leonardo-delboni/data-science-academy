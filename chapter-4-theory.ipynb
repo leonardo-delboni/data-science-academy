{
 "cells": [
  {
   "cell_type": "markdown",
   "id": "08fbc8c6",
   "metadata": {},
   "source": [
    "## Data Science Academy (DSA) - wwww.datascienceacademy.com.br\n",
    "### Course:  Python Fundamentos para Análise de Dados (PT-BR)\n",
    "###                Python Fundamentals to Data Analysis (ENG-US)\n",
    "### Student: Leonardo Travagini Delboni\n",
    "#### Chapter 4 - Files Treatment, Modules, Packages and Built-in Functions\n",
    "####                    Theory and Summary of the chapter\n",
    "#### Created by Data Science Academy\n",
    "#### Developed by Leonardo Travagini Delboni"
   ]
  },
  {
   "cell_type": "markdown",
   "id": "c1b8b20d",
   "metadata": {},
   "source": [
    "# In this chapter we are going to undertand the concepts of libraries, datasets and how to manipulate .txt, .csv and json files."
   ]
  },
  {
   "cell_type": "markdown",
   "id": "9b22140a",
   "metadata": {},
   "source": [
    "# List of Main Methods for datasets:"
   ]
  },
  {
   "cell_type": "code",
   "execution_count": 1,
   "id": "7268f95c",
   "metadata": {},
   "outputs": [
    {
     "data": {
      "text/plain": [
       "' \\nMethods:        Useful for:\\n---------------------------------------------------\\nopen()          Open the File\\nread()          Read the File\\nwrite()         Write the File\\ntell()          Count the number of characters\\nseek()          Return to the a specific point of the File\\nreadlines()     Return the Number of Lines\\nclose()         Close the File\\n'"
      ]
     },
     "execution_count": 1,
     "metadata": {},
     "output_type": "execute_result"
    }
   ],
   "source": [
    "''' \n",
    "Methods:        Useful for:\n",
    "---------------------------------------------------\n",
    "open()          Open the File\n",
    "read()          Read the File\n",
    "write()         Write the File\n",
    "tell()          Count the number of characters\n",
    "seek()          Return to the a specific point of the File\n",
    "readlines()     Return the Number of Lines\n",
    "close()         Close the File\n",
    "'''"
   ]
  },
  {
   "cell_type": "markdown",
   "id": "d2034785",
   "metadata": {},
   "source": [
    "# Explantation and Examples of these methods:"
   ]
  },
  {
   "cell_type": "code",
   "execution_count": 2,
   "id": "38b2b693",
   "metadata": {},
   "outputs": [
    {
     "name": "stdout",
     "output_type": "stream",
     "text": [
      "Python é uma linguagem Poderosa! \n",
      "\n",
      "35 characters in total!\n",
      "0\n",
      "Python é u\n",
      "Testing the overwriting through Python! \n",
      "New content added using append! \n",
      "\n",
      "0\n",
      "---------------------------------------------\n",
      "CASE 1: Find below using the read() command:\n",
      "---------------------------------------------\n",
      "Testing the overwriting through Python! \n",
      "New content added using append! \n",
      "\n",
      "---------------------------------------------\n",
      "CASE 2: Find below using the readlines() command:\n",
      "---------------------------------------------\n",
      "['Testing the overwriting through Python! \\n', 'New content added using append! \\n']\n",
      "---------------------------------------------\n",
      "CASE 3: Find below using the for loop command:\n",
      "---------------------------------------------\n",
      "Testing the overwriting through Python! \n",
      "\n",
      "New content added using append! \n",
      "\n"
     ]
    }
   ],
   "source": [
    "# Inputs:\n",
    "file_path = ''\n",
    "file_name = 'teste'\n",
    "file_final = '.txt'\n",
    "file_full_name = file_path + file_name + file_final\n",
    "original_text = 'Python é uma linguagem Poderosa! \\n'\n",
    "overwriting_text = 'Testing the overwriting through Python! \\n'\n",
    "new_content = \"New content added using append! \\n\"\n",
    "\n",
    "# Returning and printing the original file:\n",
    "original_file = open(file_full_name, \"w\")                           # Opening the file (writing format)\n",
    "original_file.write(original_text)                                  # Overwriting the file (writing format)\n",
    "original_file.close()                                               # Closing the file\n",
    "original_file = open(file_full_name, 'r')                           # Opening the new file (reading format)\n",
    "original_file.read()                                                # Reading the new file (reading format)\n",
    "original_file.readlines()                                           # Reading line-to-line (reading format)\n",
    "original_file.close()                                               # Closing the file\n",
    "\n",
    "# Reading Format ('r'):\n",
    "file_read = open(file_full_name, \"r\")                               # Opening the file (reading format)\n",
    "print(file_read.read())                                             # Printing the file (reading format)\n",
    "print(str(file_read.tell()) + ' characters in total!')              # Counting the number of characters\n",
    "print(file_read.seek(0,0))                                          # Returning to the beggining (0,0)\n",
    "print(file_read.read(10))                                           # Printing the first 10 characters\n",
    "file_read.close()                                                   # Closing the file\n",
    "\n",
    "# Writing format ('w'):\n",
    "file_write = open(file_full_name, 'w')                              # Opening the file (writing format)\n",
    "file_write.write(overwriting_text)                                  # Overwriting the file (writing format)\n",
    "file_write.close()                                                  # Closing the file\n",
    "file_read = open(file_full_name, 'r')                               # Opening the new file (reading format)\n",
    "file_read.read()                                                    # Reading the new file (reading format)\n",
    "file_read.close()                                                   # Closing the file\n",
    "\n",
    "# Append format ('a')\n",
    "file_append = open(file_full_name, 'a')                             # Opening the file (append mode)\n",
    "file_append.write(new_content)                                      # Adding new content (append mode)\n",
    "file_append.close()                                                 # Closing the file\n",
    "\n",
    "# Checking the new file:\n",
    "file_read = open(file_full_name, 'r')                               # Opening the new file (reading format)\n",
    "print(file_read.read())                                             # Displaying all the file content\n",
    "print(file_read.seek(0, 0))                                         # Returning to the beginning\n",
    "file_read.close()                                                   # Closing the file\n",
    "\n",
    "# COMPARING THE DIFFERENCES:\n",
    "## READ():\n",
    "print('---------------------------------------------')\n",
    "print('CASE 1: Find below using the read() command:\\n---------------------------------------------')\n",
    "file1 = open('teste.txt', 'r')\n",
    "print(file1.read())\n",
    "file1.seek(0)\n",
    "## READLINES():\n",
    "print('---------------------------------------------')\n",
    "print('CASE 2: Find below using the readlines() command:\\n---------------------------------------------')\n",
    "print(file1.readlines())                                           # Reading line-to-line (reading format)\n",
    "file1.seek(0)\n",
    "## FOR i IN open(file,'r'):\n",
    "print('---------------------------------------------')\n",
    "print('CASE 3: Find below using the for loop command:\\n---------------------------------------------')\n",
    "for i in file1:\n",
    "    print(i)\n",
    "\n",
    "\n"
   ]
  },
  {
   "cell_type": "markdown",
   "id": "289df822",
   "metadata": {},
   "source": [
    "# Pandas Library for CSV files"
   ]
  },
  {
   "cell_type": "code",
   "execution_count": 3,
   "id": "87399d57",
   "metadata": {},
   "outputs": [
    {
     "data": {
      "text/html": [
       "<div>\n",
       "<style scoped>\n",
       "    .dataframe tbody tr th:only-of-type {\n",
       "        vertical-align: middle;\n",
       "    }\n",
       "\n",
       "    .dataframe tbody tr th {\n",
       "        vertical-align: top;\n",
       "    }\n",
       "\n",
       "    .dataframe thead th {\n",
       "        text-align: right;\n",
       "    }\n",
       "</style>\n",
       "<table border=\"1\" class=\"dataframe\">\n",
       "  <thead>\n",
       "    <tr style=\"text-align: right;\">\n",
       "      <th></th>\n",
       "      <th>admit</th>\n",
       "      <th>gre</th>\n",
       "      <th>gpa</th>\n",
       "      <th>rank</th>\n",
       "    </tr>\n",
       "  </thead>\n",
       "  <tbody>\n",
       "    <tr>\n",
       "      <th>0</th>\n",
       "      <td>0</td>\n",
       "      <td>380</td>\n",
       "      <td>3.61</td>\n",
       "      <td>3</td>\n",
       "    </tr>\n",
       "    <tr>\n",
       "      <th>1</th>\n",
       "      <td>1</td>\n",
       "      <td>660</td>\n",
       "      <td>3.67</td>\n",
       "      <td>3</td>\n",
       "    </tr>\n",
       "    <tr>\n",
       "      <th>2</th>\n",
       "      <td>1</td>\n",
       "      <td>880</td>\n",
       "      <td>4.00</td>\n",
       "      <td>1</td>\n",
       "    </tr>\n",
       "    <tr>\n",
       "      <th>3</th>\n",
       "      <td>1</td>\n",
       "      <td>640</td>\n",
       "      <td>3.19</td>\n",
       "      <td>4</td>\n",
       "    </tr>\n",
       "    <tr>\n",
       "      <th>4</th>\n",
       "      <td>0</td>\n",
       "      <td>520</td>\n",
       "      <td>2.93</td>\n",
       "      <td>4</td>\n",
       "    </tr>\n",
       "  </tbody>\n",
       "</table>\n",
       "</div>"
      ],
      "text/plain": [
       "   admit  gre   gpa  rank\n",
       "0      0  380  3.61     3\n",
       "1      1  660  3.67     3\n",
       "2      1  880  4.00     1\n",
       "3      1  640  3.19     4\n",
       "4      0  520  2.93     4"
      ]
     },
     "execution_count": 3,
     "metadata": {},
     "output_type": "execute_result"
    }
   ],
   "source": [
    "import pandas as pd                                                    # Importing PANDAS library\n",
    "\n",
    "# Using Pandas on binary.csv file:\n",
    "file_name = 'binary.csv'                                               # File name and location\n",
    "df = pd.read_csv(file_name)                                            # Reading df\n",
    "df.head()                                                              # Printing df head"
   ]
  },
  {
   "cell_type": "code",
   "execution_count": 4,
   "id": "e8aebf3d",
   "metadata": {},
   "outputs": [
    {
     "data": {
      "text/html": [
       "<div>\n",
       "<style scoped>\n",
       "    .dataframe tbody tr th:only-of-type {\n",
       "        vertical-align: middle;\n",
       "    }\n",
       "\n",
       "    .dataframe tbody tr th {\n",
       "        vertical-align: top;\n",
       "    }\n",
       "\n",
       "    .dataframe thead th {\n",
       "        text-align: right;\n",
       "    }\n",
       "</style>\n",
       "<table border=\"1\" class=\"dataframe\">\n",
       "  <thead>\n",
       "    <tr style=\"text-align: right;\">\n",
       "      <th></th>\n",
       "      <th>Name</th>\n",
       "      <th>Position Title</th>\n",
       "      <th>Department</th>\n",
       "      <th>Employee Annual Salary</th>\n",
       "    </tr>\n",
       "  </thead>\n",
       "  <tbody>\n",
       "    <tr>\n",
       "      <th>0</th>\n",
       "      <td>AARON,  ELVIA J</td>\n",
       "      <td>WATER RATE TAKER</td>\n",
       "      <td>WATER MGMNT</td>\n",
       "      <td>$88967.00</td>\n",
       "    </tr>\n",
       "    <tr>\n",
       "      <th>1</th>\n",
       "      <td>AARON,  JEFFERY M</td>\n",
       "      <td>POLICE OFFICER</td>\n",
       "      <td>POLICE</td>\n",
       "      <td>$80778.00</td>\n",
       "    </tr>\n",
       "    <tr>\n",
       "      <th>2</th>\n",
       "      <td>AARON,  KARINA</td>\n",
       "      <td>POLICE OFFICER</td>\n",
       "      <td>POLICE</td>\n",
       "      <td>$80778.00</td>\n",
       "    </tr>\n",
       "    <tr>\n",
       "      <th>3</th>\n",
       "      <td>AARON,  KIMBERLEI R</td>\n",
       "      <td>CHIEF CONTRACT EXPEDITER</td>\n",
       "      <td>GENERAL SERVICES</td>\n",
       "      <td>$84780.00</td>\n",
       "    </tr>\n",
       "    <tr>\n",
       "      <th>4</th>\n",
       "      <td>ABAD JR,  VICENTE M</td>\n",
       "      <td>CIVIL ENGINEER IV</td>\n",
       "      <td>WATER MGMNT</td>\n",
       "      <td>$104736.00</td>\n",
       "    </tr>\n",
       "  </tbody>\n",
       "</table>\n",
       "</div>"
      ],
      "text/plain": [
       "                  Name            Position Title        Department  \\\n",
       "0      AARON,  ELVIA J          WATER RATE TAKER       WATER MGMNT   \n",
       "1    AARON,  JEFFERY M            POLICE OFFICER            POLICE   \n",
       "2       AARON,  KARINA            POLICE OFFICER            POLICE   \n",
       "3  AARON,  KIMBERLEI R  CHIEF CONTRACT EXPEDITER  GENERAL SERVICES   \n",
       "4  ABAD JR,  VICENTE M         CIVIL ENGINEER IV       WATER MGMNT   \n",
       "\n",
       "  Employee Annual Salary  \n",
       "0              $88967.00  \n",
       "1              $80778.00  \n",
       "2              $80778.00  \n",
       "3              $84780.00  \n",
       "4             $104736.00  "
      ]
     },
     "execution_count": 4,
     "metadata": {},
     "output_type": "execute_result"
    }
   ],
   "source": [
    "# Using Pandas on a bigger file (salaries.csv):\n",
    "file_path = 'arquivos/'\n",
    "file_name = 'salarios'\n",
    "file_final = '.csv'\n",
    "file_fullname = file_path + file_name + file_final                     \n",
    "df1 = pd.read_csv(file_fullname)\n",
    "df1.head()"
   ]
  },
  {
   "cell_type": "markdown",
   "id": "555de3bf",
   "metadata": {},
   "source": [
    "# Manipulating TXT files"
   ]
  },
  {
   "cell_type": "code",
   "execution_count": 5,
   "id": "d7530dca",
   "metadata": {},
   "outputs": [
    {
     "name": "stdout",
     "output_type": "stream",
     "text": [
      "Data Scientist is the profession that has being growing up a lot in the world! \n",
      "These professionals need to speacialize themselves in Programming, Statistics and ML. \n",
      "And, of course, in Big Data.\n"
     ]
    }
   ],
   "source": [
    "# Normal string manipulation:\n",
    "text = 'Data Scientist is the profession that has being growing up a lot in the world! \\n'\n",
    "text = text + 'These professionals need to speacialize themselves in Programming, Statistics and ML. \\n'\n",
    "text += 'And, of course, in Big Data.'\n",
    "print(text)"
   ]
  },
  {
   "cell_type": "code",
   "execution_count": 6,
   "id": "43bad5df",
   "metadata": {},
   "outputs": [],
   "source": [
    "# OS LIBRARY (MANIPULATING FILES IN THE \"OPERATIONAL SYSTEM\"):               \n",
    "import os                                                                       # Importing OS library\n",
    "file = open(os.path.join('arquivos/cientista.txt'),'w')                         # Opening file to writing"
   ]
  },
  {
   "cell_type": "code",
   "execution_count": 7,
   "id": "1dd733c6",
   "metadata": {},
   "outputs": [],
   "source": [
    "# Overwriting text using loop For and split() command:\n",
    "for word in text.split():                                                       # Passing for each word\n",
    "    file.write(word + ' ')                                                      # Overwriting the file\n",
    "file.close()                                                                    # Closing the writing mode"
   ]
  },
  {
   "cell_type": "code",
   "execution_count": 8,
   "id": "79f8f77f",
   "metadata": {},
   "outputs": [
    {
     "name": "stdout",
     "output_type": "stream",
     "text": [
      "Direct print on the the variable:\n",
      "\n",
      "Data Scientist is the profession that has being growing up a lot in the world! \n",
      "These professionals need to speacialize themselves in Programming, Statistics and ML. \n",
      "And, of course, in Big Data.\n",
      "\n",
      "Using the .read():\n",
      "\n",
      "Data Scientist is the profession that has being growing up a lot in the world! These professionals need to speacialize themselves in Programming, Statistics and ML. And, of course, in Big Data. \n",
      "\n",
      "Using the .readlines():\n",
      "\n",
      "['Data Scientist is the profession that has being growing up a lot in the world! These professionals need to speacialize themselves in Programming, Statistics and ML. And, of course, in Big Data. ']\n",
      "\n",
      "Using the loop for:\n",
      "\n",
      "Data Scientist is the profession that has being growing up a lot in the world! These professionals need to speacialize themselves in Programming, Statistics and ML. And, of course, in Big Data. \n"
     ]
    }
   ],
   "source": [
    "# Reading the final file:\n",
    "print('Direct print on the the variable:\\n')\n",
    "print(text)\n",
    "file = open('arquivos/cientista.txt','r')\n",
    "content_read = file.read()\n",
    "file.seek(0)\n",
    "content_readlines = file.readlines()\n",
    "file.close()\n",
    "print('\\nUsing the .read():\\n')\n",
    "print(content_read)\n",
    "print('\\nUsing the .readlines():\\n')\n",
    "print(content_readlines)\n",
    "print('\\nUsing the loop for:\\n')\n",
    "for i in open('arquivos/cientista.txt','r'):\n",
    "    print(i)"
   ]
  },
  {
   "cell_type": "markdown",
   "id": "09f2f6aa",
   "metadata": {},
   "source": [
    "# Manipulation using WITH\n",
    "### P.S. -  Using WITH command, there is no need to use close()"
   ]
  },
  {
   "cell_type": "code",
   "execution_count": 9,
   "id": "48a79c8c",
   "metadata": {},
   "outputs": [
    {
     "name": "stdout",
     "output_type": "stream",
     "text": [
      "194\n",
      "Data Scientist is the profession that has being growing up a lot in the world! These professionals need to speacialize themselves in Programming, Statistics and ML. And, of course, in Big Data. \n"
     ]
    }
   ],
   "source": [
    "# Using the with command to save the content:\n",
    "with open('arquivos/cientista.txt','r') as file:\n",
    "    content = file.read()\n",
    "\n",
    "# Printing the saved content and its lenght:\n",
    "print(len(content))\n",
    "print(content)"
   ]
  },
  {
   "cell_type": "code",
   "execution_count": 10,
   "id": "1637aa9b",
   "metadata": {},
   "outputs": [
    {
     "name": "stdout",
     "output_type": "stream",
     "text": [
      "Manipulation TXT files with SLICING\n",
      "\n",
      "## CASE 1: Using .read():\n",
      "\n",
      "Data Scientist is the\n",
      "Data Scientist is the profession \n",
      "\n",
      "## CASE 2: Using .readlines(): \n",
      "\n",
      "['Data Scientist is the\\n', 'Data Scientist is the profession ']\n",
      "\n",
      "## CASE 3: Using loop for to print:\n",
      "\n",
      "Data Scientist is the\n",
      "\n",
      "Data Scientist is the profession \n",
      "\n",
      "## CASE 4: Original variable text:\n",
      "\n",
      "Data Scientist is the profession that has being growing up a lot in the world! \n",
      "These professionals need to speacialize themselves in Programming, Statistics and ML. \n",
      "And, of course, in Big Data.\n"
     ]
    }
   ],
   "source": [
    "# Using the with command and string slicing concept:\n",
    "\n",
    "print('Manipulation TXT files with SLICING')\n",
    "\n",
    "with open('arquivos/cientista.txt', 'w') as file:\n",
    "    file.write(text[:21])\n",
    "    file.write('\\n')\n",
    "    file.write(text[:33])\n",
    "\n",
    "file = open('arquivos/cientista.txt', 'r')\n",
    "content = file.read()\n",
    "print('\\n## CASE 1: Using .read():\\n')\n",
    "print(content)\n",
    "file.seek(0)\n",
    "content = file.readlines()\n",
    "print('\\n## CASE 2: Using .readlines(): \\n')\n",
    "print(content)\n",
    "print('\\n## CASE 3: Using loop for to print:\\n')\n",
    "for i in content:\n",
    "    print(i)\n",
    "file.close()\n",
    "print('\\n## CASE 4: Original variable text:\\n')\n",
    "print(text)"
   ]
  },
  {
   "cell_type": "markdown",
   "id": "a2f8187b",
   "metadata": {},
   "source": [
    "# Manipulating CSV files \n",
    "## CSV means \"comma separeted values\"\n",
    "#### csv library: csv.writer(), csv.reader(), .writerow((,,,))"
   ]
  },
  {
   "cell_type": "code",
   "execution_count": 11,
   "id": "d08ccb00",
   "metadata": {},
   "outputs": [],
   "source": [
    "import csv                                                                    # Importing CSV library"
   ]
  },
  {
   "cell_type": "code",
   "execution_count": 27,
   "id": "dec81655",
   "metadata": {},
   "outputs": [],
   "source": [
    "# CREATING AND FILLING AN EMPTY CSV FILE AS WISHED:\n",
    "with open('teste_csv.csv','w', newline = '') as file:            # !!! newline = '' avoids empty lines\n",
    "    writer = csv.writer(file)                                      \n",
    "    writer.writerow(('first','second','third'))\n",
    "    writer.writerow((55, 93, 76))\n",
    "    writer.writerow((62, 14, 86))"
   ]
  },
  {
   "cell_type": "code",
   "execution_count": 28,
   "id": "8f4dd062",
   "metadata": {},
   "outputs": [
    {
     "name": "stdout",
     "output_type": "stream",
     "text": [
      "Number of Columns:  3\n",
      "['first', 'second', 'third']\n",
      "Number of Columns:  3\n",
      "['55', '93', '76']\n",
      "Number of Columns:  3\n",
      "['62', '14', '86']\n"
     ]
    }
   ],
   "source": [
    "# READING THE CSV FILE JUST CREATED:\n",
    "with open('teste_csv.csv','r') as file:\n",
    "    reader = csv.reader(file)\n",
    "    for i in reader:\n",
    "        print('Number of Columns: ', len(i))\n",
    "        print(i)"
   ]
  },
  {
   "cell_type": "code",
   "execution_count": 70,
   "id": "e1ad82a6",
   "metadata": {},
   "outputs": [
    {
     "name": "stdout",
     "output_type": "stream",
     "text": [
      "[['first', 'second', 'third'], ['55', '93', '76'], ['62', '14', '86']]\n"
     ]
    }
   ],
   "source": [
    "# CREATING A LIST FROM THE CSV:\n",
    "\n",
    "with open('teste_csv.csv','r') as file:\n",
    "          reader = csv.reader(file)\n",
    "          data  = list(reader)\n",
    "print(data)"
   ]
  },
  {
   "cell_type": "code",
   "execution_count": 71,
   "id": "da58e247",
   "metadata": {},
   "outputs": [
    {
     "name": "stdout",
     "output_type": "stream",
     "text": [
      "Printing only the second line:\n",
      "['55', '93', '76']\n",
      "\n",
      "Printing only the third line:\n",
      "['62', '14', '86']\n"
     ]
    }
   ],
   "source": [
    "# PRINTING ONLY A SPECIFIC LINE OF THE LIST:\n",
    "\n",
    "for second_line in data[1:2]:\n",
    "    print('Printing only the second line:')\n",
    "    print(second_line)\n",
    "\n",
    "for third_line in data[2:3]:\n",
    "    print('\\nPrinting only the third line:')\n",
    "    print(third_line)"
   ]
  },
  {
   "cell_type": "markdown",
   "id": "6dd9f304",
   "metadata": {},
   "source": [
    "# Manipulating JSON files\n",
    "## JSON means Java Script Object Notation\n",
    "## They are very useful in Big Data\n",
    "## To manipulate JSON you need the library json"
   ]
  },
  {
   "cell_type": "code",
   "execution_count": 72,
   "id": "403a0e55",
   "metadata": {},
   "outputs": [
    {
     "name": "stdout",
     "output_type": "stream",
     "text": [
      "nome Guido van Rossum\n",
      "linguagem Python\n",
      "similar ['c', 'Modula-3', 'lisp']\n",
      "users 1000000\n"
     ]
    }
   ],
   "source": [
    "# Creating a dictionary:\n",
    "dict = {'nome':'Guido van Rossum', 'linguagem':'Python', 'similar':['c','Modula-3','lisp'],'users':1000000}\n",
    "# Printing the dictionary:\n",
    "for keys, values in dict.items():\n",
    "    print(keys, values)"
   ]
  },
  {
   "cell_type": "code",
   "execution_count": 73,
   "id": "cc7fd83c",
   "metadata": {},
   "outputs": [],
   "source": [
    "# Importing JSON library:\n",
    "import json"
   ]
  },
  {
   "cell_type": "code",
   "execution_count": 74,
   "id": "a171aa46",
   "metadata": {},
   "outputs": [
    {
     "data": {
      "text/plain": [
       "'{\"nome\": \"Guido van Rossum\", \"linguagem\": \"Python\", \"similar\": [\"c\", \"Modula-3\", \"lisp\"], \"users\": 1000000}'"
      ]
     },
     "execution_count": 74,
     "metadata": {},
     "output_type": "execute_result"
    }
   ],
   "source": [
    "# Converting the dictionary into a JSON file:\n",
    "json.dumps(dict)"
   ]
  },
  {
   "cell_type": "code",
   "execution_count": 75,
   "id": "34ca541a",
   "metadata": {},
   "outputs": [],
   "source": [
    "# Creating a JSON file:\n",
    "with open('teste_json.json','w') as file:        # Creating an empty JSON file in writing mode\n",
    "    file.write(json.dumps(dict))                 # Converting the dictionary created into this JSON file"
   ]
  },
  {
   "cell_type": "code",
   "execution_count": 76,
   "id": "5ff676e9",
   "metadata": {},
   "outputs": [
    {
     "name": "stdout",
     "output_type": "stream",
     "text": [
      "{\"nome\": \"Guido van Rossum\", \"linguagem\": \"Python\", \"similar\": [\"c\", \"Modula-3\", \"lisp\"], \"users\": 1000000}\n",
      "{'nome': 'Guido van Rossum', 'linguagem': 'Python', 'similar': ['c', 'Modula-3', 'lisp'], 'users': 1000000}\n"
     ]
    }
   ],
   "source": [
    "# Reading the JSON file created:\n",
    "with open('teste_json.json','r') as file:        # Opening the JSON file in reading mode\n",
    "    text = file.read()                         \n",
    "    data = json.loads(text)\n",
    "\n",
    "print(text)\n",
    "print(data)"
   ]
  },
  {
   "cell_type": "code",
   "execution_count": 77,
   "id": "1e02ad4a",
   "metadata": {},
   "outputs": [
    {
     "name": "stdout",
     "output_type": "stream",
     "text": [
      "Guido van Rossum\n"
     ]
    }
   ],
   "source": [
    "# Choosing a specific element inside the json file (same principle as a common dicitionary):\n",
    "print(data['nome']) # It returns the specific value for the chosen key \"nome\""
   ]
  },
  {
   "cell_type": "markdown",
   "id": "e786b95c",
   "metadata": {},
   "source": [
    "# GETTING JSON FILE FROM INTERNET"
   ]
  },
  {
   "cell_type": "code",
   "execution_count": 82,
   "id": "489510d7",
   "metadata": {},
   "outputs": [],
   "source": [
    "# Searching JSON files directly over the internet:\n",
    "from urllib.request import urlopen\n",
    "response = urlopen('http://vimeo.com/api/v2/video/57733101.json').read().decode('utf8')\n",
    "data = json.loads(response)[0]"
   ]
  },
  {
   "cell_type": "code",
   "execution_count": 83,
   "id": "2708179c",
   "metadata": {},
   "outputs": [
    {
     "name": "stdout",
     "output_type": "stream",
     "text": [
      "id\n",
      "title\n",
      "description\n",
      "url\n",
      "upload_date\n",
      "thumbnail_small\n",
      "thumbnail_medium\n",
      "thumbnail_large\n",
      "user_id\n",
      "user_name\n",
      "user_url\n",
      "user_portrait_small\n",
      "user_portrait_medium\n",
      "user_portrait_large\n",
      "user_portrait_huge\n",
      "stats_number_of_likes\n",
      "stats_number_of_plays\n",
      "stats_number_of_comments\n",
      "duration\n",
      "width\n",
      "height\n",
      "tags\n",
      "embed_privacy\n"
     ]
    }
   ],
   "source": [
    "# Describing all data (JSON file) keys:\n",
    "for json_keys in data:\n",
    "    print(json_keys)"
   ]
  },
  {
   "cell_type": "code",
   "execution_count": 84,
   "id": "1c71ad0c",
   "metadata": {},
   "outputs": [
    {
     "name": "stdout",
     "output_type": "stream",
     "text": [
      "Título:  The Good Man trailer\n",
      "URL:  https://vimeo.com/57733101\n",
      "Duração:  143\n",
      "Número de Visualizações:  6509\n"
     ]
    }
   ],
   "source": [
    "# Now that you know the JSON keys, you can return the desired values for each chosen key:\n",
    "print('Título: ', data['title'])\n",
    "print('URL: ', data['url'])\n",
    "print('Duração: ', data['duration'])\n",
    "print('Número de Visualizações: ', data['stats_number_of_plays'])"
   ]
  },
  {
   "cell_type": "markdown",
   "id": "7bb0ed67",
   "metadata": {},
   "source": [
    "# COPYING THE JSON FILE TO A TXT FILE"
   ]
  },
  {
   "cell_type": "code",
   "execution_count": 98,
   "id": "cffe30e5",
   "metadata": {},
   "outputs": [],
   "source": [
    "import os                                                          # Operational System library\n",
    "\n",
    "source_file = 'arquivos/dados.json'\n",
    "destiny_file = 'arquivos/json_data.txt'"
   ]
  },
  {
   "cell_type": "code",
   "execution_count": 99,
   "id": "bc9f4532",
   "metadata": {},
   "outputs": [],
   "source": [
    "# CASE 1 = with inside another with\n",
    "\n",
    "with open(source_file, 'r') as in_file:\n",
    "    text = in_file.read()\n",
    "    with open(destiny_file, 'w') as out_file:\n",
    "        out_file.write(text)"
   ]
  },
  {
   "cell_type": "code",
   "execution_count": 100,
   "id": "26bf5d1d",
   "metadata": {},
   "outputs": [
    {
     "data": {
      "text/plain": [
       "107"
      ]
     },
     "execution_count": 100,
     "metadata": {},
     "output_type": "execute_result"
    }
   ],
   "source": [
    "# CASE 2 - CONCATENED METHODS IN THE SAME LINE:\n",
    "\n",
    "open(destiny_file,'w').write(open(source_file,'r').read())"
   ]
  },
  {
   "cell_type": "code",
   "execution_count": 103,
   "id": "c6fcb99d",
   "metadata": {},
   "outputs": [
    {
     "name": "stdout",
     "output_type": "stream",
     "text": [
      "{'nome': 'Guido van Rossum', 'linguagem': 'Python', 'similar': ['c', 'Modula-3', 'lisp'], 'users': 1000000}\n"
     ]
    }
   ],
   "source": [
    "# Reading the json files:\n",
    "with open(destiny_file,'r') as file:                 # Destiny file is a JSON file\n",
    "    text = file.read()                               # Reading the JSON\n",
    "    data = json.loads(text)                          # Assimilating data as the json loads of the variable\n",
    "print(data)                                          # Printing it"
   ]
  },
  {
   "cell_type": "markdown",
   "id": "bed71600",
   "metadata": {},
   "source": [
    "# Modules and Packages"
   ]
  },
  {
   "cell_type": "code",
   "execution_count": 109,
   "id": "722b0b7a",
   "metadata": {},
   "outputs": [
    {
     "name": "stdout",
     "output_type": "stream",
     "text": [
      "Modules in Python are files .py that implement a group of functions.\n",
      "We import them using import command, for example:\n",
      "import math\n"
     ]
    }
   ],
   "source": [
    "print('Modules in Python are files .py that implement a group of functions.')\n",
    "print('We import them using import command, for example:\\nimport math')"
   ]
  },
  {
   "cell_type": "code",
   "execution_count": 113,
   "id": "d4b41e95",
   "metadata": {},
   "outputs": [
    {
     "name": "stdout",
     "output_type": "stream",
     "text": [
      "To create your own module, the group of functions that will be used in several programs, you need:\n",
      "1) Create a file like name.py and save it\n",
      "2) Import the file only by name, without the .py, using the command import\n",
      "For example:\n"
     ]
    }
   ],
   "source": [
    "print('To create your own module, the group of functions that will be used in several programs, you need:')\n",
    "print('1) Create a file like name.py and save it')\n",
    "print('2) Import the file only by name, without the .py, using the command import')\n",
    "print('For example:')"
   ]
  },
  {
   "cell_type": "code",
   "execution_count": 115,
   "id": "c4b757c7",
   "metadata": {},
   "outputs": [
    {
     "name": "stdout",
     "output_type": "stream",
     "text": [
      "Also, you can import only specific functions that you are going to use, to avoid unuseful memory.\n",
      "For example, if you need only the squared roots function: \n",
      "from math import sqrt\n"
     ]
    }
   ],
   "source": [
    "print('Also, you can import only specific functions that you are going to use, to avoid unuseful memory.')\n",
    "print('For example, if you need only the squared roots function: \\nfrom math import sqrt')"
   ]
  },
  {
   "cell_type": "code",
   "execution_count": 132,
   "id": "d467cbc4",
   "metadata": {},
   "outputs": [
    {
     "name": "stdout",
     "output_type": "stream",
     "text": [
      "Packages are a way to structure the Python Modules. For example:\n",
      "import module \n",
      "nimport package.module\n",
      "A package is a folder with several modules (python files) and a __init___.py file\n"
     ]
    }
   ],
   "source": [
    "print('Packages are a way to structure the Python Modules. For example:')\n",
    "print('import module \\nnimport package.module')\n",
    "print('A package is a folder with several modules (python files) and a __init___.py file')\n",
    "print('The main Python package community is PypI - Python Package Index')"
   ]
  },
  {
   "cell_type": "code",
   "execution_count": 140,
   "id": "e9e9d2fe",
   "metadata": {},
   "outputs": [
    {
     "data": {
      "text/plain": [
       "5.0"
      ]
     },
     "execution_count": 140,
     "metadata": {},
     "output_type": "execute_result"
    }
   ],
   "source": [
    "# IMPORTING THE ENTIRE MODULE\n",
    "import math                                              # Importing the entire module\n",
    "dir(math)                                                # Describing all functions of this module\n",
    "math.sqrt(25)                                            # Applying"
   ]
  },
  {
   "cell_type": "code",
   "execution_count": 141,
   "id": "296fe91a",
   "metadata": {},
   "outputs": [
    {
     "data": {
      "text/plain": [
       "3.0"
      ]
     },
     "execution_count": 141,
     "metadata": {},
     "output_type": "execute_result"
    }
   ],
   "source": [
    "# IMPORTING A SPECIFIC METHOD FROM THE MODULE\n",
    "from math import sqrt\n",
    "sqrt(9)"
   ]
  },
  {
   "cell_type": "code",
   "execution_count": 142,
   "id": "88c358ce",
   "metadata": {},
   "outputs": [
    {
     "name": "stdout",
     "output_type": "stream",
     "text": [
      "['__doc__', '__loader__', '__name__', '__package__', '__spec__', 'acos', 'acosh', 'asin', 'asinh', 'atan', 'atan2', 'atanh', 'ceil', 'comb', 'copysign', 'cos', 'cosh', 'degrees', 'dist', 'e', 'erf', 'erfc', 'exp', 'expm1', 'fabs', 'factorial', 'floor', 'fmod', 'frexp', 'fsum', 'gamma', 'gcd', 'hypot', 'inf', 'isclose', 'isfinite', 'isinf', 'isnan', 'isqrt', 'lcm', 'ldexp', 'lgamma', 'log', 'log10', 'log1p', 'log2', 'modf', 'nan', 'nextafter', 'perm', 'pi', 'pow', 'prod', 'radians', 'remainder', 'sin', 'sinh', 'sqrt', 'tan', 'tanh', 'tau', 'trunc', 'ulp']\n"
     ]
    }
   ],
   "source": [
    "# PRINTING ALL THE METHODS OF THE MODULE MATH\n",
    "print(dir(math))"
   ]
  },
  {
   "cell_type": "code",
   "execution_count": 168,
   "id": "af658430",
   "metadata": {},
   "outputs": [
    {
     "data": {
      "text/plain": [
       "'Apple'"
      ]
     },
     "execution_count": 168,
     "metadata": {},
     "output_type": "execute_result"
    }
   ],
   "source": [
    "# RANDOM PACKAGE\n",
    "import random                                                # Importing package\n",
    "lista = ['Apple','Banana','Orange']                          # Creating list\n",
    "random.choice(lista)                                         # Bringing a random item of the list"
   ]
  },
  {
   "cell_type": "code",
   "execution_count": 174,
   "id": "39e96b75",
   "metadata": {},
   "outputs": [
    {
     "data": {
      "text/plain": [
       "[0, 8, 12, 15, 14, 3, 9, 10, 16, 1, 4, 19, 6, 2, 13, 7, 11, 5, 18, 17]"
      ]
     },
     "execution_count": 174,
     "metadata": {},
     "output_type": "execute_result"
    }
   ],
   "source": [
    "# Creating a sample - example 1\n",
    "list_example_1 = random.sample(range(0,20),20)\n",
    "list_example_1 "
   ]
  },
  {
   "cell_type": "code",
   "execution_count": 175,
   "id": "91ffd891",
   "metadata": {},
   "outputs": [
    {
     "data": {
      "text/plain": [
       "[-22, 91, 30, -18, -84, 68, 27, -77, -72, 47]"
      ]
     },
     "execution_count": 175,
     "metadata": {},
     "output_type": "execute_result"
    }
   ],
   "source": [
    "# Creating a sample - example 2\n",
    "list_example_2 = random.sample(range(-100,100),10)\n",
    "list_example_2"
   ]
  },
  {
   "cell_type": "markdown",
   "id": "a16fa2f3",
   "metadata": {},
   "source": [
    "# STATISTICS (media - mean, median, mode, etc)"
   ]
  },
  {
   "cell_type": "code",
   "execution_count": 176,
   "id": "b3fcd9e1",
   "metadata": {},
   "outputs": [],
   "source": [
    "# STATISTICS PACKAGE (MEDIA, MEDIAN, MODE)\n",
    "import statistics"
   ]
  },
  {
   "cell_type": "code",
   "execution_count": 177,
   "id": "4b57d0ba",
   "metadata": {},
   "outputs": [
    {
     "name": "stdout",
     "output_type": "stream",
     "text": [
      "List Example 1: [0, 8, 12, 15, 14, 3, 9, 10, 16, 1, 4, 19, 6, 2, 13, 7, 11, 5, 18, 17]\n",
      "Media = 9.5\n",
      "Median = 9.5\n",
      "Mode = 0\n",
      "\n",
      "List Example 2: [-22, 91, 30, -18, -84, 68, 27, -77, -72, 47]\n",
      "Media = -1\n",
      "Median = 4.5\n",
      "Mode = -22\n"
     ]
    }
   ],
   "source": [
    "# Finding media, median and mode of the items of the each list1:\n",
    "print('List Example 1: '+ str(list_example_1))\n",
    "print('Media = '+ str(statistics.mean(list_example_1)))\n",
    "print('Median = '+ str(statistics.median(list_example_1)))\n",
    "print('Mode = '+ str(statistics.mode(list_example_1)))\n",
    "print('')\n",
    "print('List Example 2: '+ str(list_example_2))\n",
    "print('Media = '+ str(statistics.mean(list_example_2)))\n",
    "print('Median = '+ str(statistics.median(list_example_2)))\n",
    "print('Mode = '+ str(statistics.mode(list_example_2)))"
   ]
  },
  {
   "cell_type": "markdown",
   "id": "dec0bed3",
   "metadata": {},
   "source": [
    "# Localization"
   ]
  },
  {
   "cell_type": "code",
   "execution_count": 178,
   "id": "430ef741",
   "metadata": {},
   "outputs": [
    {
     "data": {
      "text/plain": [
       "'C:\\\\Projects\\\\data-science-academy\\\\python\\\\my-own-files'"
      ]
     },
     "execution_count": 178,
     "metadata": {},
     "output_type": "execute_result"
    }
   ],
   "source": [
    "import os\n",
    "os.getcwd()                                                                   # WHAT IS MY CURRENT LOCATION"
   ]
  },
  {
   "cell_type": "code",
   "execution_count": 180,
   "id": "84c8a71d",
   "metadata": {},
   "outputs": [
    {
     "data": {
      "text/plain": [
       "['DirEntry',\n",
       " 'F_OK',\n",
       " 'GenericAlias',\n",
       " 'Mapping',\n",
       " 'MutableMapping',\n",
       " 'O_APPEND',\n",
       " 'O_BINARY',\n",
       " 'O_CREAT',\n",
       " 'O_EXCL',\n",
       " 'O_NOINHERIT',\n",
       " 'O_RANDOM',\n",
       " 'O_RDONLY',\n",
       " 'O_RDWR',\n",
       " 'O_SEQUENTIAL',\n",
       " 'O_SHORT_LIVED',\n",
       " 'O_TEMPORARY',\n",
       " 'O_TEXT',\n",
       " 'O_TRUNC',\n",
       " 'O_WRONLY',\n",
       " 'P_DETACH',\n",
       " 'P_NOWAIT',\n",
       " 'P_NOWAITO',\n",
       " 'P_OVERLAY',\n",
       " 'P_WAIT',\n",
       " 'PathLike',\n",
       " 'R_OK',\n",
       " 'SEEK_CUR',\n",
       " 'SEEK_END',\n",
       " 'SEEK_SET',\n",
       " 'TMP_MAX',\n",
       " 'W_OK',\n",
       " 'X_OK',\n",
       " '_AddedDllDirectory',\n",
       " '_Environ',\n",
       " '__all__',\n",
       " '__builtins__',\n",
       " '__cached__',\n",
       " '__doc__',\n",
       " '__file__',\n",
       " '__loader__',\n",
       " '__name__',\n",
       " '__package__',\n",
       " '__spec__',\n",
       " '_check_methods',\n",
       " '_execvpe',\n",
       " '_exists',\n",
       " '_exit',\n",
       " '_fspath',\n",
       " '_get_exports_list',\n",
       " '_walk',\n",
       " '_wrap_close',\n",
       " 'abc',\n",
       " 'abort',\n",
       " 'access',\n",
       " 'add_dll_directory',\n",
       " 'altsep',\n",
       " 'chdir',\n",
       " 'chmod',\n",
       " 'close',\n",
       " 'closerange',\n",
       " 'cpu_count',\n",
       " 'curdir',\n",
       " 'defpath',\n",
       " 'device_encoding',\n",
       " 'devnull',\n",
       " 'dup',\n",
       " 'dup2',\n",
       " 'environ',\n",
       " 'error',\n",
       " 'execl',\n",
       " 'execle',\n",
       " 'execlp',\n",
       " 'execlpe',\n",
       " 'execv',\n",
       " 'execve',\n",
       " 'execvp',\n",
       " 'execvpe',\n",
       " 'extsep',\n",
       " 'fdopen',\n",
       " 'fsdecode',\n",
       " 'fsencode',\n",
       " 'fspath',\n",
       " 'fstat',\n",
       " 'fsync',\n",
       " 'ftruncate',\n",
       " 'get_exec_path',\n",
       " 'get_handle_inheritable',\n",
       " 'get_inheritable',\n",
       " 'get_terminal_size',\n",
       " 'getcwd',\n",
       " 'getcwdb',\n",
       " 'getenv',\n",
       " 'getlogin',\n",
       " 'getpid',\n",
       " 'getppid',\n",
       " 'isatty',\n",
       " 'kill',\n",
       " 'linesep',\n",
       " 'link',\n",
       " 'listdir',\n",
       " 'lseek',\n",
       " 'lstat',\n",
       " 'makedirs',\n",
       " 'mkdir',\n",
       " 'name',\n",
       " 'open',\n",
       " 'pardir',\n",
       " 'path',\n",
       " 'pathsep',\n",
       " 'pipe',\n",
       " 'popen',\n",
       " 'putenv',\n",
       " 'read',\n",
       " 'readlink',\n",
       " 'remove',\n",
       " 'removedirs',\n",
       " 'rename',\n",
       " 'renames',\n",
       " 'replace',\n",
       " 'rmdir',\n",
       " 'scandir',\n",
       " 'sep',\n",
       " 'set_handle_inheritable',\n",
       " 'set_inheritable',\n",
       " 'spawnl',\n",
       " 'spawnle',\n",
       " 'spawnv',\n",
       " 'spawnve',\n",
       " 'st',\n",
       " 'startfile',\n",
       " 'stat',\n",
       " 'stat_result',\n",
       " 'statvfs_result',\n",
       " 'strerror',\n",
       " 'supports_bytes_environ',\n",
       " 'supports_dir_fd',\n",
       " 'supports_effective_ids',\n",
       " 'supports_fd',\n",
       " 'supports_follow_symlinks',\n",
       " 'symlink',\n",
       " 'sys',\n",
       " 'system',\n",
       " 'terminal_size',\n",
       " 'times',\n",
       " 'times_result',\n",
       " 'truncate',\n",
       " 'umask',\n",
       " 'uname_result',\n",
       " 'unlink',\n",
       " 'unsetenv',\n",
       " 'urandom',\n",
       " 'utime',\n",
       " 'waitpid',\n",
       " 'waitstatus_to_exitcode',\n",
       " 'walk',\n",
       " 'write']"
      ]
     },
     "execution_count": 180,
     "metadata": {},
     "output_type": "execute_result"
    }
   ],
   "source": [
    "dir(os)                                                                      # EVERY METHOD OF OS PACKAGE"
   ]
  },
  {
   "cell_type": "markdown",
   "id": "c9e9a05f",
   "metadata": {},
   "source": [
    "# LIBRARY SYS\n",
    "#### It makes you able to interact with your operational system (similar to OS package)"
   ]
  },
  {
   "cell_type": "code",
   "execution_count": 181,
   "id": "73537554",
   "metadata": {},
   "outputs": [],
   "source": [
    "import sys                                                                          # Importing library"
   ]
  },
  {
   "cell_type": "code",
   "execution_count": 182,
   "id": "c14b557f",
   "metadata": {},
   "outputs": [
    {
     "name": "stdout",
     "output_type": "stream",
     "text": [
      "test"
     ]
    },
    {
     "data": {
      "text/plain": [
       "4"
      ]
     },
     "execution_count": 182,
     "metadata": {},
     "output_type": "execute_result"
    }
   ],
   "source": [
    "sys.stdout.write('test')"
   ]
  },
  {
   "cell_type": "code",
   "execution_count": 183,
   "id": "8294ae2d",
   "metadata": {},
   "outputs": [
    {
     "data": {
      "text/plain": [
       "'3.9.12 (main, Apr  4 2022, 05:22:27) [MSC v.1916 64 bit (AMD64)]'"
      ]
     },
     "execution_count": 183,
     "metadata": {},
     "output_type": "execute_result"
    }
   ],
   "source": [
    "sys.version"
   ]
  },
  {
   "cell_type": "code",
   "execution_count": 184,
   "id": "43f21ac9",
   "metadata": {},
   "outputs": [
    {
     "name": "stdout",
     "output_type": "stream",
     "text": [
      "['__breakpointhook__', '__displayhook__', '__doc__', '__excepthook__', '__interactivehook__', '__loader__', '__name__', '__package__', '__spec__', '__stderr__', '__stdin__', '__stdout__', '__unraisablehook__', '_base_executable', '_clear_type_cache', '_current_frames', '_debugmallocstats', '_enablelegacywindowsfsencoding', '_framework', '_getframe', '_git', '_home', '_xoptions', 'addaudithook', 'api_version', 'argv', 'audit', 'base_exec_prefix', 'base_prefix', 'breakpointhook', 'builtin_module_names', 'byteorder', 'call_tracing', 'copyright', 'displayhook', 'dllhandle', 'dont_write_bytecode', 'exc_info', 'excepthook', 'exec_prefix', 'executable', 'exit', 'flags', 'float_info', 'float_repr_style', 'get_asyncgen_hooks', 'get_coroutine_origin_tracking_depth', 'getallocatedblocks', 'getdefaultencoding', 'getfilesystemencodeerrors', 'getfilesystemencoding', 'getprofile', 'getrecursionlimit', 'getrefcount', 'getsizeof', 'getswitchinterval', 'gettrace', 'getwindowsversion', 'hash_info', 'hexversion', 'implementation', 'int_info', 'intern', 'is_finalizing', 'last_traceback', 'last_type', 'last_value', 'maxsize', 'maxunicode', 'meta_path', 'modules', 'path', 'path_hooks', 'path_importer_cache', 'platform', 'platlibdir', 'prefix', 'ps1', 'ps2', 'ps3', 'pycache_prefix', 'set_asyncgen_hooks', 'set_coroutine_origin_tracking_depth', 'setprofile', 'setrecursionlimit', 'setswitchinterval', 'settrace', 'stderr', 'stdin', 'stdout', 'thread_info', 'unraisablehook', 'version', 'version_info', 'warnoptions', 'winver']\n"
     ]
    }
   ],
   "source": [
    "print(dir(sys))"
   ]
  },
  {
   "cell_type": "markdown",
   "id": "e246b69a",
   "metadata": {},
   "source": [
    "# LIbrary URLLIB.REQUEST\n",
    "### It makes possible to you to get "
   ]
  },
  {
   "cell_type": "code",
   "execution_count": 193,
   "id": "3c04284f",
   "metadata": {},
   "outputs": [],
   "source": [
    "import urllib.request"
   ]
  },
  {
   "cell_type": "code",
   "execution_count": 194,
   "id": "d43bc677",
   "metadata": {},
   "outputs": [
    {
     "name": "stdout",
     "output_type": "stream",
     "text": [
      "<http.client.HTTPResponse object at 0x00000286701D4F70>\n"
     ]
    }
   ],
   "source": [
    "answer = urllib.request.urlopen('http://python.org')\n",
    "print(answer)"
   ]
  },
  {
   "cell_type": "code",
   "execution_count": 195,
   "id": "3f11d098",
   "metadata": {},
   "outputs": [
    {
     "name": "stdout",
     "output_type": "stream",
     "text": [
      "b'<!doctype html>\\n<!--[if lt IE 7]>   <html class=\"no-js ie6 lt-ie7 lt-ie8 lt-ie9\">   <![endif]-->\\n<!--[if IE 7]>      <html class=\"no-js ie7 lt-ie8 lt-ie9\">          <![endif]-->\\n<!--[if IE 8]>      <html class=\"no-js ie8 lt-ie9\">                 <![endif]-->\\n<!--[if gt IE 8]><!--><html class=\"no-js\" lang=\"en\" dir=\"ltr\">  <!--<![endif]-->\\n\\n<head>\\n    <meta charset=\"utf-8\">\\n    <meta http-equiv=\"X-UA-Compatible\" content=\"IE=edge\">\\n\\n    <link rel=\"prefetch\" href=\"//ajax.googleapis.com/ajax/libs/jquery/1.8.2/jquery.min.js\">\\n    <link rel=\"prefetch\" href=\"//ajax.googleapis.com/ajax/libs/jqueryui/1.12.1/jquery-ui.min.js\">\\n\\n    <meta name=\"application-name\" content=\"Python.org\">\\n    <meta name=\"msapplication-tooltip\" content=\"The official home of the Python Programming Language\">\\n    <meta name=\"apple-mobile-web-app-title\" content=\"Python.org\">\\n    <meta name=\"apple-mobile-web-app-capable\" content=\"yes\">\\n    <meta name=\"apple-mobile-web-app-status-bar-style\" content=\"black\">\\n\\n    <meta name=\"viewport\" content=\"width=device-width, initial-scale=1.0\">\\n    <meta name=\"HandheldFriendly\" content=\"True\">\\n    <meta name=\"format-detection\" content=\"telephone=no\">\\n    <meta http-equiv=\"cleartype\" content=\"on\">\\n    <meta http-equiv=\"imagetoolbar\" content=\"false\">\\n\\n    <script async\\n            src=\"https://media.ethicalads.io/media/client/v1.4.0/ethicalads.min.js\"\\n            integrity=\"sha256-U3hKDidudIaxBDEzwGJApJgPEf2mWk6cfMWghrAa6i0= sha384-UcmsCqcNRSLW/dV3Lo1oCi2/VaurXbib6p4HyUEOeIa/4OpsrnucrugAefzVZJfI sha512-q4t1L4xEjGV2R4hzqCa41P8jrgFUS8xTb8rdNv4FGvw7FpydVj/kkxBJHOiaoxHa8olCcx1Slk9K+3sNbsM4ug==\"\\n            crossorigin=\"anonymous\"\\n    ></script>\\n    <script src=\"/static/js/libs/modernizr.js\"></script>\\n\\n    <link href=\"/static/stylesheets/style.2135bffe4dde.css\" rel=\"stylesheet\" type=\"text/css\" media=\"all\" title=\"default\" />\\n    <link href=\"/static/stylesheets/mq.f9187444a4a1.css\" rel=\"stylesheet\" type=\"text/css\" media=\"not print, braille, embossed, speech, tty\" />\\n    \\n\\n    <!--[if (lte IE 8)&(!IEMobile)]>\\n    <link href=\"/static/stylesheets/no-mq.bf0c425cdb73.css\" rel=\"stylesheet\" type=\"text/css\" media=\"screen\" />\\n    \\n    \\n    <![endif]-->\\n    <link rel=\"stylesheet\" href=\"//ajax.googleapis.com/ajax/libs/jqueryui/1.12.1/themes/smoothness/jquery-ui.css\">\\n\\n    \\n    <link rel=\"icon\" type=\"image/x-icon\" href=\"/static/favicon.ico\">\\n    <link rel=\"apple-touch-icon-precomposed\" sizes=\"144x144\" href=\"/static/apple-touch-icon-144x144-precomposed.png\">\\n    <link rel=\"apple-touch-icon-precomposed\" sizes=\"114x114\" href=\"/static/apple-touch-icon-114x114-precomposed.png\">\\n    <link rel=\"apple-touch-icon-precomposed\" sizes=\"72x72\" href=\"/static/apple-touch-icon-72x72-precomposed.png\">\\n    <link rel=\"apple-touch-icon-precomposed\" href=\"/static/apple-touch-icon-precomposed.png\">\\n    <link rel=\"apple-touch-icon\" href=\"/static/apple-touch-icon-precomposed.png\">\\n\\n    \\n    <meta name=\"msapplication-TileImage\" content=\"/static/metro-icon-144x144-precomposed.png\"><!-- white shape -->\\n    <meta name=\"msapplication-TileColor\" content=\"#3673a5\"><!-- python blue -->\\n    <meta name=\"msapplication-navbutton-color\" content=\"#3673a5\">\\n\\n    <title>Welcome to Python.org</title>\\n\\n    <meta name=\"description\" content=\"The official home of the Python Programming Language\">\\n    <meta name=\"keywords\" content=\"Python programming language object oriented web free open source software license documentation download community\">\\n\\n    \\n    <meta property=\"og:type\" content=\"website\">\\n    <meta property=\"og:site_name\" content=\"Python.org\">\\n    <meta property=\"og:title\" content=\"Welcome to Python.org\">\\n    <meta property=\"og:description\" content=\"The official home of the Python Programming Language\">\\n    \\n    <meta property=\"og:image\" content=\"https://www.python.org/static/opengraph-icon-200x200.png\">\\n    <meta property=\"og:image:secure_url\" content=\"https://www.python.org/static/opengraph-icon-200x200.png\">\\n    \\n    <meta property=\"og:url\" content=\"https://www.python.org/\">\\n\\n    <link rel=\"author\" href=\"/static/humans.txt\">\\n\\n    <link rel=\"alternate\" type=\"application/rss+xml\" title=\"Python Enhancement Proposals\"\\n          href=\"https://www.python.org/dev/peps/peps.rss/\">\\n    <link rel=\"alternate\" type=\"application/rss+xml\" title=\"Python Job Opportunities\"\\n          href=\"https://www.python.org/jobs/feed/rss/\">\\n    <link rel=\"alternate\" type=\"application/rss+xml\" title=\"Python Software Foundation News\"\\n          href=\"https://feeds.feedburner.com/PythonSoftwareFoundationNews\">\\n    <link rel=\"alternate\" type=\"application/rss+xml\" title=\"Python Insider\"\\n          href=\"https://feeds.feedburner.com/PythonInsider\">\\n\\n    \\n\\n    \\n    <script type=\"application/ld+json\">\\n     {\\n       \"@context\": \"https://schema.org\",\\n       \"@type\": \"WebSite\",\\n       \"url\": \"https://www.python.org/\",\\n       \"potentialAction\": {\\n         \"@type\": \"SearchAction\",\\n         \"target\": \"https://www.python.org/search/?q={search_term_string}\",\\n         \"query-input\": \"required name=search_term_string\"\\n       }\\n     }\\n    </script>\\n\\n    \\n    <script type=\"text/javascript\">\\n    var _gaq = _gaq || [];\\n    _gaq.push([\\'_setAccount\\', \\'UA-39055973-1\\']);\\n    _gaq.push([\\'_trackPageview\\']);\\n\\n    (function() {\\n        var ga = document.createElement(\\'script\\'); ga.type = \\'text/javascript\\'; ga.async = true;\\n        ga.src = (\\'https:\\' == document.location.protocol ? \\'https://ssl\\' : \\'http://www\\') + \\'.google-analytics.com/ga.js\\';\\n        var s = document.getElementsByTagName(\\'script\\')[0]; s.parentNode.insertBefore(ga, s);\\n    })();\\n    </script>\\n    \\n</head>\\n\\n<body class=\"python home\" id=\"homepage\">\\n\\n    <div id=\"touchnav-wrapper\">\\n\\n        <div id=\"nojs\" class=\"do-not-print\">\\n            <p><strong>Notice:</strong> While JavaScript is not essential for this website, your interaction with the content will be limited. Please turn JavaScript on for the full experience. </p>\\n        </div>\\n\\n        <!--[if lte IE 8]>\\n        <div id=\"oldie-warning\" class=\"do-not-print\">\\n            <p>\\n                <strong>Notice:</strong> Your browser is <em>ancient</em>. Please\\n                <a href=\"http://browsehappy.com/\">upgrade to a different browser</a> to experience a better web.\\n            </p>\\n        </div>\\n        <![endif]-->\\n\\n        <!-- Sister Site Links -->\\n        <div id=\"top\" class=\"top-bar do-not-print\">\\n\\n            <nav class=\"meta-navigation container\" role=\"navigation\">\\n\\n                \\n                <div class=\"skip-link screen-reader-text\">\\n                    <a href=\"#content\" title=\"Skip to content\">Skip to content</a>\\n                </div>\\n\\n                \\n                <a id=\"close-python-network\" class=\"jump-link\" href=\"#python-network\" aria-hidden=\"true\">\\n                    <span aria-hidden=\"true\" class=\"icon-arrow-down\"><span>&#9660;</span></span> Close\\n                </a>\\n\\n                \\n\\n<ul class=\"menu\" role=\"tree\">\\n    \\n    <li class=\"python-meta current_item selectedcurrent_branch selected\">\\n        <a href=\"/\" title=\"The Python Programming Language\" class=\"current_item selectedcurrent_branch selected\">Python</a>\\n    </li>\\n    \\n    <li class=\"psf-meta \">\\n        <a href=\"/psf-landing/\" title=\"The Python Software Foundation\" >PSF</a>\\n    </li>\\n    \\n    <li class=\"docs-meta \">\\n        <a href=\"https://docs.python.org\" title=\"Python Documentation\" >Docs</a>\\n    </li>\\n    \\n    <li class=\"pypi-meta \">\\n        <a href=\"https://pypi.org/\" title=\"Python Package Index\" >PyPI</a>\\n    </li>\\n    \\n    <li class=\"jobs-meta \">\\n        <a href=\"/jobs/\" title=\"Python Job Board\" >Jobs</a>\\n    </li>\\n    \\n    <li class=\"shop-meta \">\\n        <a href=\"/community-landing/\"  >Community</a>\\n    </li>\\n    \\n</ul>\\n\\n\\n                <a id=\"python-network\" class=\"jump-link\" href=\"#top\" aria-hidden=\"true\">\\n                    <span aria-hidden=\"true\" class=\"icon-arrow-up\"><span>&#9650;</span></span> The Python Network\\n                </a>\\n\\n            </nav>\\n\\n        </div>\\n\\n        <!-- Header elements -->\\n        <header class=\"main-header\" role=\"banner\">\\n            <div class=\"container\">\\n\\n                <h1 class=\"site-headline\">\\n                    <a href=\"/\"><img class=\"python-logo\" src=\"/static/img/python-logo.png\" alt=\"python&trade;\"></a>\\n                </h1>\\n\\n                <div class=\"options-bar-container do-not-print\">\\n                    <a href=\"https://psfmember.org/civicrm/contribute/transact?reset=1&id=2\" class=\"donate-button\">Donate</a>\\n                    <div class=\"options-bar\">\\n                        \\n                        <a id=\"site-map-link\" class=\"jump-to-menu\" href=\"#site-map\"><span class=\"menu-icon\">&equiv;</span> Menu</a><form class=\"search-the-site\" action=\"/search/\" method=\"get\">\\n                            <fieldset title=\"Search Python.org\">\\n\\n                                <span aria-hidden=\"true\" class=\"icon-search\"></span>\\n\\n                                <label class=\"screen-reader-text\" for=\"id-search-field\">Search This Site</label>\\n                                <input id=\"id-search-field\" name=\"q\" type=\"search\" role=\"textbox\" class=\"search-field\" placeholder=\"Search\" value=\"\" tabindex=\"1\">\\n\\n                                <button type=\"submit\" name=\"submit\" id=\"submit\" class=\"search-button\" title=\"Submit this Search\" tabindex=\"3\">\\n                                    GO\\n                                </button>\\n\\n                                \\n                                <!--[if IE]><input type=\"text\" style=\"display: none;\" disabled=\"disabled\" size=\"1\" tabindex=\"4\"><![endif]-->\\n\\n                            </fieldset>\\n                        </form><span class=\"breaker\"></span><div class=\"adjust-font-size\" aria-hidden=\"true\">\\n                            <ul class=\"navigation menu\" aria-label=\"Adjust Text Size on Page\">\\n                                <li class=\"tier-1 last\" aria-haspopup=\"true\">\\n                                    <a href=\"#\" class=\"action-trigger\"><strong><small>A</small> A</strong></a>\\n                                    <ul class=\"subnav menu\">\\n                                        <li class=\"tier-2 element-1\" role=\"treeitem\"><a class=\"text-shrink\" title=\"Make Text Smaller\" href=\"javascript:;\">Smaller</a></li>\\n                                        <li class=\"tier-2 element-2\" role=\"treeitem\"><a class=\"text-grow\" title=\"Make Text Larger\" href=\"javascript:;\">Larger</a></li>\\n                                        <li class=\"tier-2 element-3\" role=\"treeitem\"><a class=\"text-reset\" title=\"Reset any font size changes I have made\" href=\"javascript:;\">Reset</a></li>\\n                                    </ul>\\n                                </li>\\n                            </ul>\\n                        </div><div class=\"winkwink-nudgenudge\">\\n                            <ul class=\"navigation menu\" aria-label=\"Social Media Navigation\">\\n                                <li class=\"tier-1 last\" aria-haspopup=\"true\">\\n                                    <a href=\"#\" class=\"action-trigger\">Socialize</a>\\n                                    <ul class=\"subnav menu\">\\n                                        <li class=\"tier-2 element-1\" role=\"treeitem\"><a href=\"https://www.facebook.com/pythonlang?fref=ts\"><span aria-hidden=\"true\" class=\"icon-facebook\"></span>Facebook</a></li>\\n                                        <li class=\"tier-2 element-2\" role=\"treeitem\"><a href=\"https://twitter.com/ThePSF\"><span aria-hidden=\"true\" class=\"icon-twitter\"></span>Twitter</a></li>\\n                                        <li class=\"tier-2 element-3\" role=\"treeitem\"><a href=\"/community/irc/\"><span aria-hidden=\"true\" class=\"icon-freenode\"></span>Chat on IRC</a></li>\\n                                    </ul>\\n                                </li>\\n                            </ul>\\n                        </div>\\n                        <span data-html-include=\"/authenticated\"></span>\\n                    </div><!-- end options-bar -->\\n                </div>\\n\\n                <nav id=\"mainnav\" class=\"python-navigation main-navigation do-not-print\" role=\"navigation\">\\n                    \\n                        \\n<ul class=\"navigation menu\" role=\"menubar\" aria-label=\"Main Navigation\">\\n  \\n    \\n    \\n    <li id=\"about\" class=\"tier-1 element-1  \" aria-haspopup=\"true\">\\n        <a href=\"/about/\" title=\"\" class=\"\">About</a>\\n        \\n            \\n\\n<ul class=\"subnav menu\" role=\"menu\" aria-hidden=\"true\">\\n    \\n        <li class=\"tier-2 element-1\" role=\"treeitem\"><a href=\"/about/apps/\" title=\"\">Applications</a></li>\\n    \\n        <li class=\"tier-2 element-2\" role=\"treeitem\"><a href=\"/about/quotes/\" title=\"\">Quotes</a></li>\\n    \\n        <li class=\"tier-2 element-3\" role=\"treeitem\"><a href=\"/about/gettingstarted/\" title=\"\">Getting Started</a></li>\\n    \\n        <li class=\"tier-2 element-4\" role=\"treeitem\"><a href=\"/about/help/\" title=\"\">Help</a></li>\\n    \\n        <li class=\"tier-2 element-5\" role=\"treeitem\"><a href=\"http://brochure.getpython.info/\" title=\"\">Python Brochure</a></li>\\n    \\n</ul>\\n\\n        \\n    </li>\\n    \\n    \\n    \\n    <li id=\"downloads\" class=\"tier-1 element-2  \" aria-haspopup=\"true\">\\n        <a href=\"/downloads/\" title=\"\" class=\"\">Downloads</a>\\n        \\n            \\n\\n<ul class=\"subnav menu\" role=\"menu\" aria-hidden=\"true\">\\n    \\n        <li class=\"tier-2 element-1\" role=\"treeitem\"><a href=\"/downloads/\" title=\"\">All releases</a></li>\\n    \\n        <li class=\"tier-2 element-2\" role=\"treeitem\"><a href=\"/downloads/source/\" title=\"\">Source code</a></li>\\n    \\n        <li class=\"tier-2 element-3\" role=\"treeitem\"><a href=\"/downloads/windows/\" title=\"\">Windows</a></li>\\n    \\n        <li class=\"tier-2 element-4\" role=\"treeitem\"><a href=\"/downloads/macos/\" title=\"\">macOS</a></li>\\n    \\n        <li class=\"tier-2 element-5\" role=\"treeitem\"><a href=\"/download/other/\" title=\"\">Other Platforms</a></li>\\n    \\n        <li class=\"tier-2 element-6\" role=\"treeitem\"><a href=\"https://docs.python.org/3/license.html\" title=\"\">License</a></li>\\n    \\n        <li class=\"tier-2 element-7\" role=\"treeitem\"><a href=\"/download/alternatives\" title=\"\">Alternative Implementations</a></li>\\n    \\n</ul>\\n\\n        \\n    </li>\\n    \\n    \\n    \\n    <li id=\"documentation\" class=\"tier-1 element-3  \" aria-haspopup=\"true\">\\n        <a href=\"/doc/\" title=\"\" class=\"\">Documentation</a>\\n        \\n            \\n\\n<ul class=\"subnav menu\" role=\"menu\" aria-hidden=\"true\">\\n    \\n        <li class=\"tier-2 element-1\" role=\"treeitem\"><a href=\"/doc/\" title=\"\">Docs</a></li>\\n    \\n        <li class=\"tier-2 element-2\" role=\"treeitem\"><a href=\"/doc/av\" title=\"\">Audio/Visual Talks</a></li>\\n    \\n        <li class=\"tier-2 element-3\" role=\"treeitem\"><a href=\"https://wiki.python.org/moin/BeginnersGuide\" title=\"\">Beginner&#39;s Guide</a></li>\\n    \\n        <li class=\"tier-2 element-4\" role=\"treeitem\"><a href=\"https://devguide.python.org/\" title=\"\">Developer&#39;s Guide</a></li>\\n    \\n        <li class=\"tier-2 element-5\" role=\"treeitem\"><a href=\"https://docs.python.org/faq/\" title=\"\">FAQ</a></li>\\n    \\n        <li class=\"tier-2 element-6\" role=\"treeitem\"><a href=\"http://wiki.python.org/moin/Languages\" title=\"\">Non-English Docs</a></li>\\n    \\n        <li class=\"tier-2 element-7\" role=\"treeitem\"><a href=\"http://python.org/dev/peps/\" title=\"\">PEP Index</a></li>\\n    \\n        <li class=\"tier-2 element-8\" role=\"treeitem\"><a href=\"https://wiki.python.org/moin/PythonBooks\" title=\"\">Python Books</a></li>\\n    \\n        <li class=\"tier-2 element-9\" role=\"treeitem\"><a href=\"/doc/essays/\" title=\"\">Python Essays</a></li>\\n    \\n</ul>\\n\\n        \\n    </li>\\n    \\n    \\n    \\n    <li id=\"community\" class=\"tier-1 element-4  \" aria-haspopup=\"true\">\\n        <a href=\"/community/\" title=\"\" class=\"\">Community</a>\\n        \\n            \\n\\n<ul class=\"subnav menu\" role=\"menu\" aria-hidden=\"true\">\\n    \\n        <li class=\"tier-2 element-1\" role=\"treeitem\"><a href=\"/community/diversity/\" title=\"\">Diversity</a></li>\\n    \\n        <li class=\"tier-2 element-2\" role=\"treeitem\"><a href=\"/community/lists/\" title=\"\">Mailing Lists</a></li>\\n    \\n        <li class=\"tier-2 element-3\" role=\"treeitem\"><a href=\"/community/irc/\" title=\"\">IRC</a></li>\\n    \\n        <li class=\"tier-2 element-4\" role=\"treeitem\"><a href=\"/community/forums/\" title=\"\">Forums</a></li>\\n    \\n        <li class=\"tier-2 element-5\" role=\"treeitem\"><a href=\"/psf/annual-report/2021/\" title=\"\">PSF Annual Impact Report</a></li>\\n    \\n        <li class=\"tier-2 element-6\" role=\"treeitem\"><a href=\"/community/workshops/\" title=\"\">Python Conferences</a></li>\\n    \\n        <li class=\"tier-2 element-7\" role=\"treeitem\"><a href=\"/community/sigs/\" title=\"\">Special Interest Groups</a></li>\\n    \\n        <li class=\"tier-2 element-8\" role=\"treeitem\"><a href=\"/community/logos/\" title=\"\">Python Logo</a></li>\\n    \\n        <li class=\"tier-2 element-9\" role=\"treeitem\"><a href=\"https://wiki.python.org/moin/\" title=\"\">Python Wiki</a></li>\\n    \\n        <li class=\"tier-2 element-10\" role=\"treeitem\"><a href=\"/community/merchandise/\" title=\"\">Merchandise</a></li>\\n    \\n        <li class=\"tier-2 element-11\" role=\"treeitem\"><a href=\"/community/awards\" title=\"\">Community Awards</a></li>\\n    \\n        <li class=\"tier-2 element-12\" role=\"treeitem\"><a href=\"/psf/conduct/\" title=\"\">Code of Conduct</a></li>\\n    \\n        <li class=\"tier-2 element-13\" role=\"treeitem\"><a href=\"/psf/get-involved/\" title=\"\">Get Involved</a></li>\\n    \\n        <li class=\"tier-2 element-14\" role=\"treeitem\"><a href=\"/psf/community-stories/\" title=\"\">Shared Stories</a></li>\\n    \\n</ul>\\n\\n        \\n    </li>\\n    \\n    \\n    \\n    <li id=\"success-stories\" class=\"tier-1 element-5  \" aria-haspopup=\"true\">\\n        <a href=\"/success-stories/\" title=\"success-stories\" class=\"\">Success Stories</a>\\n        \\n            \\n\\n<ul class=\"subnav menu\" role=\"menu\" aria-hidden=\"true\">\\n    \\n        <li class=\"tier-2 element-1\" role=\"treeitem\"><a href=\"/success-stories/category/arts/\" title=\"\">Arts</a></li>\\n    \\n        <li class=\"tier-2 element-2\" role=\"treeitem\"><a href=\"/success-stories/category/business/\" title=\"\">Business</a></li>\\n    \\n        <li class=\"tier-2 element-3\" role=\"treeitem\"><a href=\"/success-stories/category/education/\" title=\"\">Education</a></li>\\n    \\n        <li class=\"tier-2 element-4\" role=\"treeitem\"><a href=\"/success-stories/category/engineering/\" title=\"\">Engineering</a></li>\\n    \\n        <li class=\"tier-2 element-5\" role=\"treeitem\"><a href=\"/success-stories/category/government/\" title=\"\">Government</a></li>\\n    \\n        <li class=\"tier-2 element-6\" role=\"treeitem\"><a href=\"/success-stories/category/scientific/\" title=\"\">Scientific</a></li>\\n    \\n        <li class=\"tier-2 element-7\" role=\"treeitem\"><a href=\"/success-stories/category/software-development/\" title=\"\">Software Development</a></li>\\n    \\n</ul>\\n\\n        \\n    </li>\\n    \\n    \\n    \\n    <li id=\"news\" class=\"tier-1 element-6  \" aria-haspopup=\"true\">\\n        <a href=\"/blogs/\" title=\"News from around the Python world\" class=\"\">News</a>\\n        \\n            \\n\\n<ul class=\"subnav menu\" role=\"menu\" aria-hidden=\"true\">\\n    \\n        <li class=\"tier-2 element-1\" role=\"treeitem\"><a href=\"/blogs/\" title=\"Python Insider Blog Posts\">Python News</a></li>\\n    \\n        <li class=\"tier-2 element-2\" role=\"treeitem\"><a href=\"/psf/newsletter/\" title=\"Python Software Foundation Newsletter\">PSF Newsletter</a></li>\\n    \\n        <li class=\"tier-2 element-3\" role=\"treeitem\"><a href=\"http://planetpython.org/\" title=\"Planet Python\">Community News</a></li>\\n    \\n        <li class=\"tier-2 element-4\" role=\"treeitem\"><a href=\"http://pyfound.blogspot.com/\" title=\"PSF Blog\">PSF News</a></li>\\n    \\n        <li class=\"tier-2 element-5\" role=\"treeitem\"><a href=\"http://pycon.blogspot.com/\" title=\"PyCon Blog\">PyCon News</a></li>\\n    \\n</ul>\\n\\n        \\n    </li>\\n    \\n    \\n    \\n    <li id=\"events\" class=\"tier-1 element-7  \" aria-haspopup=\"true\">\\n        <a href=\"/events/\" title=\"\" class=\"\">Events</a>\\n        \\n            \\n\\n<ul class=\"subnav menu\" role=\"menu\" aria-hidden=\"true\">\\n    \\n        <li class=\"tier-2 element-1\" role=\"treeitem\"><a href=\"/events/python-events/\" title=\"\">Python Events</a></li>\\n    \\n        <li class=\"tier-2 element-2\" role=\"treeitem\"><a href=\"/events/python-user-group/\" title=\"\">User Group Events</a></li>\\n    \\n        <li class=\"tier-2 element-3\" role=\"treeitem\"><a href=\"/events/python-events/past/\" title=\"\">Python Events Archive</a></li>\\n    \\n        <li class=\"tier-2 element-4\" role=\"treeitem\"><a href=\"/events/python-user-group/past/\" title=\"\">User Group Events Archive</a></li>\\n    \\n        <li class=\"tier-2 element-5\" role=\"treeitem\"><a href=\"https://wiki.python.org/moin/PythonEventsCalendar#Submitting_an_Event\" title=\"\">Submit an Event</a></li>\\n    \\n</ul>\\n\\n        \\n    </li>\\n    \\n    \\n    \\n    \\n  \\n</ul>\\n\\n                    \\n                </nav>\\n\\n                <div class=\"header-banner \"> <!-- for optional \"do-not-print\" class -->\\n                    \\n        <div id=\"dive-into-python\" class=\"flex-slideshow slideshow\">\\n\\n            <ul class=\"launch-shell menu\" id=\"launch-shell\">\\n                <li>\\n                    <a class=\"button prompt\" id=\"start-shell\" data-shell-container=\"#dive-into-python\" href=\"/shell/\">&gt;_\\n                        <span class=\"message\">Launch Interactive Shell</span>\\n                    </a>\\n                </li>\\n            </ul>\\n\\n            <ul class=\"slides menu\">\\n                \\n                <li>\\n                    <div class=\"slide-code\"><pre><code><span class=\"comment\"># Python 3: Fibonacci series up to n</span>\\r\\n>>> def fib(n):\\r\\n>>>     a, b = 0, 1\\r\\n>>>     while a &lt; n:\\r\\n>>>         print(a, end=\\' \\')\\r\\n>>>         a, b = b, a+b\\r\\n>>>     print()\\r\\n>>> fib(1000)\\r\\n<span class=\"output\">0 1 1 2 3 5 8 13 21 34 55 89 144 233 377 610 987</span></code></pre></div>\\n                    <div class=\"slide-copy\"><h1>Functions Defined</h1>\\r\\n<p>The core of extensible programming is defining functions. Python allows mandatory and optional arguments, keyword arguments, and even arbitrary argument lists. <a href=\"//docs.python.org/3/tutorial/controlflow.html#defining-functions\">More about defining functions in Python&nbsp;3</a></p></div>\\n                </li>\\n                \\n                <li>\\n                    <div class=\"slide-code\"><pre><code><span class=\"comment\"># Python 3: List comprehensions</span>\\r\\n>>> fruits = [\\'Banana\\', \\'Apple\\', \\'Lime\\']\\r\\n>>> loud_fruits = [fruit.upper() for fruit in fruits]\\r\\n>>> print(loud_fruits)\\r\\n<span class=\"output\">[\\'BANANA\\', \\'APPLE\\', \\'LIME\\']</span>\\r\\n\\r\\n<span class=\"comment\"># List and the enumerate function</span>\\r\\n>>> list(enumerate(fruits))\\r\\n<span class=\"output\">[(0, \\'Banana\\'), (1, \\'Apple\\'), (2, \\'Lime\\')]</span></code></pre></div>\\n                    <div class=\"slide-copy\"><h1>Compound Data Types</h1>\\r\\n<p>Lists (known as arrays in other languages) are one of the compound data types that Python understands. Lists can be indexed, sliced and manipulated with other built-in functions. <a href=\"//docs.python.org/3/tutorial/introduction.html#lists\">More about lists in Python&nbsp;3</a></p></div>\\n                </li>\\n                \\n                <li>\\n                    <div class=\"slide-code\"><pre><code><span class=\"comment\"># Python 3: Simple arithmetic</span>\\r\\n>>> 1 / 2\\r\\n<span class=\"output\">0.5</span>\\r\\n>>> 2 ** 3\\r\\n<span class=\"output\">8</span>\\r\\n>>> 17 / 3  <span class=\"comment\"># classic division returns a float</span>\\r\\n<span class=\"output\">5.666666666666667</span>\\r\\n>>> 17 // 3  <span class=\"comment\"># floor division</span>\\r\\n<span class=\"output\">5</span></code></pre></div>\\n                    <div class=\"slide-copy\"><h1>Intuitive Interpretation</h1>\\r\\n<p>Calculations are simple with Python, and expression syntax is straightforward: the operators <code>+</code>, <code>-</code>, <code>*</code> and <code>/</code> work as expected; parentheses <code>()</code> can be used for grouping. <a href=\"http://docs.python.org/3/tutorial/introduction.html#using-python-as-a-calculator\">More about simple math functions in Python&nbsp;3</a>.</p></div>\\n                </li>\\n                \\n                <li>\\n                    <div class=\"slide-code\"><pre><code><span class=\"comment\"># Python 3: Simple output (with Unicode)</span>\\r\\n>>> print(\"Hello, I\\'m Python!\")\\r\\n<span class=\"output\">Hello, I\\'m Python!</span>\\r\\n\\r\\n<span class=\"comment\"># Input, assignment</span>\\r\\n>>> name = input(\\'What is your name?\\\\n\\')\\r\\n>>> print(\\'Hi, %s.\\' % name)\\r\\n<span class=\"output\">What is your name?\\r\\nPython\\r\\nHi, Python.</span></code></pre></div>\\n                    <div class=\"slide-copy\"><h1>Quick &amp; Easy to Learn</h1>\\r\\n<p>Experienced programmers in any other language can pick up Python very quickly, and beginners find the clean syntax and indentation structure easy to learn. <a href=\"//docs.python.org/3/tutorial/\">Whet your appetite</a> with our Python&nbsp;3 overview.</p>\\r\\n                   </div>\\n                </li>\\n                \\n                <li>\\n                    <div class=\"slide-code\"><pre><code><span class=\"comment\"># For loop on a list</span>\\r\\n>>> numbers = [2, 4, 6, 8]\\r\\n>>> product = 1\\r\\n>>> for number in numbers:\\r\\n...    product = product * number\\r\\n... \\r\\n>>> print(\\'The product is:\\', product)\\r\\n<span class=\"output\">The product is: 384</span></code></pre></div>\\n                    <div class=\"slide-copy\"><h1>All the Flow You&rsquo;d Expect</h1>\\r\\n<p>Python knows the usual control flow statements that other languages speak &mdash; <code>if</code>, <code>for</code>, <code>while</code> and <code>range</code> &mdash; with some of its own twists, of course. <a href=\"//docs.python.org/3/tutorial/controlflow.html\">More control flow tools in Python&nbsp;3</a></p></div>\\n                </li>\\n                \\n            </ul>\\n        </div>\\n\\n\\n                </div>\\n\\n                \\n        <div class=\"introduction\">\\n            <p>Python is a programming language that lets you work quickly <span class=\"breaker\"></span>and integrate systems more effectively. <a class=\"readmore\" href=\"/doc/\">Learn More</a></p>\\n        </div>\\n\\n\\n             </div><!-- end .container -->\\n        </header>\\n\\n        <div id=\"content\" class=\"content-wrapper\">\\n            <!-- Main Content Column -->\\n            <div class=\"container\">\\n\\n                <section class=\"main-content \" role=\"main\">\\n\\n                    \\n                    \\n\\n                    \\n\\n                    \\n\\n                <div class=\"notification-bar notification-bar--survey\" style=\"background-color: #ffdf76; color: #664e04; border-color: #004d7a; text-align: center; background-color: #004d7a; color: #fff; padding: 10px; margin: .5em; position: relative; width: 95%; background-color: #ffdf76; color: #664e04; border-color: #004d7a; border-radius: 1em;\">\\n  <span class=\"notification-bar__icon\">\\n    <i class=\"fa fa-chart-line\" aria-hidden=\"true\"></i>\\n  </span>\\n  <span class=\"notification-bar__message\">Join the official Python Developers Survey 2022 and win valuable prizes: Start the Survey! &nbsp;&nbsp;<a class=\"button button--dark button--small button--primary\" style=\"color: #606060; border-color: #006dad; background-color: #006dad;\" href=\"https://surveys.jetbrains.com/s3/c2-python-developers-survey-2022\"  target=\"_blank\" rel=\"noopener\">Python Developers Survey 2022</a>\\n   </span>\\n</div>\\n\\n\\n                <div class=\"row\">\\n\\n                    <div class=\"small-widget get-started-widget\">\\n                        <h2 class=\"widget-title\"><span aria-hidden=\"true\" class=\"icon-get-started\"></span>Get Started</h2>\\r\\n<p>Whether you\\'re new to programming or an experienced developer, it\\'s easy to learn and use Python.</p>\\r\\n<p><a href=\"/about/gettingstarted/\">Start with our Beginner&rsquo;s Guide</a></p>\\n                    </div>\\n\\n                    <div class=\"small-widget download-widget\">\\n                        <h2 class=\"widget-title\"><span aria-hidden=\"true\" class=\"icon-download\"></span>Download</h2>\\n<p>Python source code and installers are available for download for all versions!</p>\\n<p>Latest: <a href=\"/downloads/release/python-3108/\">Python 3.10.8</a></p>\\n                    </div>\\n\\n                    <div class=\"small-widget documentation-widget\">\\n                        <h2 class=\"widget-title\"><span aria-hidden=\"true\" class=\"icon-documentation\"></span>Docs</h2>\\r\\n<p>Documentation for Python\\'s standard library, along with tutorials and guides, are available online.</p>\\r\\n<p><a href=\"https://docs.python.org\">docs.python.org</a></p>\\n                    </div>\\n\\n                    <div class=\"small-widget jobs-widget last\">\\n                        <h2 class=\"widget-title\"><span aria-hidden=\"true\" class=\"icon-jobs\"></span>Jobs</h2>\\r\\n<p>Looking for work or have a Python related position that you\\'re trying to hire for? Our <strong>relaunched community-run job board</strong> is the place to go.</p>\\r\\n<p><a href=\"//jobs.python.org\">jobs.python.org</a></p>\\n                    </div>\\n\\n                </div>\\n\\n                <div class=\"list-widgets row\">\\n\\n                    <div class=\"medium-widget blog-widget\">\\n                        \\n                        <div class=\"shrubbery\">\\n                        \\n                            <h2 class=\"widget-title\"><span aria-hidden=\"true\" class=\"icon-news\"></span>Latest News</h2>\\n                            <p class=\"give-me-more\"><a href=\"https://blog.python.org\" title=\"More News\">More</a></p>\\n                            \\n                            <ul class=\"menu\">\\n                                \\n                                \\n                                <li>\\n<time datetime=\"2022-10-11T19:00:00.000001+00:00\"><span class=\"say-no-more\">2022-</span>10-11</time>\\n <a href=\"http://pyfound.blogspot.com/2022/10/join-python-developers-survey-2022.html\">Join the Python Developers Survey 2022: Share and learn about the community</a></li>\\n                                \\n                                <li>\\n<time datetime=\"2022-09-12T11:26:00+00:00\"><span class=\"say-no-more\">2022-</span>09-12</time>\\n <a href=\"https://pythoninsider.blogspot.com/2022/09/python-3110rc2-is-now-available.html\">Python 3.11.0rc2 is now available</a></li>\\n                                \\n                                <li>\\n<time datetime=\"2022-09-07T13:03:00.000002+00:00\"><span class=\"say-no-more\">2022-</span>09-07</time>\\n <a href=\"https://pythoninsider.blogspot.com/2022/09/python-releases-3107-3914-3814-and-3714.html\">Python releases 3.10.7, 3.9.14, 3.8.14, and 3.7.14 are now available</a></li>\\n                                \\n                                <li>\\n<time datetime=\"2022-08-08T17:17:00+00:00\"><span class=\"say-no-more\">2022-</span>08-08</time>\\n <a href=\"https://pythoninsider.blogspot.com/2022/08/python-3110rc1-is-now-available.html\">Python 3.11.0rc1 is now available</a></li>\\n                                \\n                                <li>\\n<time datetime=\"2022-08-02T10:14:00.000001+00:00\"><span class=\"say-no-more\">2022-</span>08-02</time>\\n <a href=\"https://pythoninsider.blogspot.com/2022/08/python-3106-is-available.html\">Python 3.10.6 is available</a></li>\\n                                \\n                            </ul>\\n                        </div><!-- end .shrubbery -->\\n\\n                    </div>\\n\\n                    <div class=\"medium-widget event-widget last\">\\n                        \\n                        <div class=\"shrubbery\">\\n                        \\n                            <h2 class=\"widget-title\"><span aria-hidden=\"true\" class=\"icon-calendar\"></span>Upcoming Events</h2>\\n                            <p class=\"give-me-more\"><a href=\"/events/calendars/\" title=\"More Events\">More</a></p>\\n                            \\n                            <ul class=\"menu\">\\n                                \\n                                \\n                                \\n                                <li>\\n<time datetime=\"2022-10-25T00:00:00+00:00\"><span class=\"say-no-more\">2022-</span>10-25</time>\\n <a href=\"/events/python-events/1329/\">enterPy 2022</a></li>\\n                                \\n                                \\n                                \\n                                <li>\\n<time datetime=\"2022-10-27T00:00:00+00:00\"><span class=\"say-no-more\">2022-</span>10-27</time>\\n <a href=\"/events/python-events/1276/\">Python at Scale</a></li>\\n                                \\n                                \\n                                \\n                                <li>\\n<time datetime=\"2022-10-31T17:00:00+00:00\"><span class=\"say-no-more\">2022-</span>10-31</time>\\n <a href=\"/events/python-user-group/1369/\">Global AI Developer Days - PyLadies Amsterdam</a></li>\\n                                \\n                                \\n                                \\n                                <li>\\n<time datetime=\"2022-11-02T05:30:00+00:00\"><span class=\"say-no-more\">2022-</span>11-02</time>\\n <a href=\"/events/python-user-group/1381/\">NZPUG-Auckland: Crafting Software</a></li>\\n                                \\n                                \\n                                \\n                                <li>\\n<time datetime=\"2022-11-03T00:00:00+00:00\"><span class=\"say-no-more\">2022-</span>11-03</time>\\n <a href=\"/events/python-events/1327/\">PyCon PL 2022</a></li>\\n                                \\n                                \\n                            </ul>\\n                        </div>\\n\\n                    </div>\\n\\n                </div>\\n\\n                <div class=\"row\">\\n\\n                    <div class=\"medium-widget success-stories-widget\">\\n                        \\n\\n\\n\\n                        <div class=\"shrubbery\">\\n                            \\n\\n                            <h2 class=\"widget-title\"><span aria-hidden=\"true\" class=\"icon-success-stories\"></span>Success Stories</h2>\\n                            <p class=\"give-me-more\"><a href=\"/success-stories/\" title=\"More Success Stories\">More</a></p>\\n\\n                            \\n                            <div class=\"success-story-item\" id=\"success-story-1180\">\\n\\n                            <blockquote>\\n                                <a href=\"/success-stories/using-python-with-gretelai-to-generate-synthetic-location-data/\">Generating realistic location data for users for testing or modeling simulations is a hard problem. Current approaches just create random locations inside a box, placing users in waterways or on top of buildings. This inability to make accurate, synthetic location data stifles a lot of innovative projects that require diverse and complex datasets to fuel their work.</a>\\n                            </blockquote>\\n\\n                            <table cellpadding=\"0\" cellspacing=\"0\" border=\"0\" width=\"100%\" class=\"quote-from\">\\n                                <tbody>\\n                                    <tr>\\n                                        \\n                                        <td><p><a href=\"/success-stories/using-python-with-gretelai-to-generate-synthetic-location-data/\">Using Python with Gretel.ai to Generate Synthetic Location Data</a> <em>by Alex Watson, co-founder and CPO, Gretel.ai</em></p></td>\\n                                    </tr>\\n                                </tbody>\\n                            </table>\\n                            </div>\\n                            \\n\\n                        </div><!-- end .shrubbery -->\\n\\n                    </div>\\n\\n                    <div class=\"medium-widget applications-widget last\">\\n                        <div class=\"shrubbery\">\\n                            <h2 class=\"widget-title\"><span aria-hidden=\"true\" class=\"icon-python\"></span>Use Python for&hellip;</h2>\\r\\n<p class=\"give-me-more\"><a href=\"/about/apps\" title=\"More Applications\">More</a></p>\\r\\n\\r\\n<ul class=\"menu\">\\r\\n    <li><b>Web Development</b>:\\r\\n        <span class=\"tag-wrapper\"><a class=\"tag\" href=\"http://www.djangoproject.com/\">Django</a>, <a class=\"tag\" href=\"http://www.pylonsproject.org/\">Pyramid</a>, <a class=\"tag\" href=\"http://bottlepy.org\">Bottle</a>, <a class=\"tag\" href=\"http://tornadoweb.org\">Tornado</a>, <a href=\"http://flask.pocoo.org/\" class=\"tag\">Flask</a>, <a class=\"tag\" href=\"http://www.web2py.com/\">web2py</a></span></li>\\r\\n    <li><b>GUI Development</b>:\\r\\n        <span class=\"tag-wrapper\"><a class=\"tag\" href=\"http://wiki.python.org/moin/TkInter\">tkInter</a>, <a class=\"tag\" href=\"https://wiki.gnome.org/Projects/PyGObject\">PyGObject</a>, <a class=\"tag\" href=\"http://www.riverbankcomputing.co.uk/software/pyqt/intro\">PyQt</a>, <a class=\"tag\" href=\"https://wiki.qt.io/PySide\">PySide</a>, <a class=\"tag\" href=\"https://kivy.org/\">Kivy</a>, <a class=\"tag\" href=\"http://www.wxpython.org/\">wxPython</a></span></li>\\r\\n    <li><b>Scientific and Numeric</b>:\\r\\n        <span class=\"tag-wrapper\">\\r\\n<a class=\"tag\" href=\"http://www.scipy.org\">SciPy</a>, <a class=\"tag\" href=\"http://pandas.pydata.org/\">Pandas</a>, <a href=\"http://ipython.org\" class=\"tag\">IPython</a></span></li>\\r\\n    <li><b>Software Development</b>:\\r\\n        <span class=\"tag-wrapper\"><a class=\"tag\" href=\"http://buildbot.net/\">Buildbot</a>, <a class=\"tag\" href=\"http://trac.edgewall.org/\">Trac</a>, <a class=\"tag\" href=\"http://roundup.sourceforge.net/\">Roundup</a></span></li>\\r\\n    <li><b>System Administration</b>:\\r\\n        <span class=\"tag-wrapper\"><a class=\"tag\" href=\"http://www.ansible.com\">Ansible</a>, <a class=\"tag\" href=\"https://saltproject.io\">Salt</a>, <a class=\"tag\" href=\"https://www.openstack.org\">OpenStack</a>, <a class=\"tag\" href=\"https://xon.sh\">xonsh</a></span></li>\\r\\n</ul>\\n                        </div><!-- end .shrubbery -->\\n                    </div>\\n\\n                </div>\\n\\n                \\n                <div class=\"pep-widget\">\\n\\n                    <h2 class=\"widget-title\">\\n                        <span class=\"prompt\">&gt;&gt;&gt;</span> <a href=\"/dev/peps/\">Python Enhancement Proposals<span class=\"say-no-more\"> (PEPs)</span></a>: The future of Python<span class=\"say-no-more\"> is discussed here.</span>\\n                        <a aria-hidden=\"true\" class=\"rss-link\" href=\"/dev/peps/peps.rss\"><span class=\"icon-feed\"></span> RSS</a>\\n                    </h2>\\n\\n\\n                    \\n                    \\n                </div>\\n\\n                                <div class=\"psf-widget\">\\n\\n                    <div class=\"python-logo\"></div>\\n                    \\n                    <h2 class=\"widget-title\">\\r\\n    <span class=\"prompt\">&gt;&gt;&gt;</span> <a href=\"/psf/\">Python Software Foundation</a>\\r\\n</h2>\\r\\n<p>The mission of the Python Software Foundation is to promote, protect, and advance the Python programming language, and to support and facilitate the growth of a diverse and international community of Python programmers. <a class=\"readmore\" href=\"/psf/\">Learn more</a> </p>\\r\\n<p class=\"click-these\">\\r\\n    <a class=\"button\" href=\"/users/membership/\">Become a Member</a>\\r\\n    <a class=\"button\" href=\"/psf/donations/\">Donate to the PSF</a>\\r\\n</p>\\n                </div>\\n\\n\\n\\n\\n                </section>\\n\\n                \\n                \\n\\n                \\n                \\n\\n\\n            </div><!-- end .container -->\\n        </div><!-- end #content .content-wrapper -->\\n\\n        <!-- Footer and social media list -->\\n        \\n        <footer id=\"site-map\" class=\"main-footer\" role=\"contentinfo\">\\n            <div class=\"main-footer-links\">\\n                <div class=\"container\">\\n\\n                    \\n                    <a id=\"back-to-top-1\" class=\"jump-link\" href=\"#python-network\"><span aria-hidden=\"true\" class=\"icon-arrow-up\"><span>&#9650;</span></span> Back to Top</a>\\n\\n                    \\n\\n<ul class=\"sitemap navigation menu do-not-print\" role=\"tree\" id=\"container\">\\n    \\n    <li class=\"tier-1 element-1\">\\n        <a href=\"/about/\" >About</a>\\n        \\n            \\n\\n<ul class=\"subnav menu\">\\n    \\n        <li class=\"tier-2 element-1\" role=\"treeitem\"><a href=\"/about/apps/\" title=\"\">Applications</a></li>\\n    \\n        <li class=\"tier-2 element-2\" role=\"treeitem\"><a href=\"/about/quotes/\" title=\"\">Quotes</a></li>\\n    \\n        <li class=\"tier-2 element-3\" role=\"treeitem\"><a href=\"/about/gettingstarted/\" title=\"\">Getting Started</a></li>\\n    \\n        <li class=\"tier-2 element-4\" role=\"treeitem\"><a href=\"/about/help/\" title=\"\">Help</a></li>\\n    \\n        <li class=\"tier-2 element-5\" role=\"treeitem\"><a href=\"http://brochure.getpython.info/\" title=\"\">Python Brochure</a></li>\\n    \\n</ul>\\n\\n        \\n    </li>\\n    \\n    <li class=\"tier-1 element-2\">\\n        <a href=\"/downloads/\" >Downloads</a>\\n        \\n            \\n\\n<ul class=\"subnav menu\">\\n    \\n        <li class=\"tier-2 element-1\" role=\"treeitem\"><a href=\"/downloads/\" title=\"\">All releases</a></li>\\n    \\n        <li class=\"tier-2 element-2\" role=\"treeitem\"><a href=\"/downloads/source/\" title=\"\">Source code</a></li>\\n    \\n        <li class=\"tier-2 element-3\" role=\"treeitem\"><a href=\"/downloads/windows/\" title=\"\">Windows</a></li>\\n    \\n        <li class=\"tier-2 element-4\" role=\"treeitem\"><a href=\"/downloads/macos/\" title=\"\">macOS</a></li>\\n    \\n        <li class=\"tier-2 element-5\" role=\"treeitem\"><a href=\"/download/other/\" title=\"\">Other Platforms</a></li>\\n    \\n        <li class=\"tier-2 element-6\" role=\"treeitem\"><a href=\"https://docs.python.org/3/license.html\" title=\"\">License</a></li>\\n    \\n        <li class=\"tier-2 element-7\" role=\"treeitem\"><a href=\"/download/alternatives\" title=\"\">Alternative Implementations</a></li>\\n    \\n</ul>\\n\\n        \\n    </li>\\n    \\n    <li class=\"tier-1 element-3\">\\n        <a href=\"/doc/\" >Documentation</a>\\n        \\n            \\n\\n<ul class=\"subnav menu\">\\n    \\n        <li class=\"tier-2 element-1\" role=\"treeitem\"><a href=\"/doc/\" title=\"\">Docs</a></li>\\n    \\n        <li class=\"tier-2 element-2\" role=\"treeitem\"><a href=\"/doc/av\" title=\"\">Audio/Visual Talks</a></li>\\n    \\n        <li class=\"tier-2 element-3\" role=\"treeitem\"><a href=\"https://wiki.python.org/moin/BeginnersGuide\" title=\"\">Beginner&#39;s Guide</a></li>\\n    \\n        <li class=\"tier-2 element-4\" role=\"treeitem\"><a href=\"https://devguide.python.org/\" title=\"\">Developer&#39;s Guide</a></li>\\n    \\n        <li class=\"tier-2 element-5\" role=\"treeitem\"><a href=\"https://docs.python.org/faq/\" title=\"\">FAQ</a></li>\\n    \\n        <li class=\"tier-2 element-6\" role=\"treeitem\"><a href=\"http://wiki.python.org/moin/Languages\" title=\"\">Non-English Docs</a></li>\\n    \\n        <li class=\"tier-2 element-7\" role=\"treeitem\"><a href=\"http://python.org/dev/peps/\" title=\"\">PEP Index</a></li>\\n    \\n        <li class=\"tier-2 element-8\" role=\"treeitem\"><a href=\"https://wiki.python.org/moin/PythonBooks\" title=\"\">Python Books</a></li>\\n    \\n        <li class=\"tier-2 element-9\" role=\"treeitem\"><a href=\"/doc/essays/\" title=\"\">Python Essays</a></li>\\n    \\n</ul>\\n\\n        \\n    </li>\\n    \\n    <li class=\"tier-1 element-4\">\\n        <a href=\"/community/\" >Community</a>\\n        \\n            \\n\\n<ul class=\"subnav menu\">\\n    \\n        <li class=\"tier-2 element-1\" role=\"treeitem\"><a href=\"/community/diversity/\" title=\"\">Diversity</a></li>\\n    \\n        <li class=\"tier-2 element-2\" role=\"treeitem\"><a href=\"/community/lists/\" title=\"\">Mailing Lists</a></li>\\n    \\n        <li class=\"tier-2 element-3\" role=\"treeitem\"><a href=\"/community/irc/\" title=\"\">IRC</a></li>\\n    \\n        <li class=\"tier-2 element-4\" role=\"treeitem\"><a href=\"/community/forums/\" title=\"\">Forums</a></li>\\n    \\n        <li class=\"tier-2 element-5\" role=\"treeitem\"><a href=\"/psf/annual-report/2021/\" title=\"\">PSF Annual Impact Report</a></li>\\n    \\n        <li class=\"tier-2 element-6\" role=\"treeitem\"><a href=\"/community/workshops/\" title=\"\">Python Conferences</a></li>\\n    \\n        <li class=\"tier-2 element-7\" role=\"treeitem\"><a href=\"/community/sigs/\" title=\"\">Special Interest Groups</a></li>\\n    \\n        <li class=\"tier-2 element-8\" role=\"treeitem\"><a href=\"/community/logos/\" title=\"\">Python Logo</a></li>\\n    \\n        <li class=\"tier-2 element-9\" role=\"treeitem\"><a href=\"https://wiki.python.org/moin/\" title=\"\">Python Wiki</a></li>\\n    \\n        <li class=\"tier-2 element-10\" role=\"treeitem\"><a href=\"/community/merchandise/\" title=\"\">Merchandise</a></li>\\n    \\n        <li class=\"tier-2 element-11\" role=\"treeitem\"><a href=\"/community/awards\" title=\"\">Community Awards</a></li>\\n    \\n        <li class=\"tier-2 element-12\" role=\"treeitem\"><a href=\"/psf/conduct/\" title=\"\">Code of Conduct</a></li>\\n    \\n        <li class=\"tier-2 element-13\" role=\"treeitem\"><a href=\"/psf/get-involved/\" title=\"\">Get Involved</a></li>\\n    \\n        <li class=\"tier-2 element-14\" role=\"treeitem\"><a href=\"/psf/community-stories/\" title=\"\">Shared Stories</a></li>\\n    \\n</ul>\\n\\n        \\n    </li>\\n    \\n    <li class=\"tier-1 element-5\">\\n        <a href=\"/success-stories/\" title=\"success-stories\">Success Stories</a>\\n        \\n            \\n\\n<ul class=\"subnav menu\">\\n    \\n        <li class=\"tier-2 element-1\" role=\"treeitem\"><a href=\"/success-stories/category/arts/\" title=\"\">Arts</a></li>\\n    \\n        <li class=\"tier-2 element-2\" role=\"treeitem\"><a href=\"/success-stories/category/business/\" title=\"\">Business</a></li>\\n    \\n        <li class=\"tier-2 element-3\" role=\"treeitem\"><a href=\"/success-stories/category/education/\" title=\"\">Education</a></li>\\n    \\n        <li class=\"tier-2 element-4\" role=\"treeitem\"><a href=\"/success-stories/category/engineering/\" title=\"\">Engineering</a></li>\\n    \\n        <li class=\"tier-2 element-5\" role=\"treeitem\"><a href=\"/success-stories/category/government/\" title=\"\">Government</a></li>\\n    \\n        <li class=\"tier-2 element-6\" role=\"treeitem\"><a href=\"/success-stories/category/scientific/\" title=\"\">Scientific</a></li>\\n    \\n        <li class=\"tier-2 element-7\" role=\"treeitem\"><a href=\"/success-stories/category/software-development/\" title=\"\">Software Development</a></li>\\n    \\n</ul>\\n\\n        \\n    </li>\\n    \\n    <li class=\"tier-1 element-6\">\\n        <a href=\"/blogs/\" title=\"News from around the Python world\">News</a>\\n        \\n            \\n\\n<ul class=\"subnav menu\">\\n    \\n        <li class=\"tier-2 element-1\" role=\"treeitem\"><a href=\"/blogs/\" title=\"Python Insider Blog Posts\">Python News</a></li>\\n    \\n        <li class=\"tier-2 element-2\" role=\"treeitem\"><a href=\"/psf/newsletter/\" title=\"Python Software Foundation Newsletter\">PSF Newsletter</a></li>\\n    \\n        <li class=\"tier-2 element-3\" role=\"treeitem\"><a href=\"http://planetpython.org/\" title=\"Planet Python\">Community News</a></li>\\n    \\n        <li class=\"tier-2 element-4\" role=\"treeitem\"><a href=\"http://pyfound.blogspot.com/\" title=\"PSF Blog\">PSF News</a></li>\\n    \\n        <li class=\"tier-2 element-5\" role=\"treeitem\"><a href=\"http://pycon.blogspot.com/\" title=\"PyCon Blog\">PyCon News</a></li>\\n    \\n</ul>\\n\\n        \\n    </li>\\n    \\n    <li class=\"tier-1 element-7\">\\n        <a href=\"/events/\" >Events</a>\\n        \\n            \\n\\n<ul class=\"subnav menu\">\\n    \\n        <li class=\"tier-2 element-1\" role=\"treeitem\"><a href=\"/events/python-events/\" title=\"\">Python Events</a></li>\\n    \\n        <li class=\"tier-2 element-2\" role=\"treeitem\"><a href=\"/events/python-user-group/\" title=\"\">User Group Events</a></li>\\n    \\n        <li class=\"tier-2 element-3\" role=\"treeitem\"><a href=\"/events/python-events/past/\" title=\"\">Python Events Archive</a></li>\\n    \\n        <li class=\"tier-2 element-4\" role=\"treeitem\"><a href=\"/events/python-user-group/past/\" title=\"\">User Group Events Archive</a></li>\\n    \\n        <li class=\"tier-2 element-5\" role=\"treeitem\"><a href=\"https://wiki.python.org/moin/PythonEventsCalendar#Submitting_an_Event\" title=\"\">Submit an Event</a></li>\\n    \\n</ul>\\n\\n        \\n    </li>\\n    \\n    <li class=\"tier-1 element-8\">\\n        <a href=\"/dev/\" >Contributing</a>\\n        \\n            \\n\\n<ul class=\"subnav menu\">\\n    \\n        <li class=\"tier-2 element-1\" role=\"treeitem\"><a href=\"https://devguide.python.org/\" title=\"\">Developer&#39;s Guide</a></li>\\n    \\n        <li class=\"tier-2 element-2\" role=\"treeitem\"><a href=\"https://bugs.python.org/\" title=\"\">Issue Tracker</a></li>\\n    \\n        <li class=\"tier-2 element-3\" role=\"treeitem\"><a href=\"https://mail.python.org/mailman/listinfo/python-dev\" title=\"\">python-dev list</a></li>\\n    \\n        <li class=\"tier-2 element-4\" role=\"treeitem\"><a href=\"/dev/core-mentorship/\" title=\"\">Core Mentorship</a></li>\\n    \\n        <li class=\"tier-2 element-5\" role=\"treeitem\"><a href=\"/dev/security/\" title=\"\">Report a Security Issue</a></li>\\n    \\n</ul>\\n\\n        \\n    </li>\\n    \\n</ul>\\n\\n\\n                    <a id=\"back-to-top-2\" class=\"jump-link\" href=\"#python-network\"><span aria-hidden=\"true\" class=\"icon-arrow-up\"><span>&#9650;</span></span> Back to Top</a>\\n                    \\n\\n                </div><!-- end .container -->\\n            </div> <!-- end .main-footer-links -->\\n\\n            <div class=\"site-base\">\\n                <div class=\"container\">\\n                    \\n                    <ul class=\"footer-links navigation menu do-not-print\" role=\"tree\">\\n                        <li class=\"tier-1 element-1\"><a href=\"/about/help/\">Help &amp; <span class=\"say-no-more\">General</span> Contact</a></li>\\n                        <li class=\"tier-1 element-2\"><a href=\"/community/diversity/\">Diversity <span class=\"say-no-more\">Initiatives</span></a></li>\\n                        <li class=\"tier-1 element-3\"><a href=\"https://github.com/python/pythondotorg/issues\">Submit Website Bug</a></li>\\n                        <li class=\"tier-1 element-4\">\\n                            <a href=\"https://status.python.org/\">Status <span class=\"python-status-indicator-default\" id=\"python-status-indicator\"></span></a>\\n                        </li>\\n                    </ul>\\n\\n                    <div class=\"copyright\">\\n                        <p><small>\\n                            <span class=\"pre\">Copyright &copy;2001-2022.</span>\\n                            &nbsp;<span class=\"pre\"><a href=\"/psf-landing/\">Python Software Foundation</a></span>\\n                            &nbsp;<span class=\"pre\"><a href=\"/about/legal/\">Legal Statements</a></span>\\n                            &nbsp;<span class=\"pre\"><a href=\"/privacy/\">Privacy Policy</a></span>\\n                            &nbsp;<span class=\"pre\"><a href=\"/psf/sponsorship/sponsors/#heroku\">Powered by Heroku</a></span>\\n                        </small></p>\\n                    </div>\\n\\n                </div><!-- end .container -->\\n            </div><!-- end .site-base -->\\n\\n        </footer>\\n        \\n\\n    </div><!-- end #touchnav-wrapper -->\\n\\n    \\n    <script src=\"//ajax.googleapis.com/ajax/libs/jquery/1.8.2/jquery.min.js\"></script>\\n    <script>window.jQuery || document.write(\\'<script src=\"/static/js/libs/jquery-1.8.2.min.js\"><\\\\/script>\\')</script>\\n    <script src=\"//ajax.googleapis.com/ajax/libs/jqueryui/1.12.1/jquery-ui.min.js\"></script>\\n    <script>window.jQuery || document.write(\\'<script src=\"/static/js/libs/jquery-ui-1.12.1.min.js\"><\\\\/script>\\')</script>\\n\\n    <script src=\"/static/js/libs/masonry.pkgd.min.js\"></script>\\n    <script src=\"/static/js/libs/html-includes.js\"></script>\\n\\n    <script type=\"text/javascript\" src=\"/static/js/main-min.dd72c1659644.js\" charset=\"utf-8\"></script>\\n    \\n\\n    <!--[if lte IE 7]>\\n    <script type=\"text/javascript\" src=\"/static/js/plugins/IE8-min.8af6e26c7a3b.js\" charset=\"utf-8\"></script>\\n    \\n    \\n    <![endif]-->\\n\\n    <!--[if lte IE 8]>\\n    <script type=\"text/javascript\" src=\"/static/js/plugins/getComputedStyle-min.d41d8cd98f00.js\" charset=\"utf-8\"></script>\\n    \\n    \\n    <![endif]-->\\n\\n    \\n\\n    \\n    \\n\\n</body>\\n</html>\\n'\n"
     ]
    }
   ],
   "source": [
    "html = answer.read()\n",
    "print(html)"
   ]
  },
  {
   "cell_type": "markdown",
   "id": "e128faca",
   "metadata": {},
   "source": [
    "# DATETIME LIBRARY\n",
    "### VERY USEFUL WHEN WORKING WITH TIME, DATE, RANGE OF PERIOD"
   ]
  },
  {
   "cell_type": "code",
   "execution_count": 203,
   "id": "8ffe1ecd",
   "metadata": {},
   "outputs": [],
   "source": [
    "import datetime"
   ]
  },
  {
   "cell_type": "code",
   "execution_count": 204,
   "id": "224aebdd",
   "metadata": {},
   "outputs": [],
   "source": [
    "current = datetime.datetime.now()                                               # GETTING CURRENT INFO"
   ]
  },
  {
   "cell_type": "code",
   "execution_count": 205,
   "id": "7d19380a",
   "metadata": {},
   "outputs": [
    {
     "data": {
      "text/plain": [
       "datetime.datetime(2022, 10, 22, 16, 20, 46, 463907)"
      ]
     },
     "execution_count": 205,
     "metadata": {},
     "output_type": "execute_result"
    }
   ],
   "source": [
    "current"
   ]
  },
  {
   "cell_type": "code",
   "execution_count": 206,
   "id": "6000d74d",
   "metadata": {},
   "outputs": [
    {
     "name": "stdout",
     "output_type": "stream",
     "text": [
      "2022-10-22 16:20:46.463907\n"
     ]
    }
   ],
   "source": [
    "print(current)"
   ]
  },
  {
   "cell_type": "code",
   "execution_count": 210,
   "id": "26ea70ef",
   "metadata": {},
   "outputs": [
    {
     "name": "stdout",
     "output_type": "stream",
     "text": [
      "01:57:12\n"
     ]
    }
   ],
   "source": [
    "# Creating a specific moment:\n",
    "hour = 1\n",
    "minute = 57\n",
    "second = 12\n",
    "moment_example = datetime.time(hour,minute,second)\n",
    "print(moment_example)"
   ]
  },
  {
   "cell_type": "code",
   "execution_count": 215,
   "id": "c4d882d8",
   "metadata": {},
   "outputs": [
    {
     "name": "stdout",
     "output_type": "stream",
     "text": [
      "Hour:  1\n",
      "Minute:  57\n",
      "Second:  12\n",
      "Microsecond:  0\n"
     ]
    }
   ],
   "source": [
    "# Extracting the values of a moment:\n",
    "\n",
    "print('Hour: ', moment_example.hour)\n",
    "print('Minute: ', moment_example.minute)\n",
    "print('Second: ', moment_example.second)\n",
    "print('Microsecond: ',moment_example.microsecond)"
   ]
  },
  {
   "cell_type": "code",
   "execution_count": 244,
   "id": "6c9cbd34",
   "metadata": {},
   "outputs": [
    {
     "name": "stdout",
     "output_type": "stream",
     "text": [
      "The current moment is: \n",
      "2022-10-22 16:46:13.630466\n",
      "\n",
      "Right now it is 16  hours, and 46  minutes, and 13 seconds.\n"
     ]
    }
   ],
   "source": [
    "# EXTRACTING VALUES OF THE CURRENT MOMENT:\n",
    "\n",
    "# TIME (hour, min, sec, microec):\n",
    "agora = datetime.datetime.now()\n",
    "print('The current moment is: ')\n",
    "print(agora)\n",
    "print('')\n",
    "\n",
    "# Specific elements from the current moment:\n",
    "print('Right now it is',agora.hour,' hours, and',agora.minute,' minutes, and',agora.second, 'seconds.')"
   ]
  },
  {
   "cell_type": "code",
   "execution_count": 250,
   "id": "2e561d08",
   "metadata": {},
   "outputs": [
    {
     "name": "stdout",
     "output_type": "stream",
     "text": [
      "Today is: \n",
      "2022-10-22 \n",
      "\n",
      "ctime:  Sat Oct 22 00:00:00 2022\n",
      "Year:  2022\n",
      "Month:  10\n",
      "Day:  22\n"
     ]
    }
   ],
   "source": [
    "# TODAY (year, month, day)\n",
    "hoje = datetime.date.today()\n",
    "print('Today is: ')\n",
    "print(hoje, '\\n')\n",
    "\n",
    "# Printing specific date characteristics:\n",
    "print('ctime: ', hoje.ctime())                        # .ctime() is the date complete format\n",
    "print('Year: ', hoje.year)\n",
    "print('Month: ', hoje.month)\n",
    "print('Day: ', hoje.day)"
   ]
  },
  {
   "cell_type": "code",
   "execution_count": 256,
   "id": "2128b98d",
   "metadata": {},
   "outputs": [
    {
     "name": "stdout",
     "output_type": "stream",
     "text": [
      "d1:  2015-04-28\n",
      "d2 : 2016-04-28\n",
      "The difference in days is 366\n"
     ]
    }
   ],
   "source": [
    "# Manipulating a datetime:\n",
    "d1 = datetime.date(2015,4,28)\n",
    "print('d1: ',d1)\n",
    "d2 = d1.replace(year = 2016)\n",
    "print('d2 :', d2)\n",
    "diff = d2 - d1\n",
    "print('The difference in days is', diff.days)"
   ]
  },
  {
   "cell_type": "markdown",
   "id": "589b480b",
   "metadata": {},
   "source": [
    "#  Programming functions:\n",
    "#### Expression-oriented\n",
    "#### Object-oriented\n",
    "\n",
    "# Expression-Oriented:\n",
    "#### map (Function, Sequence)\n",
    "#### reduce (Function, Sequence)\n",
    "#### filter (Function, Sequence)\n",
    "#### lambda\n",
    "#### list comprehension"
   ]
  },
  {
   "cell_type": "markdown",
   "id": "c16e41cd",
   "metadata": {},
   "source": [
    "# map (function, sequence)\n",
    "#### map function applies the parameter \"function\" to all items of the parameter \"sequence\" and return a new list with the results, with the \"function\" applied to each item of the \"sequence\";"
   ]
  },
  {
   "cell_type": "code",
   "execution_count": 3,
   "id": "4c295541",
   "metadata": {},
   "outputs": [
    {
     "name": "stdout",
     "output_type": "stream",
     "text": [
      "The randomic list of temperatures are:\n",
      "[6, 13, 94, 57, 70, 8, 64, 11, 46, 32]\n",
      "Converting these list to Fahrenheit degrees:\n",
      "[42.8, 55.400000000000006, 201.20000000000002, 134.60000000000002, 158.0, 46.4, 147.2, 51.8, 114.8, 89.6]\n",
      "Converting these list to Celsius degrees:\n",
      "[-14.444444444444445, -10.555555555555555, 34.44444444444444, 13.88888888888889, 21.11111111111111, -13.333333333333334, 17.77777777777778, -11.666666666666668, 7.777777777777779, 0.0]\n"
     ]
    }
   ],
   "source": [
    "# map(function,sequence) - Example: Temperature coversor:\n",
    "\n",
    "# Converting Celsius to Fahrenheit:\n",
    "def fahrenheit(T):\n",
    "    return(float((9/5)*T + 32))\n",
    "\n",
    "# Converting Fahrenheit to Celsius:\n",
    "def celsius(T):\n",
    "    return(float((5/9)*(T-32)))\n",
    "\n",
    "# Creating a randomic list of temperatures - integers - using random.sample:\n",
    "import random\n",
    "list_random = random.sample(range(0, 100), 10)\n",
    "print('The randomic list of temperatures are:')\n",
    "print(list_random)\n",
    "\n",
    "# Applying both functions fahrenheit(T) and Celsius(T) to both lists using map:\n",
    "print('Converting these list to Fahrenheit degrees:')\n",
    "print(list(map(fahrenheit,list_random)))\n",
    "print('Converting these list to Celsius degrees:')\n",
    "print(list(map(celsius,list_random)))"
   ]
  },
  {
   "cell_type": "code",
   "execution_count": 4,
   "id": "677907dd",
   "metadata": {},
   "outputs": [
    {
     "name": "stdout",
     "output_type": "stream",
     "text": [
      "In Fahrenheit degrees: \n",
      "\n",
      "42.8\n",
      "55.400000000000006\n",
      "201.20000000000002\n",
      "134.60000000000002\n",
      "158.0\n",
      "46.4\n",
      "147.2\n",
      "51.8\n",
      "114.8\n",
      "89.6\n",
      " \n",
      "In Celsius degrees: \n",
      "\n",
      "-14.444444444444445\n",
      "-10.555555555555555\n",
      "34.44444444444444\n",
      "13.88888888888889\n",
      "21.11111111111111\n",
      "-13.333333333333334\n",
      "17.77777777777778\n",
      "-11.666666666666668\n",
      "7.777777777777779\n",
      "0.0\n"
     ]
    }
   ],
   "source": [
    "# Other option: LOOP FOR\n",
    "print('In Fahrenheit degrees: \\n')\n",
    "for temp in map(fahrenheit, list_random):\n",
    "    print(temp)\n",
    "print(' \\nIn Celsius degrees: \\n')\n",
    "for temp in map(celsius, list_random):\n",
    "    print(temp)"
   ]
  },
  {
   "cell_type": "markdown",
   "id": "6f9283d9",
   "metadata": {},
   "source": [
    "# LAMBDA FUNCTION TO DO TEMPERATURE CONVERSION"
   ]
  },
  {
   "cell_type": "code",
   "execution_count": 5,
   "id": "39822f95",
   "metadata": {},
   "outputs": [
    {
     "data": {
      "text/plain": [
       "[-14.444444444444445,\n",
       " -10.555555555555555,\n",
       " 34.44444444444444,\n",
       " 13.88888888888889,\n",
       " 21.11111111111111,\n",
       " -13.333333333333334,\n",
       " 17.77777777777778,\n",
       " -11.666666666666668,\n",
       " 7.777777777777779,\n",
       " 0.0]"
      ]
     },
     "execution_count": 5,
     "metadata": {},
     "output_type": "execute_result"
    }
   ],
   "source": [
    "list(map(lambda x: (5.0/9)*(x-32), list_random))"
   ]
  },
  {
   "cell_type": "markdown",
   "id": "d78f5576",
   "metadata": {},
   "source": [
    "## SUMMING TWO LISTS THROUG MAP and LAMBDA"
   ]
  },
  {
   "cell_type": "code",
   "execution_count": 14,
   "id": "0c19eddc",
   "metadata": {},
   "outputs": [
    {
     "name": "stdout",
     "output_type": "stream",
     "text": [
      "The first randomic float list is: \n",
      " [41.53 36.92 23.83  2.29 67.41]\n",
      "The second randomic float list is: \n",
      " [17.51 14.14 74.36 27.55 58.14] \n",
      "\n",
      "The sum of both lists is the third list, equals to: \n",
      " [59.040000000000006, 51.06, 98.19, 29.84, 125.55]\n",
      "\n",
      "The sum of all these three lists is the forth list, equals to: \n",
      " [118.08000000000001, 102.12, 196.38, 59.68, 251.1]\n"
     ]
    }
   ],
   "source": [
    "# Creating two lists:\n",
    "import numpy as np\n",
    "list_1 = np.random.uniform(0,100,5).round(2)\n",
    "list_2 = np.random.uniform(0,100,5).round(2)\n",
    "print('The first randomic float list is: \\n', list_1)\n",
    "print('The second randomic float list is: \\n', list_2, '\\n')\n",
    "\n",
    "# Using lambda function and map function to sum these lists:\n",
    "list_3 = list(map(lambda x,y: x+y, list_1,list_2))\n",
    "print('The sum of both lists is the third list, equals to: \\n', list_3)\n",
    "\n",
    "# Using lambda function and map function to sum all these lists:\n",
    "list_4 = list(map(lambda x,y,z: x+y+z, list_1,list_2,list_3))\n",
    "print('\\nThe sum of all these three lists is the forth list, equals to: \\n', list_4)"
   ]
  },
  {
   "cell_type": "markdown",
   "id": "e821065c",
   "metadata": {},
   "source": [
    "# reduce(function, sequence)\n",
    "### The reduce function is a function that receices a parameter \"function\" and a parameter elements of a \"sequence\", then it applies the \"function\" from the 1st element until the last in a cumulative logic, returning only a single final answer.\n",
    "### Attention! This function must be imported from:\n",
    "## from functools import reduce"
   ]
  },
  {
   "cell_type": "code",
   "execution_count": 20,
   "id": "6f2ab399",
   "metadata": {},
   "outputs": [
    {
     "name": "stdout",
     "output_type": "stream",
     "text": [
      "Be the randomic list:\n",
      " [68, 5, 41, 2, 54, 74, 76, 10, 72, 29]\n",
      "\n",
      "The sum of all items is: \n",
      " 431\n",
      "\n",
      "The sum of all items is: \n",
      " 431\n"
     ]
    }
   ],
   "source": [
    "# Importing reduce(function,sequence):\n",
    "from functools import reduce\n",
    "\n",
    "# Creating a randomic list:\n",
    "list_example = random.sample(range(0,100),10)\n",
    "print('Be the randomic list:\\n', list_example)\n",
    "\n",
    "# Creating a lambda function the sums two itens:\n",
    "func = lambda x,y: x+y\n",
    "\n",
    "# Applying reduce to this list:\n",
    "a = reduce(func,list_example)\n",
    "print('\\nThe sum of all items is: \\n', a)\n",
    "\n",
    "# Applyng the reduce directly in the lambda:\n",
    "b = reduce(lambda x,y:x+y ,list_example)\n",
    "print('\\nThe sum of all items is: \\n', b)"
   ]
  },
  {
   "cell_type": "markdown",
   "id": "d18e12d5",
   "metadata": {},
   "source": [
    "# Finding the max and min values in a given list using lambda, conditionals and reduce"
   ]
  },
  {
   "cell_type": "code",
   "execution_count": 26,
   "id": "ce696a43",
   "metadata": {},
   "outputs": [
    {
     "name": "stdout",
     "output_type": "stream",
     "text": [
      "The maximum value is:  76\n",
      "The minimum value is:  2\n"
     ]
    }
   ],
   "source": [
    "# Creating a comparative function:\n",
    "max_found = lambda x,y: x if (x>=y) else y\n",
    "min_found = lambda x,y: x if (x<=y) else y\n",
    "\n",
    "# Reducing until the maximum value of the list:\n",
    "print('The maximum value is: ',reduce(max_found,list_example))\n",
    "print('The minimum value is: ',reduce(min_found,list_example))"
   ]
  },
  {
   "cell_type": "markdown",
   "id": "8c2c39df",
   "metadata": {},
   "source": [
    "# filter(function,sequence)\n",
    "\n",
    "### The function filter receives a boolean \"function\" (can only return True/False) and a list of elements \"list\""
   ]
  },
  {
   "cell_type": "code",
   "execution_count": 35,
   "id": "a17f8196",
   "metadata": {
    "scrolled": true
   },
   "outputs": [
    {
     "name": "stdout",
     "output_type": "stream",
     "text": [
      "Be the list of numbers: \n",
      " [71, 31, 69, 27, 67, 38, 75, 56, 52, 23]\n",
      "The even numbers of these list are: \n",
      " [38, 56, 52]\n",
      "Repeating the same, but using a lambda function: \n",
      "[38, 56, 52]\n"
     ]
    }
   ],
   "source": [
    "# Creating the Even Number Checker function:\n",
    "def check_even(num):\n",
    "    if num%2 == 0:\n",
    "        return True\n",
    "    else:\n",
    "        return False\n",
    "\n",
    "# Creating a randomic list of numbers:\n",
    "list_ex = list(random.sample(range(0,100),10))\n",
    "print('Be the list of numbers: \\n',list_ex)\n",
    "\n",
    "# Applying the filter(func,seq) funtion to check all even numbers:\n",
    "only_even = list(filter(check_even ,list_ex))\n",
    "print('The even numbers of these list are: \\n', only_even)\n",
    "\n",
    "# Checking directly the even numbers, but using a lambda function:\n",
    "print('Repeating the same, but using a lambda function: ')\n",
    "print(list(filter(lambda x: x%2 == 0 ,list_ex)))"
   ]
  },
  {
   "cell_type": "markdown",
   "id": "be044998",
   "metadata": {},
   "source": [
    "# List Comprehension\n",
    "\n",
    "### List Comprehension allows the user to develop lists using a different notation, easier to read, built inside [] in teh code.\n",
    "\n",
    "### Usually List Comprehension has a better perfomance than Loop For together with map() and filter()\n"
   ]
  },
  {
   "cell_type": "code",
   "execution_count": 38,
   "id": "b40f9036",
   "metadata": {},
   "outputs": [
    {
     "name": "stdout",
     "output_type": "stream",
     "text": [
      "['p', 'y', 't', 'h', 'o', 'n']\n"
     ]
    }
   ],
   "source": [
    "# Creating a List Comprehension example:\n",
    "lst = [elem for elem in 'python']\n",
    "print(lst)"
   ]
  },
  {
   "cell_type": "code",
   "execution_count": 41,
   "id": "86bffe58",
   "metadata": {},
   "outputs": [
    {
     "name": "stdout",
     "output_type": "stream",
     "text": [
      "[0, 1, 4, 9, 16, 25, 36, 49, 64, 81, 100]\n"
     ]
    }
   ],
   "source": [
    "# Creating a double-maker using list comprehension:\n",
    "lst = [x**2 for x in range(0,11)]\n",
    "print(lst)"
   ]
  },
  {
   "cell_type": "code",
   "execution_count": 43,
   "id": "5748eaaa",
   "metadata": {},
   "outputs": [
    {
     "name": "stdout",
     "output_type": "stream",
     "text": [
      "[0, 2, 4, 6, 8, 10]\n"
     ]
    }
   ],
   "source": [
    "# Returning only the even numbers:\n",
    "lst = [x for x in range(0,11) if x % 2 == 0]\n",
    "print(lst)"
   ]
  },
  {
   "cell_type": "code",
   "execution_count": 52,
   "id": "d51375cd",
   "metadata": {},
   "outputs": [
    {
     "name": "stdout",
     "output_type": "stream",
     "text": [
      "Be the given celsius degrees list: \n",
      " [41.91 37.9  81.15 69.79 62.59 52.52 77.07 47.11 33.36 50.43]\n",
      "\n",
      "Converting to Fahrenheit degrees: \n",
      " [107.44, 100.22, 178.07, 157.62, 144.66, 126.54, 170.73, 116.8, 92.05, 122.77]\n"
     ]
    }
   ],
   "source": [
    "# Converting Celsius to Fahrenheit:\n",
    "import numpy as np\n",
    "celsius = np.random.uniform(0,100,10).round(2)\n",
    "print('Be the given celsius degrees list: \\n', celsius)\n",
    "fahrenheit = [round(((9/5)*C + 32),2) for C in celsius]\n",
    "print('\\nConverting to Fahrenheit degrees: \\n', fahrenheit)"
   ]
  },
  {
   "cell_type": "code",
   "execution_count": 54,
   "id": "1fd3a5fb",
   "metadata": {},
   "outputs": [
    {
     "name": "stdout",
     "output_type": "stream",
     "text": [
      "[0, 1, 16, 81, 256, 625, 1296, 2401, 4096, 6561, 10000]\n"
     ]
    }
   ],
   "source": [
    "# List Comprehension inside another List Comprehension:\n",
    "\n",
    "# Pow to 4th:\n",
    "lst = [x**2 for x in [x**2 for x in range(0,11)]]\n",
    "print(lst)"
   ]
  },
  {
   "cell_type": "markdown",
   "id": "3a7a1671",
   "metadata": {},
   "source": [
    "# zip(sequence1, sequence2)\n",
    "#### zip is a funtion that receives two sequences as parameters and returns a list of tuples of the pairs of each sequence element, within the smaller number of elements.\n",
    "\n",
    "# enumetate(sequence)\n",
    "#### enumerate is a function that receives a single sequence and returns a sequence of tuples in the format (index,value) for each item."
   ]
  },
  {
   "cell_type": "code",
   "execution_count": 70,
   "id": "43b49f1c",
   "metadata": {},
   "outputs": [
    {
     "name": "stdout",
     "output_type": "stream",
     "text": [
      "Be the given lists below: \n",
      "List 1:  [1, 52, 73, 98, 69] \n",
      "List 2:  [66, 69, 53, 77, 54] \n",
      "\n",
      "Applying zip function returns: \n",
      " [(1, 66), (52, 69), (73, 53), (98, 77), (69, 54)]\n",
      "\n",
      "Applyng the enumerate function to the list 1: \n",
      " [(0, 1), (1, 52), (2, 73), (3, 98), (4, 69)]\n",
      "\n",
      "Applyng the enumerate function to the list 2: \n",
      " [(0, 66), (1, 69), (2, 53), (3, 77), (4, 54)]\n"
     ]
    }
   ],
   "source": [
    "# Creating two randomic lists:\n",
    "list_1 = [x for x in random.sample(range(0,100),5)]\n",
    "list_2 = [x for x in random.sample(range(0,100),5)]\n",
    "print('Be the given lists below: \\nList 1: ',list_1,'\\nList 2: ',list_2, '\\n')\n",
    "\n",
    "# zip(list_1,list_2):\n",
    "print('Applying zip function returns: \\n',list(zip(list_1,list_2)))\n",
    "\n",
    "# enumerate(list_1 and list_2)\n",
    "print('\\nApplyng the enumerate function to the list 1: \\n', list(enumerate(list_1)))\n",
    "print('\\nApplyng the enumerate function to the list 2: \\n', list(enumerate(list_2)))"
   ]
  },
  {
   "cell_type": "code",
   "execution_count": 84,
   "id": "8541fa62",
   "metadata": {},
   "outputs": [
    {
     "name": "stdout",
     "output_type": "stream",
     "text": [
      "Given the two dictionaries: \n",
      "d1 =  {'key1': 1, 'key2': 2, 'key3': 3} \n",
      "d2 =  {'key4': 4, 'key5': 5, 'key6': 6}\n",
      "Applying zip() to them: \n",
      " [('key1', 'key4'), ('key2', 'key5'), ('key3', 'key6')]\n",
      "Zip in a dictionary will retun each key in the tuple, but not the value, as standard.\n",
      "\n",
      "To return the value of a dictionary you need to use the method .values()\n",
      "[('key1', 4), ('key2', 5), ('key3', 6)]\n"
     ]
    }
   ],
   "source": [
    "# Creating two dictionaries:\n",
    "d1 = {'key1':1,'key2':2,'key3':3}\n",
    "d2 = {'key4':4,'key5':5,'key6':6}\n",
    "print('Given the two dictionaries: \\nd1 = ',d1,'\\nd2 = ',d2)\n",
    "\n",
    "# Applying zip function to them:\n",
    "print('Applying zip() to them: \\n',list((zip(d1,d2))))\n",
    "print('Zip in a dictionary will retun each key in the tuple, but not the value, as standard.\\n')\n",
    "\n",
    "# Returning the keys of d1 with the values of d2 using the zip function:\n",
    "print('To return the value of a dictionary you need to use the method .values()')\n",
    "print(list(zip(d1,d2.values())))"
   ]
  },
  {
   "cell_type": "code",
   "execution_count": 87,
   "id": "ac440992",
   "metadata": {},
   "outputs": [
    {
     "name": "stdout",
     "output_type": "stream",
     "text": [
      "Given the two dictionaries: \n",
      "d1 =  {'key1': 1, 'key2': 2, 'key3': 3} \n",
      "d2 =  {'key4': 4, 'key5': 5, 'key6': 6}\n",
      "\n",
      "The new dictionary with the keys from the 1st and the values from the 2nd will be:\n"
     ]
    },
    {
     "data": {
      "text/plain": [
       "{'key1': 4, 'key2': 5, 'key3': 6}"
      ]
     },
     "execution_count": 87,
     "metadata": {},
     "output_type": "execute_result"
    }
   ],
   "source": [
    "# Replacing the values of a dictionary 1 by the values of a dictionary 2:\n",
    "d1 = {'key1':1,'key2':2,'key3':3}\n",
    "d2 = {'key4':4,'key5':5,'key6':6}\n",
    "print('Given the two dictionaries: \\nd1 = ',d1,'\\nd2 = ',d2)\n",
    "\n",
    "def replace_values(d1, d2):\n",
    "    d3 = {}\n",
    "    for d1_key, d2_value in zip(d1, d2.values()):\n",
    "        d3[d1_key] = d2_value\n",
    "    print('\\nThe new dictionary with the keys from the 1st and the values from the 2nd will be:')\n",
    "    return d3\n",
    "\n",
    "replace_values(d1,d2)"
   ]
  },
  {
   "cell_type": "markdown",
   "id": "4a3660e8",
   "metadata": {},
   "source": [
    "# Enumerate function examples of applications"
   ]
  },
  {
   "cell_type": "code",
   "execution_count": 99,
   "id": "9271fb6f",
   "metadata": {},
   "outputs": [
    {
     "name": "stdout",
     "output_type": "stream",
     "text": [
      "[23, 56, 60, 31, 50, 7, 10, 98, 51, 55] \n",
      "\n",
      "[(0, 23), (1, 56), (2, 60), (3, 31), (4, 50), (5, 7), (6, 10), (7, 98), (8, 51), (9, 55)]\n",
      "\n",
      "\n",
      "0 23\n",
      "1 56\n",
      "2 60\n",
      "3 31\n",
      "4 50\n",
      "5 7\n",
      "6 10\n",
      "7 98\n",
      "8 51\n",
      "9 55\n",
      "\n",
      "\n",
      "0 23\n",
      "1 56\n",
      "2 60\n",
      "3 31\n",
      "0 T\n",
      "1 h\n",
      "2 i\n",
      "3 s\n",
      "4  \n",
      "5 i\n",
      "6 s\n",
      "7  \n",
      "8 a\n",
      "9  \n",
      "10 s\n",
      "11 t\n",
      "12 r\n",
      "13 i\n",
      "14 n\n",
      "15 g\n",
      "16 :\n"
     ]
    }
   ],
   "source": [
    "# Example - Applying the enumerating:\n",
    "sequence = [x for x in random.sample(range(0,100),10)]\n",
    "print(sequence,'\\n')\n",
    "print(list(enumerate(sequence)))\n",
    "print('\\n')\n",
    "\n",
    "# Printing the results in a distinct form:\n",
    "for index,value in enumerate(sequence):\n",
    "    print(index, value)\n",
    "\n",
    "# Break conditional:\n",
    "print('\\n')\n",
    "for index,value in enumerate(sequence):\n",
    "    if index <= 3:\n",
    "        print(index, value)\n",
    "    else:\n",
    "        break\n",
    "\n",
    "# Enumerate applied to list of strings:\n",
    "list_4 = ['Marketing','Tecnology','Business']\n",
    "\n",
    "for i, item in enumerate('This is a string:'):\n",
    "    print(i, item)"
   ]
  },
  {
   "cell_type": "markdown",
   "id": "230ceee7",
   "metadata": {},
   "source": [
    "# Errors and Exceptions\n",
    "#### Errors are the situations when the code is written wrongly (sintax errors). Ex: Forgetting an ')'\n",
    "#### Expections are when the code is written correctly but some logic makes no sense. Ex: Dividing per 0.\n",
    "\n",
    "# Exceptions treatment:\n",
    "#### try:\n",
    "####          execute this...\n",
    "#### except Exception1:\n",
    "####          if exception1, execute this.....\n",
    "#### except Exception2:\n",
    "####          if exception2, execute this.....\n",
    "#### else:\n",
    "####          if no exception, execute this.....\n",
    "\n",
    "# Finally (reserved word)\n",
    "#### always execute, even if there is an exception"
   ]
  },
  {
   "cell_type": "code",
   "execution_count": 118,
   "id": "cc9658a7",
   "metadata": {},
   "outputs": [
    {
     "name": "stdout",
     "output_type": "stream",
     "text": [
      "Operation not allowed!\n"
     ]
    }
   ],
   "source": [
    "# Example 1:\n",
    "try:\n",
    "    8 + 's'\n",
    "except TypeError:\n",
    "    print('Operation not allowed!')"
   ]
  },
  {
   "cell_type": "code",
   "execution_count": 119,
   "id": "32c5f4d8",
   "metadata": {},
   "outputs": [
    {
     "name": "stdout",
     "output_type": "stream",
     "text": [
      "Content overwritten sucessfully!\n"
     ]
    }
   ],
   "source": [
    "# Example 2:\n",
    "\n",
    "try:\n",
    "    aux = open('arquivos/testandoerros.txt','w')\n",
    "    aux.write('Overwriting the file!\\n')\n",
    "except IOError:\n",
    "    print('File not found or not saved!\\n')\n",
    "else:\n",
    "    print('Content overwritten sucessfully!')\n",
    "    aux.close"
   ]
  },
  {
   "cell_type": "code",
   "execution_count": 120,
   "id": "e09031bb",
   "metadata": {},
   "outputs": [
    {
     "name": "stdout",
     "output_type": "stream",
     "text": [
      "File not found or not saved!\n",
      "\n"
     ]
    }
   ],
   "source": [
    "# Example 3 - EXCEPTION ON PURPOSE:\n",
    "\n",
    "try:\n",
    "    aux = open('arquivos/aaaa','r')    # changing name and 'w' per 'r'\n",
    "    aux.write('Overwriting the file!\\n')\n",
    "except IOError:\n",
    "    print('File not found or not saved!\\n')\n",
    "else:\n",
    "    print('Content overwritten sucessfully!')\n",
    "    aux.close"
   ]
  },
  {
   "cell_type": "code",
   "execution_count": 121,
   "id": "3daa3de6",
   "metadata": {},
   "outputs": [
    {
     "name": "stdout",
     "output_type": "stream",
     "text": [
      "File not found or not saved!\n",
      "\n",
      "Finnaly command will be always execute, with or without exceptions!\n"
     ]
    }
   ],
   "source": [
    "# Example 4 - INCLUDING 'FINALLY' COMMAND:\n",
    "\n",
    "try:\n",
    "    aux = open('arquivos/aaaa','r')    # changing name and 'w' per 'r'\n",
    "    aux.write('Overwriting the file!\\n')\n",
    "except IOError:\n",
    "    print('File not found or not saved!\\n')\n",
    "else:\n",
    "    print('Content overwritten sucessfully!')\n",
    "    aux.close\n",
    "finally:\n",
    "    print('Finnaly command will be always execute, with or without exceptions!')"
   ]
  },
  {
   "cell_type": "code",
   "execution_count": 129,
   "id": "b1e037ef",
   "metadata": {},
   "outputs": [],
   "source": [
    "# Example 5 - Wrong type of input ---- ----- WRONG INPUT!!!! (HOW TO FIX!)\n",
    "\n",
    "def ask_user():\n",
    "    while True:\n",
    "        try:\n",
    "            value = int(input('Insert a chosen integer number:\\n'))\n",
    "        except:\n",
    "            print('You did not insert an integer number, as requested. Please, try it again.\\n')\n",
    "            continue\n",
    "        else:\n",
    "            print('Thanks for your input!')\n",
    "            break\n",
    "        finally:\n",
    "            print('It is finished!')\n",
    "    print('value')"
   ]
  },
  {
   "cell_type": "code",
   "execution_count": 128,
   "id": "f3789e43",
   "metadata": {},
   "outputs": [
    {
     "name": "stdout",
     "output_type": "stream",
     "text": [
      "Insert a chosen integer number:\n",
      "12\n",
      "Thanks for your input!\n",
      "It is finished!\n",
      "value\n"
     ]
    }
   ],
   "source": [
    "ask_user()"
   ]
  },
  {
   "cell_type": "code",
   "execution_count": 134,
   "id": "2d1509d1",
   "metadata": {},
   "outputs": [
    {
     "name": "stdout",
     "output_type": "stream",
     "text": [
      "Error:  'tuple' object has no attribute 'append'\n"
     ]
    }
   ],
   "source": [
    "# Displaying the type of error to the user:\n",
    "tuple = (1,2,3,4,5)  # Tuple is immutable, so there will have an error\n",
    "\n",
    "try:\n",
    "    tuple.append(6)\n",
    "    for each in tuple:\n",
    "        print(each)\n",
    "except AttributeError as e:\n",
    "    print('Error: ', e)\n",
    "except IOError as e:\n",
    "    print('I/O Error: ', e)"
   ]
  },
  {
   "cell_type": "markdown",
   "id": "2e2afa09",
   "metadata": {},
   "source": [
    "# CHAPTER 4 - SUMMARY:\n",
    "\n",
    "#### txt, csv, json, module, package, pandas, urllib, pypi, math, random, statistics, sys, datetime, expression-oriented, map, numpy lambda, reduce, filter, list comprehension, zip, enumerate, try, except, finally\n",
    "\n",
    "# Libraries\n",
    "#### import os\n",
    "#### import csv\n",
    "#### import pandas\n",
    "#### import json\n",
    "#### import math\n",
    "#### import random\n",
    "#### import sys\n",
    "#### import statistics\n",
    "#### import datetime\n",
    "#### from urllib.request\n",
    "#### import numpy\n",
    "\n",
    "# built-in methods:\n",
    "#### .open()\n",
    "#### .read()\n",
    "#### .readlines()\n",
    "#### .close()\n",
    "#### .seek()\n",
    "#### .write()\n",
    "#### help()\n",
    "\n",
    "# import csv\n",
    "#### with('file', 'r' /'w'/'a') as var:\n",
    "#### .writerow()\n",
    "\n",
    "# import pandas\n",
    "#### pd.csv_read()\n",
    "#### df.head()\n",
    "\n",
    "# import json\n",
    "#### json.dumps()\n",
    "#### json.loads()\n",
    "\n",
    "# import urllib.request\n",
    "#### urlopen\n",
    "#### .decode('utf8')\n",
    "\n",
    "# import math\n",
    "#### from math import sqrt\n",
    "#### sqrt()\n",
    "\n",
    "# import random\n",
    "#### random.choice()\n",
    "#### random.sample()\n",
    "\n",
    "# import statistics\n",
    "#### statistics.mean()\n",
    "#### statistics.median()\n",
    "#### statistics.mode()\n",
    "\n",
    "# import os \n",
    "#### os.getcwd() \n",
    "#### os.path.join()\n",
    "\n",
    "# import sys\n",
    "#### sys.stdout.write()\n",
    "#### sys.version\n",
    "\n",
    "# import datetime\n",
    "#### datetime.datetime.now()\n",
    "#### datetime.time(hh,mm,ss)\n",
    "#### datetime.date.(yy,mm,dd)\n",
    "#### .hour\n",
    "#### .minute\n",
    "#### .second\n",
    "#### .microsecond\n",
    "#### .ctime()\n",
    "#### .year\n",
    "#### .month\n",
    "#### .day\n",
    "#### .days\n",
    "#### .replace()\n",
    "#### .timedelta()\n",
    "\n",
    "# import numpy\n",
    "#### np.random.uniform(x,x,x).round(x)\n",
    "\n",
    "# import functools\n",
    "#### from functools import reduce\n",
    "\n",
    "# Expression-oriented\n",
    "#### map(function,sequence)\n",
    "#### reduce(function,sequence)\n",
    "#### filter(function,sequence)\n",
    "#### List Comprehension [x for x in 'string']\n",
    "#### zip(sequence1,sequence2)\n",
    "#### enumerate()\n",
    "\n",
    "# Erros and Exceptions Treatment\n",
    "#### try:\n",
    "#### except:\n",
    "#### finally:"
   ]
  }
 ],
 "metadata": {
  "kernelspec": {
   "display_name": "Python 3 (ipykernel)",
   "language": "python",
   "name": "python3"
  },
  "language_info": {
   "codemirror_mode": {
    "name": "ipython",
    "version": 3
   },
   "file_extension": ".py",
   "mimetype": "text/x-python",
   "name": "python",
   "nbconvert_exporter": "python",
   "pygments_lexer": "ipython3",
   "version": "3.9.12"
  }
 },
 "nbformat": 4,
 "nbformat_minor": 5
}
