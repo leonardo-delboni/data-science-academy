{
 "cells": [
  {
   "cell_type": "markdown",
   "id": "16088f83",
   "metadata": {},
   "source": [
    "# Data Science Academy (DSA) \n",
    "#### (wwww.datascienceacademy.com.br)\n",
    "### Course:  Python Fundamentos para Análise de Dados (PT-BR)\n",
    "###                Python Fundamentals to Data Analysis (ENG-US)\n",
    "## Student: Leonardo Travagini Delboni\n",
    "###  Chapter 5 - Object-Oriented Programming"
   ]
  },
  {
   "cell_type": "code",
   "execution_count": 1,
   "id": "63a386fa",
   "metadata": {},
   "outputs": [
    {
     "name": "stdout",
     "output_type": "stream",
     "text": [
      "Credits: \n",
      "  Created by Data Science Academy (DSA) \n",
      "  Developed by Leonardo Travagini Delboni\n"
     ]
    }
   ],
   "source": [
    "print('Credits: \\n  Created by Data Science Academy (DSA) \\n  Developed by Leonardo Travagini Delboni')"
   ]
  },
  {
   "cell_type": "markdown",
   "id": "ac8f3212",
   "metadata": {},
   "source": [
    "# Exercise 1\n",
    "#### Given the following class below, create an object called 'roc1' passing through 2 parameters and then do the attributes and methods"
   ]
  },
  {
   "cell_type": "code",
   "execution_count": 21,
   "id": "4f48c4cf",
   "metadata": {},
   "outputs": [],
   "source": [
    "from math import sqrt\n",
    "\n",
    "class Rocket():\n",
    "     \n",
    "    def __init__(self, x=0, y=0):\n",
    "        self.x = x\n",
    "        self.y = y\n",
    "        \n",
    "    def move_rocket(self, x_increment=0, y_increment=1):\n",
    "        self.x += x_increment\n",
    "        self.y += y_increment\n",
    "        \n",
    "    def print_rocket(self):\n",
    "        print(self.x, self.y)"
   ]
  },
  {
   "cell_type": "markdown",
   "id": "4b84a670",
   "metadata": {},
   "source": [
    "#### Beggining of the solution:"
   ]
  },
  {
   "cell_type": "code",
   "execution_count": 22,
   "id": "0151fc92",
   "metadata": {},
   "outputs": [],
   "source": [
    "# Instatiating an object:\n",
    "roc1 = Rocket(x = 10, y = 10)"
   ]
  },
  {
   "cell_type": "code",
   "execution_count": 23,
   "id": "fe13df65",
   "metadata": {},
   "outputs": [
    {
     "name": "stdout",
     "output_type": "stream",
     "text": [
      "10 10\n"
     ]
    }
   ],
   "source": [
    "# Checking the original location:\n",
    "roc1.print_rocket()"
   ]
  },
  {
   "cell_type": "code",
   "execution_count": 24,
   "id": "492956d0",
   "metadata": {},
   "outputs": [],
   "source": [
    "# Applying a movement:\n",
    "roc1.move_rocket(x_increment = 12, y_increment = 1104)"
   ]
  },
  {
   "cell_type": "code",
   "execution_count": 25,
   "id": "b6d094b6",
   "metadata": {},
   "outputs": [
    {
     "name": "stdout",
     "output_type": "stream",
     "text": [
      "22 1114\n"
     ]
    }
   ],
   "source": [
    "# Checking the new location:\n",
    "roc1.print_rocket()"
   ]
  },
  {
   "cell_type": "code",
   "execution_count": 28,
   "id": "ea20a93b",
   "metadata": {},
   "outputs": [
    {
     "data": {
      "text/plain": [
       "22"
      ]
     },
     "execution_count": 28,
     "metadata": {},
     "output_type": "execute_result"
    }
   ],
   "source": [
    "# X-axis location:\n",
    "roc1.x"
   ]
  },
  {
   "cell_type": "code",
   "execution_count": 29,
   "id": "1c8f54f1",
   "metadata": {},
   "outputs": [
    {
     "data": {
      "text/plain": [
       "1114"
      ]
     },
     "execution_count": 29,
     "metadata": {},
     "output_type": "execute_result"
    }
   ],
   "source": [
    "# Y-axis location:\n",
    "roc1.y"
   ]
  },
  {
   "cell_type": "markdown",
   "id": "cbebd251",
   "metadata": {},
   "source": [
    "# Exercise 2\n",
    "#### Create a class Person() with the attributes name, city, mobile, e-mail. Use, at least, 2 special methods in this class. Create an object of this class and make a conection to at least one of your special methods."
   ]
  },
  {
   "cell_type": "code",
   "execution_count": 68,
   "id": "36d363b7",
   "metadata": {},
   "outputs": [],
   "source": [
    "class Pessoa():\n",
    "    \n",
    "    # Special method __init__() -- creating the attributes of each object:\n",
    "    def __init__(self, name =\"\", city=\"\", mobile=\"\", email=\"\"):\n",
    "        self.name = name\n",
    "        self.city = city\n",
    "        self.mobile = mobile\n",
    "        self.email = email\n",
    "    \n",
    "    # Special method __str__() -- print the string always when there is a 'print'\n",
    "    def __str__(self):\n",
    "        print('String function called!')\n",
    "        return 'Name: '+ self.name + ' City: ' + self.city + ' Mobile: ' + self.mobile + ' Email: ' + self.email\n",
    "    \n",
    "    # Special method: __del__() -- destructing an object instantiated\n",
    "    def __del__(self):\n",
    "        print('Destructor called - Instantiated object is deleted!')"
   ]
  },
  {
   "cell_type": "code",
   "execution_count": 69,
   "id": "309c946c",
   "metadata": {},
   "outputs": [],
   "source": [
    "# Instatiating an object:\n",
    "raul = Pessoa('Raul','São Paulo', '99999-9999', 'raul@gmail.com')"
   ]
  },
  {
   "cell_type": "code",
   "execution_count": 70,
   "id": "4c3a60ab",
   "metadata": {},
   "outputs": [
    {
     "name": "stdout",
     "output_type": "stream",
     "text": [
      "String function called!\n"
     ]
    },
    {
     "data": {
      "text/plain": [
       "'Name: Raul City: São Paulo Mobile: 99999-9999 Email: raul@gmail.com'"
      ]
     },
     "execution_count": 70,
     "metadata": {},
     "output_type": "execute_result"
    }
   ],
   "source": [
    "# Special Method 1 - __str__():\n",
    "str(raul)"
   ]
  },
  {
   "cell_type": "code",
   "execution_count": 71,
   "id": "a1054430",
   "metadata": {},
   "outputs": [
    {
     "data": {
      "text/plain": [
       "'São Paulo'"
      ]
     },
     "execution_count": 71,
     "metadata": {},
     "output_type": "execute_result"
    }
   ],
   "source": [
    "# Checkin an attribute of the object:\n",
    "raul.city"
   ]
  },
  {
   "cell_type": "code",
   "execution_count": 72,
   "id": "9e2dfe09",
   "metadata": {},
   "outputs": [
    {
     "name": "stdout",
     "output_type": "stream",
     "text": [
      "Destructor called - Instantiated object is deleted!\n"
     ]
    }
   ],
   "source": [
    "# Special Method 2 - __del__():\n",
    "del raul"
   ]
  },
  {
   "cell_type": "markdown",
   "id": "f53611aa",
   "metadata": {},
   "source": [
    "# Exercise 3\n",
    "#### Create a class Smartphone with 2 attributes: size and O.S. and create a class MP3_player with the attributes capacity. The class MP3_player must inheritage the attributes from the class Smartphone."
   ]
  },
  {
   "cell_type": "code",
   "execution_count": 84,
   "id": "bd9c4f7c",
   "metadata": {},
   "outputs": [],
   "source": [
    "# Super-class:\n",
    "class Smartphone():\n",
    "    def __init__(self, size = '8 inches', operational_system= 'Android'):\n",
    "        self.size = size\n",
    "        self.operational_system = operational_system\n",
    "        \n",
    "# Sub-class:\n",
    "class MP3_player(Smartphone):\n",
    "    def __init__(self, capacity = '64 GB'):\n",
    "        Smartphone.__init__(self)\n",
    "        self.capacity = capacity\n",
    "    def print_MP3_player(self):\n",
    "        print('Wished mobile: %s, %s, %s'%(self.size, self.operational_system, self.capacity))"
   ]
  },
  {
   "cell_type": "code",
   "execution_count": 85,
   "id": "82d4e7cc",
   "metadata": {},
   "outputs": [],
   "source": [
    "device1 = MP3_player('128 GB')"
   ]
  },
  {
   "cell_type": "code",
   "execution_count": 86,
   "id": "7c29ef1b",
   "metadata": {},
   "outputs": [
    {
     "name": "stdout",
     "output_type": "stream",
     "text": [
      "Wished mobile: 8 inches, Android, 128 GB\n"
     ]
    }
   ],
   "source": [
    "device1.print_MP3_player()"
   ]
  }
 ],
 "metadata": {
  "kernelspec": {
   "display_name": "Python 3 (ipykernel)",
   "language": "python",
   "name": "python3"
  },
  "language_info": {
   "codemirror_mode": {
    "name": "ipython",
    "version": 3
   },
   "file_extension": ".py",
   "mimetype": "text/x-python",
   "name": "python",
   "nbconvert_exporter": "python",
   "pygments_lexer": "ipython3",
   "version": "3.9.12"
  }
 },
 "nbformat": 4,
 "nbformat_minor": 5
}
