{
 "cells": [
  {
   "cell_type": "markdown",
   "id": "2987ddc2",
   "metadata": {},
   "source": [
    "# Data Science Academy (DSA) \n",
    "#### (wwww.datascienceacademy.com.br)\n",
    "### Course:  Python Fundamentos para Análise de Dados (PT-BR)\n",
    "###                Python Fundamentals to Data Analysis (ENG-US)\n",
    "## Student: Leonardo Travagini Delboni\n",
    "###  Chapter 4 - Files Treatment, Modules, Packages and Built-in Functions"
   ]
  },
  {
   "cell_type": "code",
   "execution_count": 1,
   "id": "2be09b43",
   "metadata": {},
   "outputs": [
    {
     "name": "stdout",
     "output_type": "stream",
     "text": [
      "Credits: \n",
      "  Created by Data Science Academy (DSA) \n",
      "  Developed by Leonardo Travagini Delboni\n"
     ]
    }
   ],
   "source": [
    "print('Credits: \\n  Created by Data Science Academy (DSA) \\n  Developed by Leonardo Travagini Delboni')"
   ]
  },
  {
   "cell_type": "markdown",
   "id": "366b04e5",
   "metadata": {},
   "source": [
    "# Libraries:"
   ]
  },
  {
   "cell_type": "code",
   "execution_count": 210,
   "id": "2e923bdc",
   "metadata": {},
   "outputs": [],
   "source": [
    "import numpy as np\n",
    "import random as random\n",
    "import datetime\n",
    "import time"
   ]
  },
  {
   "cell_type": "markdown",
   "id": "9cb506c1",
   "metadata": {},
   "source": [
    "# Exercise 1\n",
    "#### Create a list of three elements and find the third power for each element"
   ]
  },
  {
   "cell_type": "code",
   "execution_count": 25,
   "id": "9a49a77d",
   "metadata": {},
   "outputs": [
    {
     "name": "stdout",
     "output_type": "stream",
     "text": [
      "[1.96, 7.35, 1.14]\n"
     ]
    }
   ],
   "source": [
    "# Creating a randomic list of three float elements:\n",
    "lst = list(np.random.uniform(0.0,10.0,3).round(2))\n",
    "print(lst)"
   ]
  },
  {
   "cell_type": "code",
   "execution_count": 26,
   "id": "fe2fd415",
   "metadata": {},
   "outputs": [
    {
     "data": {
      "text/plain": [
       "[7.53, 397.07, 1.48]"
      ]
     },
     "execution_count": 26,
     "metadata": {},
     "output_type": "execute_result"
    }
   ],
   "source": [
    "# Creating the third power calculator function -- using List Comprehension:\n",
    "lst_pow_3 = [round(x**3, 2) for x in lst]\n",
    "lst_pow_3"
   ]
  },
  {
   "cell_type": "markdown",
   "id": "da1fb2e0",
   "metadata": {},
   "source": [
    "# Exercise 2\n",
    "#### Given the code below, write a code that does the same using map(). The input must be the same!"
   ]
  },
  {
   "cell_type": "code",
   "execution_count": 27,
   "id": "ed1a8b48",
   "metadata": {},
   "outputs": [
    {
     "name": "stdout",
     "output_type": "stream",
     "text": [
      "['A', 'a', 1]\n",
      "['DATA', 'data', 4]\n",
      "['SCIENCE', 'science', 7]\n",
      "['ACADEMY', 'academy', 7]\n",
      "['OFERCE', 'oferce', 6]\n",
      "['OS', 'os', 2]\n",
      "['MELHORES', 'melhores', 8]\n",
      "['CURSOS', 'cursos', 6]\n",
      "['DE', 'de', 2]\n",
      "['ANÁLISE', 'análise', 7]\n",
      "['DE', 'de', 2]\n",
      "['DADOS', 'dados', 5]\n",
      "['DO', 'do', 2]\n",
      "['BRASIL', 'brasil', 6]\n"
     ]
    }
   ],
   "source": [
    "# Given code:\n",
    "palavras = 'A Data Science Academy oferce os melhores cursos de análise de dados do Brasil'.split()\n",
    "resultado = [[w.upper(), w.lower(), len(w)] for w in palavras]\n",
    "for i in resultado:\n",
    "    print (i)"
   ]
  },
  {
   "cell_type": "markdown",
   "id": "3a862e4e",
   "metadata": {},
   "source": [
    "#### Beggining of our solution..."
   ]
  },
  {
   "cell_type": "code",
   "execution_count": 54,
   "id": "8209b569",
   "metadata": {},
   "outputs": [
    {
     "data": {
      "text/plain": [
       "['A',\n",
       " 'Data',\n",
       " 'Science',\n",
       " 'Academy',\n",
       " 'oferce',\n",
       " 'os',\n",
       " 'melhores',\n",
       " 'cursos',\n",
       " 'de',\n",
       " 'análise',\n",
       " 'de',\n",
       " 'dados',\n",
       " 'do',\n",
       " 'Brasil']"
      ]
     },
     "execution_count": 54,
     "metadata": {},
     "output_type": "execute_result"
    }
   ],
   "source": [
    "# Input for this program:\n",
    "palavras = 'A Data Science Academy oferce os melhores cursos de análise de dados do Brasil'.split()\n",
    "palavras"
   ]
  },
  {
   "cell_type": "code",
   "execution_count": 55,
   "id": "18dcd337",
   "metadata": {},
   "outputs": [],
   "source": [
    "# Creating the function that will be applied on map()\n",
    "def func():\n",
    "    for x in palavras:\n",
    "        term1 = x.upper()\n",
    "        term2 = x.lower()\n",
    "        term3 = len(x)\n",
    "        term4 = [term1, term2, term3]\n",
    "        print(term4)"
   ]
  },
  {
   "cell_type": "code",
   "execution_count": 56,
   "id": "c25df1e8",
   "metadata": {},
   "outputs": [
    {
     "name": "stdout",
     "output_type": "stream",
     "text": [
      "['A', 'a', 1]\n",
      "['DATA', 'data', 4]\n",
      "['SCIENCE', 'science', 7]\n",
      "['ACADEMY', 'academy', 7]\n",
      "['OFERCE', 'oferce', 6]\n",
      "['OS', 'os', 2]\n",
      "['MELHORES', 'melhores', 8]\n",
      "['CURSOS', 'cursos', 6]\n",
      "['DE', 'de', 2]\n",
      "['ANÁLISE', 'análise', 7]\n",
      "['DE', 'de', 2]\n",
      "['DADOS', 'dados', 5]\n",
      "['DO', 'do', 2]\n",
      "['BRASIL', 'brasil', 6]\n"
     ]
    }
   ],
   "source": [
    "output = map(func(), palavras)"
   ]
  },
  {
   "cell_type": "markdown",
   "id": "024dc83a",
   "metadata": {},
   "source": [
    "# Exercise 3\n",
    "#### Given the following matrix as input, find the transpose matrix."
   ]
  },
  {
   "cell_type": "code",
   "execution_count": 59,
   "id": "78ff1d19",
   "metadata": {},
   "outputs": [],
   "source": [
    "# Input - Matrix:\n",
    "matrix = [[1,2],[3,4],[5,6],[7,8]]"
   ]
  },
  {
   "cell_type": "markdown",
   "id": "38c729e7",
   "metadata": {},
   "source": [
    "#### Beggining of our solution..."
   ]
  },
  {
   "cell_type": "code",
   "execution_count": 69,
   "id": "71fbc27f",
   "metadata": {},
   "outputs": [
    {
     "name": "stdout",
     "output_type": "stream",
     "text": [
      "The matrix is 4 lines per 2 columns.\n",
      "So, the transpose will be 2 lines per 4 columns.\n"
     ]
    }
   ],
   "source": [
    "# Finding the matrix and the transpose dimensions:\n",
    "n_rows = len(matrix)\n",
    "n_columns = len(matrix[0])\n",
    "print('The matrix is',n_rows,'lines per',n_columns,'columns.')\n",
    "print('So, the transpose will be',n_columns,'lines per',n_rows,'columns.')"
   ]
  },
  {
   "cell_type": "code",
   "execution_count": 79,
   "id": "e93e51f2",
   "metadata": {},
   "outputs": [
    {
     "name": "stdout",
     "output_type": "stream",
     "text": [
      "The transpose is:\n",
      " [[1, 3, 5, 7], [2, 4, 6, 8]]\n"
     ]
    }
   ],
   "source": [
    "# Solving through numpy:\n",
    "array = np.array(matrix)                              # Converting to Array format\n",
    "transpose_array = np.array(matrix).T                  # Getting the Transpose in Array format\n",
    "transpose_lol = np.array(matrix).T.tolist()           # Converting the Transpose to list of lists format\n",
    "print('The transpose is:\\n',transpose_lol)                 "
   ]
  },
  {
   "cell_type": "markdown",
   "id": "4c233503",
   "metadata": {},
   "source": [
    "# Exercise 4\n",
    "#### Create 2 functions, one to raise to square and other to cube. Apply them on the following list.\n",
    "#### OBS: They must be applied simultaneously."
   ]
  },
  {
   "cell_type": "code",
   "execution_count": 166,
   "id": "5a2a52f2",
   "metadata": {},
   "outputs": [],
   "source": [
    "# Input:\n",
    "lista = [0, 1, 2, 3, 4]"
   ]
  },
  {
   "cell_type": "markdown",
   "id": "212d86a0",
   "metadata": {},
   "source": [
    "#### Beggining of our solution:"
   ]
  },
  {
   "cell_type": "code",
   "execution_count": 182,
   "id": "0e61ed1f",
   "metadata": {},
   "outputs": [],
   "source": [
    "def square_cube(x):\n",
    "    return [x**2, x**3]"
   ]
  },
  {
   "cell_type": "code",
   "execution_count": 183,
   "id": "ae0d4c64",
   "metadata": {},
   "outputs": [
    {
     "data": {
      "text/plain": [
       "[[0, 0], [1, 1], [4, 8], [9, 27], [16, 64]]"
      ]
     },
     "execution_count": 183,
     "metadata": {},
     "output_type": "execute_result"
    }
   ],
   "source": [
    "# Using map() function:\n",
    "list(map(square_cube, lista))"
   ]
  },
  {
   "cell_type": "code",
   "execution_count": 184,
   "id": "33283016",
   "metadata": {},
   "outputs": [
    {
     "name": "stdout",
     "output_type": "stream",
     "text": [
      "[0, 0]\n",
      "[1, 1]\n",
      "[4, 8]\n",
      "[9, 27]\n",
      "[16, 64]\n"
     ]
    }
   ],
   "source": [
    "# Using Loop For:\n",
    "for element in lista:\n",
    "    print(square_cube(element))"
   ]
  },
  {
   "cell_type": "markdown",
   "id": "3e4edc2a",
   "metadata": {},
   "source": [
    "# Exercise 5\n",
    "#### Find below the two following lists as inputs. Create a function that returns each element from the first list raised to each corrrespondent element of the 2nd list."
   ]
  },
  {
   "cell_type": "code",
   "execution_count": 120,
   "id": "99f301b1",
   "metadata": {},
   "outputs": [],
   "source": [
    "# Inputs:\n",
    "listA = [2, 3, 4]\n",
    "listB = [10 ,11, 12]"
   ]
  },
  {
   "cell_type": "markdown",
   "id": "92ac7415",
   "metadata": {},
   "source": [
    "#### Beggining of our solution:"
   ]
  },
  {
   "cell_type": "code",
   "execution_count": 130,
   "id": "dbe47488",
   "metadata": {},
   "outputs": [
    {
     "name": "stdout",
     "output_type": "stream",
     "text": [
      "[(2, 10), (3, 11), (4, 12)]\n"
     ]
    }
   ],
   "source": [
    "list_tuples = list(zip(listA,listB))  # List of Tuples of the Pairs\n",
    "print(list_tuples) "
   ]
  },
  {
   "cell_type": "code",
   "execution_count": 131,
   "id": "dcef9bdc",
   "metadata": {},
   "outputs": [
    {
     "name": "stdout",
     "output_type": "stream",
     "text": [
      "[[2, 10], [3, 11], [4, 12]]\n"
     ]
    }
   ],
   "source": [
    "# Converting the list of tuples into a list of lists:\n",
    "list_of_lists = [list(tuples) for tuples in list_tuples]\n",
    "print(list_of_lists)"
   ]
  },
  {
   "cell_type": "code",
   "execution_count": 132,
   "id": "b6b6e619",
   "metadata": {},
   "outputs": [
    {
     "name": "stdout",
     "output_type": "stream",
     "text": [
      "[1024, 177147, 16777216]\n"
     ]
    }
   ],
   "source": [
    "# Getting the results - with Loop For and .append():\n",
    "vector =[]\n",
    "for row in list_of_lists:\n",
    "    result = row[0]**row[1]\n",
    "    vector.append(result)\n",
    "print(vector)"
   ]
  },
  {
   "cell_type": "code",
   "execution_count": 136,
   "id": "e5776004",
   "metadata": {},
   "outputs": [
    {
     "name": "stdout",
     "output_type": "stream",
     "text": [
      "[1024, 177147, 16777216]\n"
     ]
    }
   ],
   "source": [
    "# Getting the results - with map() function directly from the begging:\n",
    "print(list(map(pow, listA, listB)))    "
   ]
  },
  {
   "cell_type": "markdown",
   "id": "46659edf",
   "metadata": {},
   "source": [
    "# Exercise 6\n",
    "#### Considering the range between -5 and +5, return only the negative using the filter() function."
   ]
  },
  {
   "cell_type": "code",
   "execution_count": 143,
   "id": "f7a0939e",
   "metadata": {},
   "outputs": [
    {
     "data": {
      "text/plain": [
       "[-5, -4, -3, -2, -1, 0, 1, 2, 3, 4]"
      ]
     },
     "execution_count": 143,
     "metadata": {},
     "output_type": "execute_result"
    }
   ],
   "source": [
    "# Inputs:\n",
    "list_elem = list(range(-5,5))\n",
    "list_elem"
   ]
  },
  {
   "cell_type": "code",
   "execution_count": 144,
   "id": "70216657",
   "metadata": {},
   "outputs": [],
   "source": [
    "# Creating the checker boolean function:\n",
    "def checker(x):\n",
    "    if x >= 0:\n",
    "        return False\n",
    "    else:\n",
    "        return True"
   ]
  },
  {
   "cell_type": "code",
   "execution_count": 145,
   "id": "4bf6f190",
   "metadata": {},
   "outputs": [
    {
     "data": {
      "text/plain": [
       "[-5, -4, -3, -2, -1]"
      ]
     },
     "execution_count": 145,
     "metadata": {},
     "output_type": "execute_result"
    }
   ],
   "source": [
    "# Applying the filter function:\n",
    "results = list(filter(checker,list_elem))\n",
    "results"
   ]
  },
  {
   "cell_type": "markdown",
   "id": "9a53ced6",
   "metadata": {},
   "source": [
    "# Exercise 7\n",
    "#### Given the two lists below as inputs, and using the filter() function, return all the commom values."
   ]
  },
  {
   "cell_type": "code",
   "execution_count": 146,
   "id": "b5177398",
   "metadata": {},
   "outputs": [],
   "source": [
    "# Given inputs:\n",
    "a = [1,2,3,5,7,9]\n",
    "b = [2,3,5,6,7,8]"
   ]
  },
  {
   "cell_type": "markdown",
   "id": "3610b4bc",
   "metadata": {},
   "source": [
    "#### Beggining of our solution:"
   ]
  },
  {
   "cell_type": "code",
   "execution_count": 190,
   "id": "09b1d3fa",
   "metadata": {},
   "outputs": [
    {
     "name": "stdout",
     "output_type": "stream",
     "text": [
      "[2, 3, 5, 7]\n"
     ]
    }
   ],
   "source": [
    "# Alternative solution - Checking all possible iterations using Loop For and Append (without filter):\n",
    "vector =[]\n",
    "for i in a:\n",
    "    for j in b:\n",
    "        if i == j:\n",
    "            vector.append(i)\n",
    "print(vector)"
   ]
  },
  {
   "cell_type": "code",
   "execution_count": 193,
   "id": "f93d577f",
   "metadata": {},
   "outputs": [
    {
     "name": "stdout",
     "output_type": "stream",
     "text": [
      "[2, 3, 5, 7]\n"
     ]
    }
   ],
   "source": [
    "# Solution using filter()\n",
    "print(list(filter(lambda x: x in a, b)))"
   ]
  },
  {
   "cell_type": "markdown",
   "id": "2c1cc63f",
   "metadata": {},
   "source": [
    "# Exercise 8\n",
    "#### Considering the input and its output below, obtain the same results using time package."
   ]
  },
  {
   "cell_type": "code",
   "execution_count": 221,
   "id": "0d7b759e",
   "metadata": {},
   "outputs": [
    {
     "name": "stdout",
     "output_type": "stream",
     "text": [
      "24/10/2022 00:08\n"
     ]
    }
   ],
   "source": [
    "# Inputs:\n",
    "print (datetime.datetime.now().strftime(\"%d/%m/%Y %H:%M\"))"
   ]
  },
  {
   "cell_type": "markdown",
   "id": "6bc00f4b",
   "metadata": {},
   "source": [
    "### Beggining of our solution:"
   ]
  },
  {
   "cell_type": "code",
   "execution_count": 222,
   "id": "3c0f7a69",
   "metadata": {},
   "outputs": [
    {
     "name": "stdout",
     "output_type": "stream",
     "text": [
      "24/10/2022 00:08\n"
     ]
    }
   ],
   "source": [
    "# Using time module:\n",
    "print(time.strftime(\"%d/%m/%Y %H:%M\"))"
   ]
  },
  {
   "cell_type": "markdown",
   "id": "b876fd66",
   "metadata": {},
   "source": [
    "# Exercise 9\n",
    "#### Considering the following two dictionaries. Create a dictionary with the keys from the 1st and the values from the 2nd."
   ]
  },
  {
   "cell_type": "code",
   "execution_count": 239,
   "id": "dbe4607e",
   "metadata": {},
   "outputs": [],
   "source": [
    "# Inputs:\n",
    "dict1 = {'a':1,'b':2}\n",
    "dict2 = {'c':4,'d':5}"
   ]
  },
  {
   "cell_type": "markdown",
   "id": "3dd48c0c",
   "metadata": {},
   "source": [
    "### Beggining of our solution:"
   ]
  },
  {
   "cell_type": "code",
   "execution_count": 241,
   "id": "8d91e58f",
   "metadata": {},
   "outputs": [
    {
     "data": {
      "text/plain": [
       "[('a', 4), ('b', 5)]"
      ]
     },
     "execution_count": 241,
     "metadata": {},
     "output_type": "execute_result"
    }
   ],
   "source": [
    "# Testing the zip():\n",
    "aux = list(zip(dict1, dict2.values()))\n",
    "aux"
   ]
  },
  {
   "cell_type": "code",
   "execution_count": 250,
   "id": "4491a8f4",
   "metadata": {},
   "outputs": [
    {
     "name": "stdout",
     "output_type": "stream",
     "text": [
      "{'a': 4, 'b': 5}\n"
     ]
    }
   ],
   "source": [
    "# Replacing the values of the 1st dictionary with the values from the 2nd one:\n",
    "\n",
    "# Creating a replace function as requested:\n",
    "def replace_values(dict1, dict2):\n",
    "    for d1_key, d2_value in zip(dict1, dict2.values()):\n",
    "        d3[d1_key] = d2_value\n",
    "\n",
    "# Applying the function:\n",
    "replace_values(dict1, dict2)\n",
    "# Printing the final dictionary:\n",
    "print(d3)"
   ]
  },
  {
   "cell_type": "markdown",
   "id": "b1351806",
   "metadata": {},
   "source": [
    "# Exercise 10\n",
    "#### Considering the list below as input, return only the elements with index bigger than 5."
   ]
  },
  {
   "cell_type": "code",
   "execution_count": 251,
   "id": "32dd6d7c",
   "metadata": {},
   "outputs": [],
   "source": [
    "# Input:\n",
    "lista = ['a', 'b', 'c', 'd', 'e', 'f', 'g', 'h']"
   ]
  },
  {
   "cell_type": "markdown",
   "id": "525b3cdf",
   "metadata": {},
   "source": [
    "### Beggining of our solution:"
   ]
  },
  {
   "cell_type": "code",
   "execution_count": 259,
   "id": "4d4f1bed",
   "metadata": {},
   "outputs": [
    {
     "name": "stdout",
     "output_type": "stream",
     "text": [
      "g\n",
      "h\n"
     ]
    }
   ],
   "source": [
    "# Using enumerate coomand:\n",
    "lista_enum = list(enumerate(lista))\n",
    "for index, value in lista_enum:\n",
    "    if index <= 5:\n",
    "        continue\n",
    "    else:\n",
    "        print(value)"
   ]
  },
  {
   "cell_type": "code",
   "execution_count": 260,
   "id": "dd4c2dc8",
   "metadata": {},
   "outputs": [
    {
     "data": {
      "text/plain": [
       "['g', 'h']"
      ]
     },
     "execution_count": 260,
     "metadata": {},
     "output_type": "execute_result"
    }
   ],
   "source": [
    "# Alternative solution - SLICING - Removing the first 5 elements and printing the list:\n",
    "lista_new = lista[6::]\n",
    "lista_new"
   ]
  },
  {
   "cell_type": "markdown",
   "id": "ad0db94a",
   "metadata": {},
   "source": [
    "# Thank you very much!"
   ]
  }
 ],
 "metadata": {
  "kernelspec": {
   "display_name": "Python 3 (ipykernel)",
   "language": "python",
   "name": "python3"
  },
  "language_info": {
   "codemirror_mode": {
    "name": "ipython",
    "version": 3
   },
   "file_extension": ".py",
   "mimetype": "text/x-python",
   "name": "python",
   "nbconvert_exporter": "python",
   "pygments_lexer": "ipython3",
   "version": "3.9.12"
  }
 },
 "nbformat": 4,
 "nbformat_minor": 5
}
